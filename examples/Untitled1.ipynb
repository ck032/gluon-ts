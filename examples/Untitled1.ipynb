{
 "cells": [
  {
   "cell_type": "raw",
   "metadata": {},
   "source": [
    "This is the sample code to check the environment for running GluonTS.\n",
    "\n",
    "Before running sample.py, please check requirement.txt and install required packages.\n",
    "\n",
    "Sample.py includes two deep learning models, DeepAR and MQCNN.\n",
    "\n",
    "Papers about two models for time series forecasting:\n",
    "\n",
    "DeepAR: https://arxiv.org/pdf/1704.04110.pdf\n",
    "\n",
    "MQCNN: https://jeddy92.github.io/JEddy92.github.io/ts_seq2seq_conv/ (wavenet)"
   ]
  },
  {
   "cell_type": "code",
   "execution_count": 3,
   "metadata": {},
   "outputs": [
    {
     "name": "stdout",
     "output_type": "stream",
     "text": [
      "['/home/chenkai/Documents/git_projects/gluon-ts/examples', '/home/chenkai/Documents/git_projects/gluon-ts', '/opt/anaconda/lib/python37.zip', '/opt/anaconda/lib/python3.7', '/opt/anaconda/lib/python3.7/lib-dynload', '', '/home/chenkai/.local/lib/python3.7/site-packages', '/opt/anaconda/lib/python3.7/site-packages', '/opt/anaconda/lib/python3.7/site-packages/pytorchts-0.1.0-py3.7.egg', '/opt/anaconda/lib/python3.7/site-packages/python_rapidjson-0.9.1-py3.7-linux-x86_64.egg', '/opt/anaconda/lib/python3.7/site-packages/pyodds-1.0.0rc1-py3.7.egg', '/opt/anaconda/lib/python3.7/site-packages/hyperopt-0.2.3-py3.7.egg', '/opt/anaconda/lib/python3.7/site-packages/luminol-0.4-py3.7.egg', '/opt/anaconda/lib/python3.7/site-packages/tensorflow-2.0.0b1-py3.7-linux-x86_64.egg', '/opt/anaconda/lib/python3.7/site-packages/networkx-2.2-py3.7.egg', '/opt/anaconda/lib/python3.7/site-packages/TA_Lib-0.4.19-py3.7-linux-x86_64.egg', '/opt/anaconda/lib/python3.7/site-packages/IPython/extensions', '/home/chenkai/.ipython']\n"
     ]
    }
   ],
   "source": [
    "import sys\n",
    "print(sys.path)\n",
    "sys.path.insert(0,'/home/chenkai/Documents/git_projects/gluon-ts/src')"
   ]
  },
  {
   "cell_type": "code",
   "execution_count": 23,
   "metadata": {},
   "outputs": [],
   "source": [
    "from functools import partial\n",
    "\n",
    "import pandas as pd\n",
    "\n",
    "\n",
    "from gluonts.dataset.repository.datasets import get_dataset\n",
    "from gluonts.evaluation import Evaluator\n",
    "from gluonts.evaluation.backtest import make_evaluation_predictions\n",
    "from gluonts.mx.trainer import Trainer\n",
    "from gluonts.model.deepar import DeepAREstimator\n",
    "from gluonts.model.seq2seq import MQRNNEstimator,Seq2SeqEstimator # todo:MQCNNEstimator，gpu会报错"
   ]
  },
  {
   "cell_type": "code",
   "execution_count": 7,
   "metadata": {},
   "outputs": [],
   "source": [
    "epochs = 5\n",
    "num_batches_per_epoch = 10\n",
    "dataset_name = \"m4_hourly\""
   ]
  },
  {
   "cell_type": "code",
   "execution_count": 8,
   "metadata": {},
   "outputs": [],
   "source": [
    "dataset = get_dataset(dataset_name,regenerate=False)"
   ]
  },
  {
   "cell_type": "code",
   "execution_count": 24,
   "metadata": {},
   "outputs": [],
   "source": [
    "# If you want to use GPU, please set ctx=\"gpu(0)\"　/ ctx=\"cpu\"\n",
    "estimators = [\n",
    "    partial(\n",
    "        DeepAREstimator,\n",
    "        trainer=Trainer(\n",
    "            ctx=\"gpu(0)\",\n",
    "            epochs=epochs,\n",
    "            num_batches_per_epoch=num_batches_per_epoch\n",
    "        )\n",
    "    ),\n",
    "    partial(\n",
    "        MQRNNEstimator,\n",
    "        trainer=Trainer(\n",
    "            ctx=\"gpu(0)\",\n",
    "            epochs=epochs,\n",
    "            num_batches_per_epoch=num_batches_per_epoch\n",
    "        )\n",
    "    ),\n",
    "    \n",
    "    partial(\n",
    "        Seq2SeqEstimator,\n",
    "        trainer=Trainer(\n",
    "            ctx=\"gpu(0)\",\n",
    "            epochs=epochs,\n",
    "            num_batches_per_epoch=num_batches_per_epoch\n",
    "        )\n",
    "    ),\n",
    "    \n",
    "]"
   ]
  },
  {
   "cell_type": "code",
   "execution_count": 25,
   "metadata": {},
   "outputs": [
    {
     "name": "stderr",
     "output_type": "stream",
     "text": [
      "\r",
      "  0%|          | 0/10 [00:00<?, ?it/s]"
     ]
    },
    {
     "name": "stdout",
     "output_type": "stream",
     "text": [
      "learning rate from ``lr_scheduler`` has been overwritten by ``learning_rate`` in optimizer.\n"
     ]
    },
    {
     "name": "stderr",
     "output_type": "stream",
     "text": [
      "100%|██████████| 10/10 [00:08<00:00,  1.17it/s, epoch=1/5, avg_epoch_loss=66.1]\n",
      "100%|██████████| 10/10 [00:00<00:00, 19.43it/s, epoch=2/5, avg_epoch_loss=56.7]\n",
      "100%|██████████| 10/10 [00:00<00:00, 19.30it/s, epoch=3/5, avg_epoch_loss=61.8]\n",
      "100%|██████████| 10/10 [00:00<00:00, 19.34it/s, epoch=4/5, avg_epoch_loss=42.8]\n",
      "100%|██████████| 10/10 [00:00<00:00, 21.27it/s, epoch=5/5, avg_epoch_loss=50.6]\n",
      "Running evaluation: 100%|██████████| 414/414 [00:03<00:00, 125.47it/s]\n",
      "  0%|          | 0/10 [00:00<?, ?it/s]"
     ]
    },
    {
     "name": "stdout",
     "output_type": "stream",
     "text": [
      "learning rate from ``lr_scheduler`` has been overwritten by ``learning_rate`` in optimizer.\n"
     ]
    },
    {
     "name": "stderr",
     "output_type": "stream",
     "text": [
      "100%|██████████| 10/10 [00:00<00:00, 13.13it/s, epoch=1/5, avg_epoch_loss=1.01e+3]\n",
      "100%|██████████| 10/10 [00:00<00:00, 12.20it/s, epoch=2/5, avg_epoch_loss=1.02e+3]\n",
      "100%|██████████| 10/10 [00:00<00:00, 11.56it/s, epoch=3/5, avg_epoch_loss=1.01e+3]\n",
      "100%|██████████| 10/10 [00:00<00:00, 11.17it/s, epoch=4/5, avg_epoch_loss=249]\n",
      "100%|██████████| 10/10 [00:00<00:00, 10.82it/s, epoch=5/5, avg_epoch_loss=775]\n",
      "Running evaluation: 100%|██████████| 414/414 [00:01<00:00, 350.71it/s]\n"
     ]
    },
    {
     "ename": "ValidationError",
     "evalue": "5 validation errors for Seq2SeqEstimatorModel\ncardinality\n  field required (type=value_error.missing)\nembedding_dimension\n  field required (type=value_error.missing)\nencoder\n  field required (type=value_error.missing)\ndecoder_mlp_layer\n  field required (type=value_error.missing)\ndecoder_mlp_static_dim\n  field required (type=value_error.missing)",
     "output_type": "error",
     "traceback": [
      "\u001b[0;31m---------------------------------------------------------------------------\u001b[0m",
      "\u001b[0;31mValidationError\u001b[0m                           Traceback (most recent call last)",
      "\u001b[0;32m<ipython-input-25-245591ae35c5>\u001b[0m in \u001b[0;36m<module>\u001b[0;34m\u001b[0m\n\u001b[1;32m      3\u001b[0m     estimator = estimator(\n\u001b[1;32m      4\u001b[0m         \u001b[0mprediction_length\u001b[0m\u001b[0;34m=\u001b[0m\u001b[0mdataset\u001b[0m\u001b[0;34m.\u001b[0m\u001b[0mmetadata\u001b[0m\u001b[0;34m.\u001b[0m\u001b[0mprediction_length\u001b[0m\u001b[0;34m,\u001b[0m\u001b[0;34m\u001b[0m\u001b[0;34m\u001b[0m\u001b[0m\n\u001b[0;32m----> 5\u001b[0;31m         \u001b[0mfreq\u001b[0m\u001b[0;34m=\u001b[0m\u001b[0mdataset\u001b[0m\u001b[0;34m.\u001b[0m\u001b[0mmetadata\u001b[0m\u001b[0;34m.\u001b[0m\u001b[0mfreq\u001b[0m\u001b[0;34m\u001b[0m\u001b[0;34m\u001b[0m\u001b[0m\n\u001b[0m\u001b[1;32m      6\u001b[0m     )\n\u001b[1;32m      7\u001b[0m     \u001b[0mpredictor\u001b[0m \u001b[0;34m=\u001b[0m \u001b[0mestimator\u001b[0m\u001b[0;34m.\u001b[0m\u001b[0mtrain\u001b[0m\u001b[0;34m(\u001b[0m\u001b[0mdataset\u001b[0m\u001b[0;34m.\u001b[0m\u001b[0mtrain\u001b[0m\u001b[0;34m)\u001b[0m\u001b[0;34m\u001b[0m\u001b[0;34m\u001b[0m\u001b[0m\n",
      "\u001b[0;32m~/Documents/git_projects/gluon-ts/src/gluonts/core/component.py\u001b[0m in \u001b[0;36minit_wrapper\u001b[0;34m(*args, **kwargs)\u001b[0m\n\u001b[1;32m    424\u001b[0m                 \u001b[0;32mif\u001b[0m \u001b[0mname\u001b[0m \u001b[0;34m!=\u001b[0m \u001b[0;34m\"self\"\u001b[0m\u001b[0;34m\u001b[0m\u001b[0;34m\u001b[0m\u001b[0m\n\u001b[1;32m    425\u001b[0m             }\n\u001b[0;32m--> 426\u001b[0;31m             \u001b[0mmodel\u001b[0m \u001b[0;34m=\u001b[0m \u001b[0mPydanticModel\u001b[0m\u001b[0;34m(\u001b[0m\u001b[0;34m**\u001b[0m\u001b[0;34m{\u001b[0m\u001b[0;34m**\u001b[0m\u001b[0mnmargs\u001b[0m\u001b[0;34m,\u001b[0m \u001b[0;34m**\u001b[0m\u001b[0mkwargs\u001b[0m\u001b[0;34m}\u001b[0m\u001b[0;34m)\u001b[0m\u001b[0;34m\u001b[0m\u001b[0;34m\u001b[0m\u001b[0m\n\u001b[0m\u001b[1;32m    427\u001b[0m \u001b[0;34m\u001b[0m\u001b[0m\n\u001b[1;32m    428\u001b[0m             \u001b[0;31m# merge nmargs, kwargs, and the model fields into a single dict\u001b[0m\u001b[0;34m\u001b[0m\u001b[0;34m\u001b[0m\u001b[0;34m\u001b[0m\u001b[0m\n",
      "\u001b[0;32m~/.local/lib/python3.7/site-packages/pydantic/main.cpython-37m-x86_64-linux-gnu.so\u001b[0m in \u001b[0;36mpydantic.main.BaseModel.__init__\u001b[0;34m()\u001b[0m\n",
      "\u001b[0;31mValidationError\u001b[0m: 5 validation errors for Seq2SeqEstimatorModel\ncardinality\n  field required (type=value_error.missing)\nembedding_dimension\n  field required (type=value_error.missing)\nencoder\n  field required (type=value_error.missing)\ndecoder_mlp_layer\n  field required (type=value_error.missing)\ndecoder_mlp_static_dim\n  field required (type=value_error.missing)"
     ]
    }
   ],
   "source": [
    "results = []\n",
    "for estimator in estimators:\n",
    "    estimator = estimator(\n",
    "        prediction_length=dataset.metadata.prediction_length,\n",
    "        freq=dataset.metadata.freq\n",
    "    )\n",
    "    predictor = estimator.train(dataset.train)\n",
    "    forecast_it, ts_it = make_evaluation_predictions(\n",
    "        dataset.test, predictor=predictor, num_samples=100\n",
    "    )\n",
    "\n",
    "    agg_metrics, item_metrics = Evaluator()(\n",
    "        ts_it, forecast_it, num_series=len(dataset.test)\n",
    "    )\n",
    "\n",
    "    eval_dict = agg_metrics\n",
    "    eval_dict[\"dataset\"] = dataset_name\n",
    "    eval_dict[\"estimator\"] = type(estimator).__name__\n",
    "    results.append(eval_dict)"
   ]
  },
  {
   "cell_type": "code",
   "execution_count": null,
   "metadata": {},
   "outputs": [],
   "source": [
    "df = pd.DataFrame(results)\n",
    "sub_df = df[\n",
    "    [\n",
    "        \"dataset\",\n",
    "        \"estimator\",\n",
    "        \"MSE\",\n",
    "        \"RMSE\"\n",
    "    ]\n",
    "]\n",
    "print(sub_df)"
   ]
  },
  {
   "cell_type": "code",
   "execution_count": 20,
   "metadata": {},
   "outputs": [],
   "source": [
    "import numpy as np"
   ]
  },
  {
   "cell_type": "code",
   "execution_count": 21,
   "metadata": {},
   "outputs": [
    {
     "data": {
      "text/plain": [
       "0    17625.574842\n",
       "1    42642.924131\n",
       "Name: MSE, dtype: float64"
      ]
     },
     "execution_count": 21,
     "metadata": {},
     "output_type": "execute_result"
    }
   ],
   "source": [
    "np.sqrt(sub_df['MSE'])"
   ]
  }
 ],
 "metadata": {
  "kernelspec": {
   "display_name": "Python 3",
   "language": "python",
   "name": "python3"
  },
  "language_info": {
   "codemirror_mode": {
    "name": "ipython",
    "version": 3
   },
   "file_extension": ".py",
   "mimetype": "text/x-python",
   "name": "python",
   "nbconvert_exporter": "python",
   "pygments_lexer": "ipython3",
   "version": "3.7.6"
  }
 },
 "nbformat": 4,
 "nbformat_minor": 4
}
