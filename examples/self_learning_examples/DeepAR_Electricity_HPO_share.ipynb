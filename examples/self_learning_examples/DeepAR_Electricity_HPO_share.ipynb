{
 "cells": [
  {
   "cell_type": "markdown",
   "metadata": {
    "colab_type": "text",
    "id": "view-in-github"
   },
   "source": [
    "<a href=\"https://colab.research.google.com/github/iskra3138/GluonTS/blob/master/DeepAR_Electricity_HPO_share.ipynb\" target=\"_parent\"><img src=\"https://colab.research.google.com/assets/colab-badge.svg\" alt=\"Open In Colab\"/></a>"
   ]
  },
  {
   "cell_type": "markdown",
   "metadata": {
    "colab_type": "text",
    "id": "MtkVPqoH9Rfy"
   },
   "source": [
    "# Install mxnet and gluonts"
   ]
  },
  {
   "cell_type": "code",
   "execution_count": null,
   "metadata": {
    "colab": {},
    "colab_type": "code",
    "id": "XpYiCxWFwrdF"
   },
   "outputs": [],
   "source": [
    "pip install --upgrade mxnet==1.6 gluonts"
   ]
  },
  {
   "cell_type": "markdown",
   "metadata": {
    "colab_type": "text",
    "id": "LmbEt0H9GYBt"
   },
   "source": [
    "## Dataset Loading"
   ]
  },
  {
   "cell_type": "code",
   "execution_count": null,
   "metadata": {
    "colab": {},
    "colab_type": "code",
    "id": "CS73SazB-iAi"
   },
   "outputs": [],
   "source": [
    "# Third-party imports\n",
    "%matplotlib inline\n",
    "import mxnet as mx\n",
    "from mxnet import gluon\n",
    "#import numpy as np\n",
    "#import pandas as pd\n",
    "import matplotlib.pyplot as plt\n",
    "import json\n",
    "#import os"
   ]
  },
  {
   "cell_type": "code",
   "execution_count": null,
   "metadata": {
    "colab": {},
    "colab_type": "code",
    "id": "YyFHxQYCGWpO"
   },
   "outputs": [],
   "source": [
    "from gluonts.dataset.repository.datasets import get_dataset, dataset_recipes\n",
    "#from gluonts.dataset.util import to_pandas"
   ]
  },
  {
   "cell_type": "code",
   "execution_count": null,
   "metadata": {
    "colab": {},
    "colab_type": "code",
    "id": "CET-Px0euwLy"
   },
   "outputs": [],
   "source": [
    "from gluonts.dataset.common import ListDataset\n",
    "from gluonts.dataset.field_names import FieldName"
   ]
  },
  {
   "cell_type": "code",
   "execution_count": null,
   "metadata": {
    "colab": {},
    "colab_type": "code",
    "id": "PwbJirQ67oj9"
   },
   "outputs": [],
   "source": [
    "from gluonts.model.deepar import DeepAREstimator\n",
    "from gluonts.distribution.gaussian import GaussianOutput\n",
    "from gluonts.distribution.student_t import StudentTOutput\n",
    "from gluonts.trainer import Trainer\n",
    "from gluonts.evaluation.backtest import make_evaluation_predictions\n",
    "from gluonts.evaluation import Evaluator"
   ]
  },
  {
   "cell_type": "markdown",
   "metadata": {
    "colab_type": "text",
    "id": "cqSRuhYNUhe4"
   },
   "source": [
    "## m4_hourly data loading"
   ]
  },
  {
   "cell_type": "code",
   "execution_count": 7,
   "metadata": {
    "colab": {
     "base_uri": "https://localhost:8080/",
     "height": 52
    },
    "colab_type": "code",
    "id": "QUlhWYZLGqAa",
    "outputId": "5db8002b-b3c8-4d95-dc6c-b9b4e3c9c3f9"
   },
   "outputs": [
    {
     "name": "stdout",
     "output_type": "stream",
     "text": [
      "saving time-series into /root/.mxnet/gluon-ts/datasets/m4_hourly/train/data.json\n",
      "saving time-series into /root/.mxnet/gluon-ts/datasets/m4_hourly/test/data.json\n"
     ]
    }
   ],
   "source": [
    "dataset = get_dataset(\"m4_hourly\", regenerate=False)"
   ]
  },
  {
   "cell_type": "code",
   "execution_count": null,
   "metadata": {
    "colab": {},
    "colab_type": "code",
    "id": "Ez4xa_EAuwHV"
   },
   "outputs": [],
   "source": [
    "new_test_ds = ListDataset([{FieldName.START: entry['start'],\n",
    "                        FieldName.TARGET: entry['target'],\n",
    "                        FieldName.FEAT_STATIC_CAT: entry['feat_static_cat'],\n",
    "                        FieldName.ITEM_ID: entry['item_id'],\n",
    "                        }\n",
    "                       for entry in iter(dataset.test) if len(entry['target']) == 21068\n",
    "                       ],\n",
    "                     freq=dataset.metadata.freq)"
   ]
  },
  {
   "cell_type": "markdown",
   "metadata": {
    "colab_type": "text",
    "id": "aGbZq9MqSYgp"
   },
   "source": [
    "## HPO "
   ]
  },
  {
   "cell_type": "code",
   "execution_count": 8,
   "metadata": {
    "colab": {
     "base_uri": "https://localhost:8080/",
     "height": 301
    },
    "colab_type": "code",
    "id": "aWHxvlvpPj7p",
    "outputId": "6cc101e4-2823-4ad3-a9fa-0475f20a175f"
   },
   "outputs": [
    {
     "name": "stdout",
     "output_type": "stream",
     "text": [
      "Collecting hyperopt\n",
      "\u001b[?25l  Downloading https://files.pythonhosted.org/packages/90/d5/c7e276f4f7bc65ac26391c435245e5ef8911b4393e3df5a74906c48afeaf/hyperopt-0.2.4-py2.py3-none-any.whl (964kB)\n",
      "\u001b[K     |████████████████████████████████| 972kB 4.5MB/s \n",
      "\u001b[?25hRequirement already satisfied, skipping upgrade: cloudpickle in /usr/local/lib/python3.6/dist-packages (from hyperopt) (1.3.0)\n",
      "Requirement already satisfied, skipping upgrade: networkx>=2.2 in /usr/local/lib/python3.6/dist-packages (from hyperopt) (2.4)\n",
      "Requirement already satisfied, skipping upgrade: scipy in /usr/local/lib/python3.6/dist-packages (from hyperopt) (1.4.1)\n",
      "Requirement already satisfied, skipping upgrade: future in /usr/local/lib/python3.6/dist-packages (from hyperopt) (0.16.0)\n",
      "Requirement already satisfied, skipping upgrade: numpy in /usr/local/lib/python3.6/dist-packages (from hyperopt) (1.18.4)\n",
      "Requirement already satisfied, skipping upgrade: tqdm in /usr/local/lib/python3.6/dist-packages (from hyperopt) (4.41.1)\n",
      "Requirement already satisfied, skipping upgrade: six in /usr/local/lib/python3.6/dist-packages (from hyperopt) (1.12.0)\n",
      "Requirement already satisfied, skipping upgrade: decorator>=4.3.0 in /usr/local/lib/python3.6/dist-packages (from networkx>=2.2->hyperopt) (4.4.2)\n",
      "Installing collected packages: hyperopt\n",
      "  Found existing installation: hyperopt 0.1.2\n",
      "    Uninstalling hyperopt-0.1.2:\n",
      "      Successfully uninstalled hyperopt-0.1.2\n",
      "Successfully installed hyperopt-0.2.4\n"
     ]
    }
   ],
   "source": [
    "pip install --upgrade hyperopt"
   ]
  },
  {
   "cell_type": "code",
   "execution_count": null,
   "metadata": {
    "colab": {},
    "colab_type": "code",
    "id": "a7w7E8xmaYbk"
   },
   "outputs": [],
   "source": [
    "# choice 탐색 공간\n",
    "space_num_layers = (2, 3)\n",
    "space_num_cells= (30, 40, 50)\n",
    "space_embedding_dimension = (None, [10], [20])\n",
    "space_cell_type = ('lstm', 'gru')"
   ]
  },
  {
   "cell_type": "code",
   "execution_count": null,
   "metadata": {
    "colab": {},
    "colab_type": "code",
    "id": "Sc9F0sTZPj31"
   },
   "outputs": [],
   "source": [
    "from hyperopt import hp\n",
    "from gluonts.evaluation import Evaluator\n",
    "\n",
    "# 탐색할 공간을 정의\n",
    "space = {\n",
    "    'num_layers': hp.choice('nl', space_num_layers),\n",
    "    'num_cells': hp.choice('nc', space_num_cells),\n",
    "    'embedding_dimension': hp.choice('ed', space_embedding_dimension),\n",
    "    'cell_type': hp.choice('ct', space_cell_type),\n",
    "    'learning_rate': hp.uniform('lr', 0.0001, 0.001),\n",
    "}\n",
    "\n",
    "# 테스트할 모델과 평가할 값을 정의\n",
    "def objective(args):\n",
    "    num_layers = args['num_layers']\n",
    "    num_cells = args['num_cells']\n",
    "    embedding_dimension = args['embedding_dimension']\n",
    "    cell_type = args['cell_type']\n",
    "    learning_rate = args['learning_rate']\n",
    "    \n",
    "    kwargs = {\n",
    "        'freq': dataset.metadata.freq,\n",
    "        'prediction_length': dataset.metadata.prediction_length,\n",
    "        'trainer': Trainer(ctx=\"cpu\", learning_rate=learning_rate, epochs=1, hybridize=False),\n",
    "        'num_layers': num_layers,\n",
    "        'num_cells': num_cells,\n",
    "        'use_feat_static_cat': True,\n",
    "        'embedding_dimension': embedding_dimension,\n",
    "        'cardinality': [int(dataset.metadata.feat_static_cat[0].cardinality)],\n",
    "        'cell_type': cell_type,\n",
    "    }\n",
    "    Estimator = DeepAREstimator(**kwargs)\n",
    "    predictor = Estimator.train(dataset.train)\n",
    "    \n",
    "    forecast_it, ts_it = make_evaluation_predictions(\n",
    "        dataset=dataset.test,  #dataset.test,  # test dataset\n",
    "        predictor=predictor,  # predictor\n",
    "        num_samples=100,  # number of sample paths we want for evaluation\n",
    "    )\n",
    "    \n",
    "    evaluator = Evaluator(quantiles=[0.1, 0.5, 0.9])\n",
    "    agg_metrics, item_metrics = evaluator(ts_it, forecast_it, num_series=len(dataset.test))\n",
    "    \n",
    "    return agg_metrics['RMSE']"
   ]
  },
  {
   "cell_type": "code",
   "execution_count": 42,
   "metadata": {
    "colab": {
     "base_uri": "https://localhost:8080/",
     "height": 1000
    },
    "colab_type": "code",
    "id": "1ZvFhMlIPjtp",
    "outputId": "e5bf1d1f-c1ce-415c-8482-62e4fd28b641"
   },
   "outputs": [
    {
     "name": "stdout",
     "output_type": "stream",
     "text": [
      "learning rate from ``lr_scheduler`` has been overwritten by ``learning_rate`` in optimizer.\n",
      "  0%|          | 0/100 [00:00<?, ?trial/s, best loss=?]"
     ]
    },
    {
     "name": "stderr",
     "output_type": "stream",
     "text": [
      "  0%|          | 0/50 [00:00<?, ?it/s]\n",
      "\u001b[A\n",
      " 42%|####2     | 21/50 [00:10<00:14,  2.07it/s, epoch=1/1, avg_epoch_loss=6.77]\n",
      "\u001b[A\n",
      " 86%|########6 | 43/50 [00:20<00:03,  2.08it/s, epoch=1/1, avg_epoch_loss=5.91]\n",
      "\u001b[A\n",
      "100%|##########| 50/50 [00:23<00:00,  2.09it/s, epoch=1/1, avg_epoch_loss=5.89]\n",
      "Running evaluation:   0%|          | 0/414 [00:00<?, ?it/s]\n",
      "\u001b[A\n",
      "Running evaluation:  16%|#5        | 65/414 [00:11<01:03,  5.52it/s]\n",
      "\u001b[A\n",
      "Running evaluation:  39%|###8      | 161/414 [00:23<00:41,  6.15it/s]\n",
      "\u001b[A\n",
      "Running evaluation:  62%|######2   | 257/414 [00:34<00:23,  6.70it/s]\n",
      "\u001b[A\n",
      "Running evaluation:  62%|######2   | 257/414 [00:46<00:23,  6.70it/s]\n",
      "\u001b[A\n",
      "Running evaluation:  85%|########5 | 353/414 [00:46<00:08,  7.12it/s]\n",
      "\u001b[A\n",
      "Running evaluation: 100%|##########| 414/414 [00:49<00:00,  8.33it/s]\n"
     ]
    },
    {
     "name": "stdout",
     "output_type": "stream",
     "text": [
      "learning rate from ``lr_scheduler`` has been overwritten by ``learning_rate`` in optimizer.\n",
      "  1%|          | 1/100 [01:16<2:05:55, 76.32s/trial, best loss: 7978.736308391147]"
     ]
    },
    {
     "name": "stderr",
     "output_type": "stream",
     "text": [
      "  0%|          | 0/50 [00:00<?, ?it/s]\n",
      "\u001b[A\n",
      " 42%|####2     | 21/50 [00:10<00:14,  2.02it/s, epoch=1/1, avg_epoch_loss=6.61]\n",
      "\u001b[A\n",
      " 84%|########4 | 42/50 [00:20<00:03,  2.03it/s, epoch=1/1, avg_epoch_loss=5.89]\n",
      "\u001b[A\n",
      "100%|##########| 50/50 [00:24<00:00,  2.03it/s, epoch=1/1, avg_epoch_loss=5.88]\n",
      "Running evaluation:   0%|          | 0/414 [00:00<?, ?it/s]\n",
      "\u001b[A\n",
      "Running evaluation:  16%|#5        | 65/414 [00:12<01:09,  5.03it/s]\n",
      "\u001b[A\n",
      "Running evaluation:  39%|###8      | 161/414 [00:25<00:45,  5.56it/s]\n",
      "\u001b[A\n",
      "Running evaluation:  62%|######2   | 257/414 [00:38<00:25,  6.05it/s]\n",
      "\u001b[A\n",
      "Running evaluation:  62%|######2   | 257/414 [00:49<00:25,  6.05it/s]\n",
      "\u001b[A\n",
      "Running evaluation:  85%|########5 | 353/414 [00:51<00:09,  6.45it/s]\n",
      "\u001b[A\n",
      "Running evaluation: 100%|##########| 414/414 [00:55<00:00,  7.52it/s]\n"
     ]
    },
    {
     "name": "stdout",
     "output_type": "stream",
     "text": [
      "learning rate from ``lr_scheduler`` has been overwritten by ``learning_rate`` in optimizer.\n",
      "  2%|▏         | 2/100 [02:38<2:07:35, 78.12s/trial, best loss: 6734.00741294185]"
     ]
    },
    {
     "name": "stderr",
     "output_type": "stream",
     "text": [
      "  0%|          | 0/50 [00:00<?, ?it/s]\n",
      "\u001b[A\n",
      " 42%|####2     | 21/50 [00:10<00:14,  2.07it/s, epoch=1/1, avg_epoch_loss=6.24]\n",
      "\u001b[A\n",
      " 84%|########4 | 42/50 [00:20<00:03,  2.07it/s, epoch=1/1, avg_epoch_loss=5.95]\n",
      "\u001b[A\n",
      "100%|##########| 50/50 [00:24<00:00,  2.06it/s, epoch=1/1, avg_epoch_loss=5.71]\n",
      "Running evaluation:   0%|          | 0/414 [00:00<?, ?it/s]\n",
      "\u001b[A\n",
      "Running evaluation:  16%|#5        | 65/414 [00:13<01:13,  4.75it/s]\n",
      "\u001b[A\n",
      "Running evaluation:  16%|#5        | 65/414 [00:27<01:13,  4.75it/s]\n",
      "\u001b[A\n",
      "Running evaluation:  39%|###8      | 161/414 [00:27<00:47,  5.27it/s]\n",
      "\u001b[A\n",
      "Running evaluation:  62%|######2   | 257/414 [00:40<00:27,  5.73it/s]\n",
      "\u001b[A\n",
      "Running evaluation:  85%|########5 | 353/414 [00:54<00:10,  6.09it/s]\n",
      "\u001b[A\n",
      "Running evaluation: 100%|##########| 414/414 [00:58<00:00,  7.10it/s]\n"
     ]
    },
    {
     "name": "stdout",
     "output_type": "stream",
     "text": [
      "learning rate from ``lr_scheduler`` has been overwritten by ``learning_rate`` in optimizer.\n",
      "  3%|▎         | 3/100 [04:03<2:09:41, 80.22s/trial, best loss: 6734.00741294185]"
     ]
    },
    {
     "name": "stderr",
     "output_type": "stream",
     "text": [
      "  0%|          | 0/50 [00:00<?, ?it/s]\n",
      "\u001b[A\n",
      " 44%|####4     | 22/50 [00:10<00:13,  2.11it/s, epoch=1/1, avg_epoch_loss=6.38]\n",
      "\u001b[A\n",
      " 88%|########8 | 44/50 [00:20<00:02,  2.10it/s, epoch=1/1, avg_epoch_loss=5.63]\n",
      "\u001b[A\n",
      "100%|##########| 50/50 [00:23<00:00,  2.10it/s, epoch=1/1, avg_epoch_loss=5.59]\n",
      "Running evaluation:   0%|          | 0/414 [00:00<?, ?it/s]\n",
      "\u001b[A\n",
      "Running evaluation:  16%|#5        | 65/414 [00:13<01:12,  4.80it/s]\n",
      "\u001b[A\n",
      "Running evaluation:  39%|###8      | 161/414 [00:26<00:47,  5.33it/s]\n",
      "\u001b[A\n",
      "Running evaluation:  62%|######2   | 257/414 [00:40<00:27,  5.78it/s]\n",
      "\u001b[A\n",
      "Running evaluation:  62%|######2   | 257/414 [00:52<00:27,  5.78it/s]\n",
      "\u001b[A\n",
      "Running evaluation:  85%|########5 | 353/414 [00:53<00:09,  6.13it/s]\n",
      "\u001b[A\n",
      "Running evaluation: 100%|##########| 414/414 [00:57<00:00,  7.14it/s]\n"
     ]
    },
    {
     "name": "stdout",
     "output_type": "stream",
     "text": [
      "learning rate from ``lr_scheduler`` has been overwritten by ``learning_rate`` in optimizer.\n",
      "  4%|▍         | 4/100 [05:28<2:10:22, 81.48s/trial, best loss: 6734.00741294185]"
     ]
    },
    {
     "name": "stderr",
     "output_type": "stream",
     "text": [
      "  0%|          | 0/50 [00:00<?, ?it/s]\n",
      "\u001b[A\n",
      " 42%|####2     | 21/50 [00:10<00:13,  2.07it/s, epoch=1/1, avg_epoch_loss=6.14]\n",
      "\u001b[A\n",
      " 84%|########4 | 42/50 [00:20<00:03,  2.05it/s, epoch=1/1, avg_epoch_loss=5.41]\n",
      "\u001b[A\n",
      "100%|##########| 50/50 [00:24<00:00,  2.04it/s, epoch=1/1, avg_epoch_loss=5.35]\n",
      "Running evaluation:   0%|          | 0/414 [00:00<?, ?it/s]\n",
      "\u001b[A\n",
      "Running evaluation:  16%|#5        | 65/414 [00:13<01:14,  4.68it/s]\n",
      "\u001b[A\n",
      "Running evaluation:  16%|#5        | 65/414 [00:27<01:14,  4.68it/s]\n",
      "\u001b[A\n",
      "Running evaluation:  39%|###8      | 161/414 [00:27<00:48,  5.20it/s]\n",
      "\u001b[A\n",
      "Running evaluation:  62%|######2   | 257/414 [00:41<00:27,  5.65it/s]\n",
      "\u001b[A\n",
      "Running evaluation:  85%|########5 | 353/414 [00:54<00:10,  6.00it/s]\n",
      "\u001b[A\n",
      "Running evaluation: 100%|##########| 414/414 [00:59<00:00,  6.99it/s]\n"
     ]
    },
    {
     "name": "stdout",
     "output_type": "stream",
     "text": [
      "learning rate from ``lr_scheduler`` has been overwritten by ``learning_rate`` in optimizer.\n",
      "  5%|▌         | 5/100 [06:54<2:11:21, 82.96s/trial, best loss: 4976.470032888484]"
     ]
    },
    {
     "name": "stderr",
     "output_type": "stream",
     "text": [
      "  0%|          | 0/50 [00:00<?, ?it/s]\n",
      "\u001b[A\n",
      " 42%|####2     | 21/50 [00:10<00:14,  2.05it/s, epoch=1/1, avg_epoch_loss=6.1]\n",
      "\u001b[A\n",
      " 84%|########4 | 42/50 [00:20<00:03,  2.05it/s, epoch=1/1, avg_epoch_loss=5.52]\n",
      "\u001b[A\n",
      "100%|##########| 50/50 [00:24<00:00,  2.05it/s, epoch=1/1, avg_epoch_loss=5.49]\n",
      "Running evaluation:   0%|          | 0/414 [00:00<?, ?it/s]\n",
      "\u001b[A\n",
      "Running evaluation:  16%|#5        | 65/414 [00:14<01:16,  4.56it/s]\n",
      "\u001b[A\n",
      "Running evaluation:  39%|###8      | 161/414 [00:28<00:49,  5.07it/s]\n",
      "\u001b[A\n",
      "Running evaluation:  39%|###8      | 161/414 [00:41<00:49,  5.07it/s]\n",
      "\u001b[A\n",
      "Running evaluation:  62%|######2   | 257/414 [00:42<00:28,  5.51it/s]\n",
      "\u001b[A\n",
      "Running evaluation:  85%|########5 | 353/414 [00:56<00:10,  5.85it/s]\n",
      "\u001b[A\n",
      "Running evaluation: 100%|##########| 414/414 [01:00<00:00,  6.81it/s]\n"
     ]
    },
    {
     "name": "stdout",
     "output_type": "stream",
     "text": [
      "learning rate from ``lr_scheduler`` has been overwritten by ``learning_rate`` in optimizer.\n",
      "  6%|▌         | 6/100 [08:22<2:12:16, 84.43s/trial, best loss: 4561.120099175708]"
     ]
    },
    {
     "name": "stderr",
     "output_type": "stream",
     "text": [
      "  0%|          | 0/50 [00:00<?, ?it/s]\n",
      "\u001b[A\n",
      " 28%|##8       | 14/50 [00:10<00:26,  1.37it/s, epoch=1/1, avg_epoch_loss=5.45]\n",
      "\u001b[A\n",
      " 56%|#####6    | 28/50 [00:20<00:16,  1.37it/s, epoch=1/1, avg_epoch_loss=5.26]\n",
      "\u001b[A\n",
      " 84%|########4 | 42/50 [00:30<00:05,  1.37it/s, epoch=1/1, avg_epoch_loss=5.24]\n",
      "\u001b[A\n",
      "100%|##########| 50/50 [00:36<00:00,  1.37it/s, epoch=1/1, avg_epoch_loss=5.35]\n",
      "Running evaluation:   0%|          | 0/414 [00:00<?, ?it/s]\n",
      "\u001b[A\n",
      "Running evaluation:   8%|7         | 33/414 [00:11<02:17,  2.76it/s]\n",
      "\u001b[A\n",
      "Running evaluation:  23%|##3       | 97/414 [00:23<01:37,  3.24it/s]\n",
      "\u001b[A\n",
      "Running evaluation:  39%|###8      | 161/414 [00:35<01:08,  3.70it/s]\n",
      "\u001b[A\n",
      "Running evaluation:  54%|#####4    | 225/414 [00:46<00:46,  4.10it/s]\n",
      "\u001b[A\n",
      "Running evaluation:  70%|######9   | 289/414 [00:58<00:28,  4.44it/s]\n",
      "\u001b[A\n",
      "Running evaluation:  85%|########5 | 353/414 [01:10<00:12,  4.71it/s]\n",
      "\u001b[A\n",
      "Running evaluation: 100%|##########| 414/414 [01:15<00:00,  5.46it/s]\n"
     ]
    },
    {
     "name": "stdout",
     "output_type": "stream",
     "text": [
      "learning rate from ``lr_scheduler`` has been overwritten by ``learning_rate`` in optimizer.\n",
      "  7%|▋         | 7/100 [10:17<2:25:02, 93.58s/trial, best loss: 4561.120099175708]"
     ]
    },
    {
     "name": "stderr",
     "output_type": "stream",
     "text": [
      "  0%|          | 0/50 [00:00<?, ?it/s]\n",
      "\u001b[A\n",
      " 28%|##8       | 14/50 [00:10<00:26,  1.38it/s, epoch=1/1, avg_epoch_loss=5.88]\n",
      "\u001b[A\n",
      " 56%|#####6    | 28/50 [00:20<00:16,  1.37it/s, epoch=1/1, avg_epoch_loss=5.71]\n",
      "\u001b[A\n",
      " 84%|########4 | 42/50 [00:30<00:05,  1.37it/s, epoch=1/1, avg_epoch_loss=5.59]\n",
      "\u001b[A\n",
      "100%|##########| 50/50 [00:36<00:00,  1.37it/s, epoch=1/1, avg_epoch_loss=5.45]\n",
      "Running evaluation:   0%|          | 0/414 [00:00<?, ?it/s]\n",
      "\u001b[A\n",
      "Running evaluation:   8%|7         | 33/414 [00:12<02:18,  2.75it/s]\n",
      "\u001b[A\n",
      "Running evaluation:  23%|##3       | 97/414 [00:23<01:38,  3.23it/s]\n",
      "\u001b[A\n",
      "Running evaluation:  39%|###8      | 161/414 [00:35<01:08,  3.68it/s]\n",
      "\u001b[A\n",
      "Running evaluation:  39%|###8      | 161/414 [00:46<01:08,  3.68it/s]\n",
      "\u001b[A\n",
      "Running evaluation:  54%|#####4    | 225/414 [00:46<00:46,  4.09it/s]\n",
      "\u001b[A\n",
      "Running evaluation:  70%|######9   | 289/414 [00:58<00:28,  4.43it/s]\n",
      "\u001b[A\n",
      "Running evaluation:  85%|########5 | 353/414 [01:10<00:12,  4.70it/s]\n",
      "\u001b[A\n",
      "Running evaluation: 100%|##########| 414/414 [01:15<00:00,  5.46it/s]\n"
     ]
    },
    {
     "name": "stdout",
     "output_type": "stream",
     "text": [
      "learning rate from ``lr_scheduler`` has been overwritten by ``learning_rate`` in optimizer.\n",
      "  8%|▊         | 8/100 [12:12<2:33:23, 100.04s/trial, best loss: 4561.120099175708]"
     ]
    },
    {
     "name": "stderr",
     "output_type": "stream",
     "text": [
      "  0%|          | 0/50 [00:00<?, ?it/s]\n",
      "\u001b[A\n",
      " 30%|###       | 15/50 [00:10<00:24,  1.44it/s, epoch=1/1, avg_epoch_loss=5.98]\n",
      "\u001b[A\n",
      " 60%|######    | 30/50 [00:20<00:13,  1.43it/s, epoch=1/1, avg_epoch_loss=5.99]\n",
      "\u001b[A\n",
      " 90%|######### | 45/50 [00:31<00:03,  1.44it/s, epoch=1/1, avg_epoch_loss=5.84]\n",
      "\u001b[A\n",
      "100%|##########| 50/50 [00:34<00:00,  1.44it/s, epoch=1/1, avg_epoch_loss=5.56]\n",
      "Running evaluation:   0%|          | 0/414 [00:00<?, ?it/s]\n",
      "\u001b[A\n",
      "Running evaluation:  16%|#5        | 65/414 [00:13<01:14,  4.69it/s]\n",
      "\u001b[A\n",
      "Running evaluation:  39%|###8      | 161/414 [00:27<00:48,  5.22it/s]\n",
      "\u001b[A\n",
      "Running evaluation:  62%|######2   | 257/414 [00:40<00:27,  5.67it/s]\n",
      "\u001b[A\n",
      "Running evaluation:  62%|######2   | 257/414 [00:52<00:27,  5.67it/s]\n",
      "\u001b[A\n",
      "Running evaluation:  85%|########5 | 353/414 [00:54<00:10,  6.03it/s]\n",
      "\u001b[A\n",
      "Running evaluation: 100%|##########| 414/414 [00:58<00:00,  7.04it/s]\n"
     ]
    },
    {
     "name": "stdout",
     "output_type": "stream",
     "text": [
      "learning rate from ``lr_scheduler`` has been overwritten by ``learning_rate`` in optimizer.\n",
      "  9%|▉         | 9/100 [13:48<2:30:00, 98.91s/trial, best loss: 4561.120099175708]"
     ]
    },
    {
     "name": "stderr",
     "output_type": "stream",
     "text": [
      "  0%|          | 0/50 [00:00<?, ?it/s]\n",
      "\u001b[A\n",
      " 42%|####2     | 21/50 [00:10<00:14,  2.03it/s, epoch=1/1, avg_epoch_loss=5.95]\n",
      "\u001b[A\n",
      " 84%|########4 | 42/50 [00:20<00:03,  2.02it/s, epoch=1/1, avg_epoch_loss=5.6] \n",
      "\u001b[A\n",
      "100%|##########| 50/50 [00:24<00:00,  2.02it/s, epoch=1/1, avg_epoch_loss=5.42]\n",
      "Running evaluation:   0%|          | 0/414 [00:00<?, ?it/s]\n",
      "\u001b[A\n",
      "Running evaluation:  16%|#5        | 65/414 [00:14<01:18,  4.47it/s]\n",
      "\u001b[A\n",
      "Running evaluation:  16%|#5        | 65/414 [00:26<01:18,  4.47it/s]\n",
      "\u001b[A\n",
      "Running evaluation:  39%|###8      | 161/414 [00:28<00:50,  4.97it/s]\n",
      "\u001b[A\n",
      "Running evaluation:  62%|######2   | 257/414 [00:43<00:29,  5.38it/s]\n",
      "\u001b[A\n",
      "Running evaluation:  62%|######2   | 257/414 [00:56<00:29,  5.38it/s]\n",
      "\u001b[A\n",
      "Running evaluation:  85%|########5 | 353/414 [00:57<00:10,  5.72it/s]\n",
      "\u001b[A\n",
      "Running evaluation: 100%|##########| 414/414 [01:02<00:00,  6.66it/s]\n"
     ]
    },
    {
     "name": "stdout",
     "output_type": "stream",
     "text": [
      "learning rate from ``lr_scheduler`` has been overwritten by ``learning_rate`` in optimizer.\n",
      " 10%|█         | 10/100 [15:18<2:24:07, 96.08s/trial, best loss: 4561.120099175708]"
     ]
    },
    {
     "name": "stderr",
     "output_type": "stream",
     "text": [
      "  0%|          | 0/50 [00:00<?, ?it/s]\n",
      "\u001b[A\n",
      " 30%|###       | 15/50 [00:10<00:24,  1.42it/s, epoch=1/1, avg_epoch_loss=5.52]\n",
      "\u001b[A\n",
      " 60%|######    | 30/50 [00:21<00:14,  1.42it/s, epoch=1/1, avg_epoch_loss=5.52]\n",
      "\u001b[A\n",
      " 90%|######### | 45/50 [00:31<00:03,  1.42it/s, epoch=1/1, avg_epoch_loss=5.41]\n",
      "\u001b[A\n",
      "100%|##########| 50/50 [00:35<00:00,  1.43it/s, epoch=1/1, avg_epoch_loss=5.42]\n",
      "Running evaluation:   0%|          | 0/414 [00:00<?, ?it/s]\n",
      "\u001b[A\n",
      "Running evaluation:   8%|7         | 33/414 [00:10<01:57,  3.25it/s]\n",
      "\u001b[A\n",
      "Running evaluation:  28%|##7       | 114/414 [00:20<01:15,  3.96it/s]\n",
      "\u001b[A\n",
      "Running evaluation:  47%|####7     | 195/414 [00:35<00:50,  4.31it/s]\n",
      "\u001b[A\n",
      "Running evaluation:  47%|####7     | 195/414 [00:46<00:50,  4.31it/s]\n",
      "\u001b[A\n",
      "Running evaluation:  70%|######9   | 289/414 [00:49<00:26,  4.76it/s]\n",
      "\u001b[A\n",
      "Running evaluation:  93%|#########2| 385/414 [01:04<00:05,  5.19it/s]\n",
      "\u001b[A\n",
      "Running evaluation: 100%|##########| 414/414 [01:04<00:00,  6.40it/s]\n"
     ]
    },
    {
     "name": "stdout",
     "output_type": "stream",
     "text": [
      "learning rate from ``lr_scheduler`` has been overwritten by ``learning_rate`` in optimizer.\n",
      " 11%|█         | 11/100 [17:00<2:25:18, 97.97s/trial, best loss: 4561.120099175708]"
     ]
    },
    {
     "name": "stderr",
     "output_type": "stream",
     "text": [
      "  0%|          | 0/50 [00:00<?, ?it/s]\n",
      "\u001b[A\n",
      " 42%|####2     | 21/50 [00:10<00:14,  2.01it/s, epoch=1/1, avg_epoch_loss=6.19]\n",
      "\u001b[A\n",
      " 84%|########4 | 42/50 [00:20<00:03,  2.02it/s, epoch=1/1, avg_epoch_loss=5.64]\n",
      "\u001b[A\n",
      "100%|##########| 50/50 [00:24<00:00,  2.02it/s, epoch=1/1, avg_epoch_loss=5.44]\n",
      "Running evaluation:   0%|          | 0/414 [00:00<?, ?it/s]\n",
      "\u001b[A\n",
      "Running evaluation:  16%|#5        | 65/414 [00:14<01:17,  4.48it/s]\n",
      "\u001b[A\n",
      "Running evaluation:  16%|#5        | 65/414 [00:24<01:17,  4.48it/s]\n",
      "\u001b[A\n",
      "Running evaluation:  39%|###8      | 161/414 [00:28<00:50,  4.97it/s]\n",
      "\u001b[A\n",
      "Running evaluation:  62%|######2   | 257/414 [00:43<00:29,  5.39it/s]\n",
      "\u001b[A\n",
      "Running evaluation:  62%|######2   | 257/414 [00:54<00:29,  5.39it/s]\n",
      "\u001b[A\n",
      "Running evaluation:  85%|########5 | 353/414 [00:57<00:10,  5.73it/s]\n",
      "\u001b[A\n",
      "Running evaluation: 100%|##########| 414/414 [01:02<00:00,  6.67it/s]\n"
     ]
    },
    {
     "name": "stdout",
     "output_type": "stream",
     "text": [
      "learning rate from ``lr_scheduler`` has been overwritten by ``learning_rate`` in optimizer.\n",
      " 12%|█▏        | 12/100 [18:30<2:19:56, 95.41s/trial, best loss: 4561.120099175708]"
     ]
    },
    {
     "name": "stderr",
     "output_type": "stream",
     "text": [
      "  0%|          | 0/50 [00:00<?, ?it/s]\n",
      "\u001b[A\n",
      " 44%|####4     | 22/50 [00:10<00:13,  2.11it/s, epoch=1/1, avg_epoch_loss=6.07]\n",
      "\u001b[A\n",
      " 88%|########8 | 44/50 [00:20<00:02,  2.11it/s, epoch=1/1, avg_epoch_loss=5.71]\n",
      "\u001b[A\n",
      "100%|##########| 50/50 [00:23<00:00,  2.12it/s, epoch=1/1, avg_epoch_loss=5.67]\n",
      "Running evaluation:   0%|          | 0/414 [00:00<?, ?it/s]\n",
      "\u001b[A\n",
      "Running evaluation:  16%|#5        | 65/414 [00:12<01:05,  5.34it/s]\n",
      "\u001b[A\n",
      "Running evaluation:  39%|###8      | 161/414 [00:24<00:42,  5.94it/s]\n",
      "\u001b[A\n",
      "Running evaluation:  62%|######2   | 257/414 [00:36<00:24,  6.44it/s]\n",
      "\u001b[A\n",
      "Running evaluation:  62%|######2   | 257/414 [00:46<00:24,  6.44it/s]\n",
      "\u001b[A\n",
      "Running evaluation:  85%|########5 | 353/414 [00:48<00:08,  6.84it/s]\n",
      "\u001b[A\n",
      "Running evaluation: 100%|##########| 414/414 [00:51<00:00,  7.97it/s]\n"
     ]
    },
    {
     "name": "stdout",
     "output_type": "stream",
     "text": [
      "learning rate from ``lr_scheduler`` has been overwritten by ``learning_rate`` in optimizer.\n",
      " 13%|█▎        | 13/100 [19:48<2:10:54, 90.28s/trial, best loss: 4561.120099175708]"
     ]
    },
    {
     "name": "stderr",
     "output_type": "stream",
     "text": [
      "  0%|          | 0/50 [00:00<?, ?it/s]\n",
      "\u001b[A\n",
      " 42%|####2     | 21/50 [00:10<00:14,  2.03it/s, epoch=1/1, avg_epoch_loss=5.91]\n",
      "\u001b[A\n",
      " 84%|########4 | 42/50 [00:20<00:03,  2.03it/s, epoch=1/1, avg_epoch_loss=5.34]\n",
      "\u001b[A\n",
      "100%|##########| 50/50 [00:24<00:00,  2.03it/s, epoch=1/1, avg_epoch_loss=5.36]\n",
      "Running evaluation:   0%|          | 0/414 [00:00<?, ?it/s]\n",
      "\u001b[A\n",
      "Running evaluation:  16%|#5        | 65/414 [00:14<01:15,  4.63it/s]\n",
      "\u001b[A\n",
      "Running evaluation:  16%|#5        | 65/414 [00:27<01:15,  4.63it/s]\n",
      "\u001b[A\n",
      "Running evaluation:  39%|###8      | 161/414 [00:27<00:49,  5.14it/s]\n",
      "\u001b[A\n",
      "Running evaluation:  62%|######2   | 257/414 [00:41<00:28,  5.58it/s]\n",
      "\u001b[A\n",
      "Running evaluation:  85%|########5 | 353/414 [00:55<00:10,  5.94it/s]\n",
      "\u001b[A\n",
      "Running evaluation: 100%|##########| 414/414 [00:59<00:00,  6.93it/s]\n"
     ]
    },
    {
     "name": "stdout",
     "output_type": "stream",
     "text": [
      "learning rate from ``lr_scheduler`` has been overwritten by ``learning_rate`` in optimizer.\n",
      " 14%|█▍        | 14/100 [21:15<2:08:00, 89.31s/trial, best loss: 4561.120099175708]"
     ]
    },
    {
     "name": "stderr",
     "output_type": "stream",
     "text": [
      "  0%|          | 0/50 [00:00<?, ?it/s]\n",
      "\u001b[A\n",
      " 40%|####      | 20/50 [00:10<00:15,  1.99it/s, epoch=1/1, avg_epoch_loss=6.43]\n",
      "\u001b[A\n",
      " 82%|########2 | 41/50 [00:20<00:04,  2.02it/s, epoch=1/1, avg_epoch_loss=5.67]\n",
      "\u001b[A\n",
      "100%|##########| 50/50 [00:24<00:00,  2.03it/s, epoch=1/1, avg_epoch_loss=5.59]\n",
      "Running evaluation:   0%|          | 0/414 [00:00<?, ?it/s]\n",
      "\u001b[A\n",
      "Running evaluation:  16%|#5        | 65/414 [00:13<01:12,  4.80it/s]\n",
      "\u001b[A\n",
      "Running evaluation:  39%|###8      | 161/414 [00:26<00:47,  5.33it/s]\n",
      "\u001b[A\n",
      "Running evaluation:  39%|###8      | 161/414 [00:40<00:47,  5.33it/s]\n",
      "\u001b[A\n",
      "Running evaluation:  62%|######2   | 257/414 [00:40<00:27,  5.78it/s]\n",
      "\u001b[A\n",
      "Running evaluation:  85%|########5 | 353/414 [00:53<00:09,  6.14it/s]\n",
      "\u001b[A\n",
      "Running evaluation: 100%|##########| 414/414 [00:57<00:00,  7.15it/s]\n"
     ]
    },
    {
     "name": "stdout",
     "output_type": "stream",
     "text": [
      "learning rate from ``lr_scheduler`` has been overwritten by ``learning_rate`` in optimizer.\n",
      " 15%|█▌        | 15/100 [22:40<2:04:43, 88.04s/trial, best loss: 4561.120099175708]"
     ]
    },
    {
     "name": "stderr",
     "output_type": "stream",
     "text": [
      "  0%|          | 0/50 [00:00<?, ?it/s]\n",
      "\u001b[A\n",
      " 44%|####4     | 22/50 [00:10<00:12,  2.18it/s, epoch=1/1, avg_epoch_loss=6.11]\n",
      "\u001b[A\n",
      " 88%|########8 | 44/50 [00:20<00:02,  2.18it/s, epoch=1/1, avg_epoch_loss=5.82]\n",
      "\u001b[A\n",
      "100%|##########| 50/50 [00:22<00:00,  2.18it/s, epoch=1/1, avg_epoch_loss=5.63]\n",
      "Running evaluation:   0%|          | 0/414 [00:00<?, ?it/s]\n",
      "\u001b[A\n",
      "Running evaluation:  16%|#5        | 65/414 [00:11<01:00,  5.78it/s]\n",
      "\u001b[A\n",
      "Running evaluation:  39%|###8      | 161/414 [00:22<00:39,  6.43it/s]\n",
      "\u001b[A\n",
      "Running evaluation:  62%|######2   | 257/414 [00:33<00:22,  6.99it/s]\n",
      "\u001b[A\n",
      "Running evaluation:  85%|########5 | 353/414 [00:44<00:08,  7.43it/s]\n",
      "\u001b[A\n",
      "Running evaluation: 100%|##########| 414/414 [00:47<00:00,  8.67it/s]\n"
     ]
    },
    {
     "name": "stdout",
     "output_type": "stream",
     "text": [
      "learning rate from ``lr_scheduler`` has been overwritten by ``learning_rate`` in optimizer.\n",
      " 16%|█▌        | 16/100 [23:53<1:57:03, 83.61s/trial, best loss: 4561.120099175708]"
     ]
    },
    {
     "name": "stderr",
     "output_type": "stream",
     "text": [
      "  0%|          | 0/50 [00:00<?, ?it/s]\n",
      "\u001b[A\n",
      " 30%|###       | 15/50 [00:10<00:24,  1.41it/s, epoch=1/1, avg_epoch_loss=6.13]\n",
      "\u001b[A\n",
      " 60%|######    | 30/50 [00:21<00:14,  1.41it/s, epoch=1/1, avg_epoch_loss=6.2] \n",
      "\u001b[A\n",
      " 90%|######### | 45/50 [00:31<00:03,  1.41it/s, epoch=1/1, avg_epoch_loss=5.94]\n",
      "\u001b[A\n",
      "100%|##########| 50/50 [00:35<00:00,  1.41it/s, epoch=1/1, avg_epoch_loss=5.71]\n",
      "Running evaluation:   0%|          | 0/414 [00:00<?, ?it/s]\n",
      "\u001b[A\n",
      "Running evaluation:   8%|7         | 33/414 [00:10<02:01,  3.13it/s]\n",
      "\u001b[A\n",
      "Running evaluation:  23%|##3       | 97/414 [00:20<01:26,  3.67it/s]\n",
      "\u001b[A\n",
      "Running evaluation:  23%|##3       | 97/414 [00:31<01:26,  3.67it/s]\n",
      "\u001b[A\n",
      "Running evaluation:  39%|###8      | 161/414 [00:31<01:00,  4.19it/s]\n",
      "\u001b[A\n",
      "Running evaluation:  54%|#####4    | 225/414 [00:41<00:40,  4.65it/s]\n",
      "\u001b[A\n",
      "Running evaluation:  70%|######9   | 289/414 [00:51<00:24,  5.03it/s]\n",
      "\u001b[A\n",
      "Running evaluation:  85%|########5 | 353/414 [01:01<00:11,  5.34it/s]\n",
      "\u001b[A\n",
      "Running evaluation: 100%|##########| 414/414 [01:06<00:00,  6.20it/s]\n"
     ]
    },
    {
     "name": "stdout",
     "output_type": "stream",
     "text": [
      "learning rate from ``lr_scheduler`` has been overwritten by ``learning_rate`` in optimizer.\n",
      " 17%|█▋        | 17/100 [25:38<2:04:27, 89.97s/trial, best loss: 4561.120099175708]"
     ]
    },
    {
     "name": "stderr",
     "output_type": "stream",
     "text": [
      "  0%|          | 0/50 [00:00<?, ?it/s]\n",
      "\u001b[A\n",
      " 28%|##8       | 14/50 [00:10<00:25,  1.39it/s, epoch=1/1, avg_epoch_loss=6.43]\n",
      "\u001b[A\n",
      " 56%|#####6    | 28/50 [00:20<00:15,  1.38it/s, epoch=1/1, avg_epoch_loss=5.99]\n",
      "\u001b[A\n",
      " 84%|########4 | 42/50 [00:30<00:05,  1.38it/s, epoch=1/1, avg_epoch_loss=5.82]\n",
      "\u001b[A\n",
      "100%|##########| 50/50 [00:36<00:00,  1.38it/s, epoch=1/1, avg_epoch_loss=5.73]\n",
      "Running evaluation:   0%|          | 0/414 [00:00<?, ?it/s]\n",
      "\u001b[A\n",
      "Running evaluation:   8%|7         | 33/414 [00:11<02:16,  2.80it/s]\n",
      "\u001b[A\n",
      "Running evaluation:  23%|##3       | 97/414 [00:23<01:36,  3.29it/s]\n",
      "\u001b[A\n",
      "Running evaluation:  39%|###8      | 161/414 [00:34<01:07,  3.76it/s]\n",
      "\u001b[A\n",
      "Running evaluation:  39%|###8      | 161/414 [00:45<01:07,  3.76it/s]\n",
      "\u001b[A\n",
      "Running evaluation:  54%|#####4    | 225/414 [00:46<00:45,  4.17it/s]\n",
      "\u001b[A\n",
      "Running evaluation:  70%|######9   | 289/414 [00:57<00:27,  4.52it/s]\n",
      "\u001b[A\n",
      "Running evaluation:  85%|########5 | 353/414 [01:08<00:12,  4.80it/s]\n",
      "\u001b[A\n",
      "Running evaluation: 100%|##########| 414/414 [01:14<00:00,  5.57it/s]\n"
     ]
    },
    {
     "name": "stdout",
     "output_type": "stream",
     "text": [
      "learning rate from ``lr_scheduler`` has been overwritten by ``learning_rate`` in optimizer.\n",
      " 18%|█▊        | 18/100 [27:31<2:12:29, 96.95s/trial, best loss: 4561.120099175708]"
     ]
    },
    {
     "name": "stderr",
     "output_type": "stream",
     "text": [
      "  0%|          | 0/50 [00:00<?, ?it/s]\n",
      "\u001b[A\n",
      " 44%|####4     | 22/50 [00:10<00:12,  2.20it/s, epoch=1/1, avg_epoch_loss=6.03]\n",
      "\u001b[A\n",
      " 88%|########8 | 44/50 [00:20<00:02,  2.19it/s, epoch=1/1, avg_epoch_loss=5.73]\n",
      "\u001b[A\n",
      "100%|##########| 50/50 [00:22<00:00,  2.19it/s, epoch=1/1, avg_epoch_loss=5.77]\n",
      "Running evaluation:   0%|          | 0/414 [00:00<?, ?it/s]\n",
      "\u001b[A\n",
      "Running evaluation:  16%|#5        | 65/414 [00:10<00:57,  6.02it/s]\n",
      "\u001b[A\n",
      "Running evaluation:  39%|###8      | 161/414 [00:21<00:37,  6.69it/s]\n",
      "\u001b[A\n",
      "Running evaluation:  62%|######2   | 257/414 [00:32<00:21,  7.26it/s]\n",
      "\u001b[A\n",
      "Running evaluation:  85%|########5 | 353/414 [00:42<00:07,  7.71it/s]\n",
      "\u001b[A\n",
      "Running evaluation: 100%|##########| 414/414 [00:46<00:00,  8.99it/s]\n"
     ]
    },
    {
     "name": "stdout",
     "output_type": "stream",
     "text": [
      "learning rate from ``lr_scheduler`` has been overwritten by ``learning_rate`` in optimizer.\n",
      " 19%|█▉        | 19/100 [28:43<2:00:31, 89.28s/trial, best loss: 4561.120099175708]"
     ]
    },
    {
     "name": "stderr",
     "output_type": "stream",
     "text": [
      "  0%|          | 0/50 [00:00<?, ?it/s]\n",
      "\u001b[A\n",
      " 44%|####4     | 22/50 [00:10<00:12,  2.17it/s, epoch=1/1, avg_epoch_loss=6.25]\n",
      "\u001b[A\n",
      " 88%|########8 | 44/50 [00:20<00:02,  2.17it/s, epoch=1/1, avg_epoch_loss=5.51]\n",
      "\u001b[A\n",
      "100%|##########| 50/50 [00:23<00:00,  2.17it/s, epoch=1/1, avg_epoch_loss=5.53]\n",
      "Running evaluation:   0%|          | 0/414 [00:00<?, ?it/s]\n",
      "\u001b[A\n",
      "Running evaluation:  16%|#5        | 65/414 [00:11<01:01,  5.67it/s]\n",
      "\u001b[A\n",
      "Running evaluation:  39%|###8      | 161/414 [00:22<00:40,  6.31it/s]\n",
      "\u001b[A\n",
      "Running evaluation:  62%|######2   | 257/414 [00:33<00:22,  6.85it/s]\n",
      "\u001b[A\n",
      "Running evaluation:  62%|######2   | 257/414 [00:44<00:22,  6.85it/s]\n",
      "\u001b[A\n",
      "Running evaluation:  85%|########5 | 353/414 [00:45<00:08,  7.26it/s]\n",
      "\u001b[A\n",
      "Running evaluation: 100%|##########| 414/414 [00:48<00:00,  8.48it/s]\n"
     ]
    },
    {
     "name": "stdout",
     "output_type": "stream",
     "text": [
      "learning rate from ``lr_scheduler`` has been overwritten by ``learning_rate`` in optimizer.\n",
      " 20%|██        | 20/100 [29:57<1:53:06, 84.83s/trial, best loss: 4561.120099175708]"
     ]
    },
    {
     "name": "stderr",
     "output_type": "stream",
     "text": [
      "  0%|          | 0/50 [00:00<?, ?it/s]\n",
      "\u001b[A\n",
      " 42%|####2     | 21/50 [00:10<00:14,  2.05it/s, epoch=1/1, avg_epoch_loss=6.24]\n",
      "\u001b[A\n",
      " 84%|########4 | 42/50 [00:20<00:03,  2.05it/s, epoch=1/1, avg_epoch_loss=5.56]\n",
      "\u001b[A\n",
      "100%|##########| 50/50 [00:24<00:00,  2.05it/s, epoch=1/1, avg_epoch_loss=5.56]\n",
      "Running evaluation:   0%|          | 0/414 [00:00<?, ?it/s]\n",
      "\u001b[A\n",
      "Running evaluation:  16%|#5        | 65/414 [00:14<01:16,  4.54it/s]\n",
      "\u001b[A\n",
      "Running evaluation:  16%|#5        | 65/414 [00:28<01:16,  4.54it/s]\n",
      "\u001b[A\n",
      "Running evaluation:  39%|###8      | 161/414 [00:28<00:50,  5.05it/s]\n",
      "\u001b[A\n",
      "Running evaluation:  62%|######2   | 257/414 [00:42<00:28,  5.51it/s]\n",
      "\u001b[A\n",
      "Running evaluation:  85%|########5 | 353/414 [00:55<00:10,  5.88it/s]\n",
      "\u001b[A\n",
      "Running evaluation: 100%|##########| 414/414 [01:00<00:00,  6.87it/s]\n"
     ]
    },
    {
     "name": "stdout",
     "output_type": "stream",
     "text": [
      "learning rate from ``lr_scheduler`` has been overwritten by ``learning_rate`` in optimizer.\n",
      " 21%|██        | 21/100 [31:24<1:52:39, 85.56s/trial, best loss: 4561.120099175708]"
     ]
    },
    {
     "name": "stderr",
     "output_type": "stream",
     "text": [
      "  0%|          | 0/50 [00:00<?, ?it/s]\n",
      "\u001b[A\n",
      " 44%|####4     | 22/50 [00:10<00:13,  2.11it/s, epoch=1/1, avg_epoch_loss=5.6]\n",
      "\u001b[A\n",
      " 88%|########8 | 44/50 [00:21<00:02,  2.09it/s, epoch=1/1, avg_epoch_loss=5.38]\n",
      "\u001b[A\n",
      "100%|##########| 50/50 [00:23<00:00,  2.08it/s, epoch=1/1, avg_epoch_loss=5.19]\n",
      "Running evaluation:   0%|          | 0/414 [00:00<?, ?it/s]\n",
      "\u001b[A\n",
      "Running evaluation:  16%|#5        | 65/414 [00:13<01:14,  4.70it/s]\n",
      "\u001b[A\n",
      "Running evaluation:  39%|###8      | 161/414 [00:27<00:48,  5.23it/s]\n",
      "\u001b[A\n",
      "Running evaluation:  62%|######2   | 257/414 [00:40<00:27,  5.69it/s]\n",
      "\u001b[A\n",
      "Running evaluation:  62%|######2   | 257/414 [00:51<00:27,  5.69it/s]\n",
      "\u001b[A\n",
      "Running evaluation:  85%|########5 | 353/414 [00:54<00:10,  6.06it/s]\n",
      "\u001b[A\n",
      "Running evaluation: 100%|##########| 414/414 [00:58<00:00,  7.09it/s]\n"
     ]
    },
    {
     "name": "stdout",
     "output_type": "stream",
     "text": [
      "learning rate from ``lr_scheduler`` has been overwritten by ``learning_rate`` in optimizer.\n",
      " 22%|██▏       | 22/100 [32:49<1:50:57, 85.36s/trial, best loss: 4561.120099175708]"
     ]
    },
    {
     "name": "stderr",
     "output_type": "stream",
     "text": [
      "  0%|          | 0/50 [00:00<?, ?it/s]\n",
      "\u001b[A\n",
      " 44%|####4     | 22/50 [00:10<00:12,  2.18it/s, epoch=1/1, avg_epoch_loss=6.32]\n",
      "\u001b[A\n",
      " 88%|########8 | 44/50 [00:20<00:02,  2.17it/s, epoch=1/1, avg_epoch_loss=5.97]\n",
      "\u001b[A\n",
      "100%|##########| 50/50 [00:23<00:00,  2.17it/s, epoch=1/1, avg_epoch_loss=5.9] \n",
      "Running evaluation:   0%|          | 0/414 [00:00<?, ?it/s]\n",
      "\u001b[A\n",
      "Running evaluation:  16%|#5        | 65/414 [00:13<01:11,  4.91it/s]\n",
      "\u001b[A\n",
      "Running evaluation:  39%|###8      | 161/414 [00:26<00:46,  5.47it/s]\n",
      "\u001b[A\n",
      "Running evaluation:  39%|###8      | 161/414 [00:37<00:46,  5.47it/s]\n",
      "\u001b[A\n",
      "Running evaluation:  62%|######2   | 257/414 [00:38<00:26,  5.96it/s]\n",
      "\u001b[A\n",
      "Running evaluation:  85%|########5 | 353/414 [00:51<00:09,  6.35it/s]\n",
      "\u001b[A\n",
      "Running evaluation: 100%|##########| 414/414 [00:55<00:00,  7.42it/s]\n"
     ]
    },
    {
     "name": "stdout",
     "output_type": "stream",
     "text": [
      "learning rate from ``lr_scheduler`` has been overwritten by ``learning_rate`` in optimizer.\n",
      " 23%|██▎       | 23/100 [34:11<1:48:00, 84.16s/trial, best loss: 4561.120099175708]"
     ]
    },
    {
     "name": "stderr",
     "output_type": "stream",
     "text": [
      "  0%|          | 0/50 [00:00<?, ?it/s]\n",
      "\u001b[A\n",
      " 44%|####4     | 22/50 [00:10<00:13,  2.15it/s, epoch=1/1, avg_epoch_loss=6.66]\n",
      "\u001b[A\n",
      " 88%|########8 | 44/50 [00:20<00:02,  2.16it/s, epoch=1/1, avg_epoch_loss=5.91]\n",
      "\u001b[A\n",
      "100%|##########| 50/50 [00:23<00:00,  2.16it/s, epoch=1/1, avg_epoch_loss=5.82]\n",
      "Running evaluation:   0%|          | 0/414 [00:00<?, ?it/s]\n",
      "\u001b[A\n",
      "Running evaluation:  16%|#5        | 65/414 [00:13<01:15,  4.65it/s]\n",
      "\u001b[A\n",
      "Running evaluation:  16%|#5        | 65/414 [00:26<01:15,  4.65it/s]\n",
      "\u001b[A\n",
      "Running evaluation:  39%|###8      | 161/414 [00:27<00:48,  5.17it/s]\n",
      "\u001b[A\n",
      "Running evaluation:  62%|######2   | 257/414 [00:41<00:27,  5.62it/s]\n",
      "\u001b[A\n",
      "Running evaluation:  85%|########5 | 353/414 [00:54<00:10,  6.00it/s]\n",
      "\u001b[A\n",
      "Running evaluation: 100%|##########| 414/414 [00:59<00:00,  7.01it/s]\n"
     ]
    },
    {
     "name": "stdout",
     "output_type": "stream",
     "text": [
      "learning rate from ``lr_scheduler`` has been overwritten by ``learning_rate`` in optimizer.\n",
      " 24%|██▍       | 24/100 [35:36<1:46:51, 84.36s/trial, best loss: 4561.120099175708]"
     ]
    },
    {
     "name": "stderr",
     "output_type": "stream",
     "text": [
      "  0%|          | 0/50 [00:00<?, ?it/s]\n",
      "\u001b[A\n",
      " 44%|####4     | 22/50 [00:10<00:12,  2.19it/s, epoch=1/1, avg_epoch_loss=6.77]\n",
      "\u001b[A\n",
      " 88%|########8 | 44/50 [00:20<00:02,  2.19it/s, epoch=1/1, avg_epoch_loss=6.33]\n",
      "\u001b[A\n",
      "100%|##########| 50/50 [00:22<00:00,  2.19it/s, epoch=1/1, avg_epoch_loss=6.06]\n",
      "Running evaluation:   0%|          | 0/414 [00:00<?, ?it/s]\n",
      "\u001b[A\n",
      "Running evaluation:  16%|#5        | 65/414 [00:13<01:11,  4.85it/s]\n",
      "\u001b[A\n",
      "Running evaluation:  39%|###8      | 161/414 [00:26<00:46,  5.40it/s]\n",
      "\u001b[A\n",
      "Running evaluation:  62%|######2   | 257/414 [00:39<00:26,  5.87it/s]\n",
      "\u001b[A\n",
      "Running evaluation:  62%|######2   | 257/414 [00:51<00:26,  5.87it/s]\n",
      "\u001b[A\n",
      "Running evaluation:  85%|########5 | 353/414 [00:52<00:09,  6.25it/s]\n",
      "\u001b[A\n",
      "Running evaluation: 100%|##########| 414/414 [00:56<00:00,  7.30it/s]\n"
     ]
    },
    {
     "name": "stdout",
     "output_type": "stream",
     "text": [
      "learning rate from ``lr_scheduler`` has been overwritten by ``learning_rate`` in optimizer.\n",
      " 25%|██▌       | 25/100 [36:57<1:44:33, 83.65s/trial, best loss: 4561.120099175708]"
     ]
    },
    {
     "name": "stderr",
     "output_type": "stream",
     "text": [
      "  0%|          | 0/50 [00:00<?, ?it/s]\n",
      "\u001b[A\n",
      " 44%|####4     | 22/50 [00:10<00:12,  2.16it/s, epoch=1/1, avg_epoch_loss=6.03]\n",
      "\u001b[A\n",
      " 88%|########8 | 44/50 [00:20<00:02,  2.15it/s, epoch=1/1, avg_epoch_loss=5.8] \n",
      "\u001b[A\n",
      "100%|##########| 50/50 [00:23<00:00,  2.14it/s, epoch=1/1, avg_epoch_loss=5.44]\n",
      "Running evaluation:   0%|          | 0/414 [00:00<?, ?it/s]\n",
      "\u001b[A\n",
      "Running evaluation:  16%|#5        | 65/414 [00:14<01:17,  4.50it/s]\n",
      "\u001b[A\n",
      "Running evaluation:  39%|###8      | 161/414 [00:28<00:50,  5.00it/s]\n",
      "\u001b[A\n",
      "Running evaluation:  39%|###8      | 161/414 [00:39<00:50,  5.00it/s]\n",
      "\u001b[A\n",
      "Running evaluation:  62%|######2   | 257/414 [00:43<00:29,  5.41it/s]\n",
      "\u001b[A\n",
      "Running evaluation:  85%|########5 | 353/414 [00:57<00:10,  5.68it/s]\n",
      "\u001b[A\n",
      "Running evaluation: 100%|##########| 414/414 [01:02<00:00,  6.62it/s]\n"
     ]
    },
    {
     "name": "stdout",
     "output_type": "stream",
     "text": [
      "learning rate from ``lr_scheduler`` has been overwritten by ``learning_rate`` in optimizer.\n",
      " 26%|██▌       | 26/100 [38:26<1:44:59, 85.13s/trial, best loss: 4561.120099175708]"
     ]
    },
    {
     "name": "stderr",
     "output_type": "stream",
     "text": [
      "  0%|          | 0/50 [00:00<?, ?it/s]\n",
      "\u001b[A\n",
      " 34%|###4      | 17/50 [00:10<00:20,  1.64it/s, epoch=1/1, avg_epoch_loss=6.69]\n",
      "\u001b[A\n",
      " 34%|###4      | 17/50 [00:23<00:20,  1.64it/s, epoch=1/1, avg_epoch_loss=6.25]\n",
      "\u001b[A\n",
      " 64%|######4   | 32/50 [00:24<00:12,  1.41it/s, epoch=1/1, avg_epoch_loss=6.31]\n",
      "\u001b[A\n",
      " 94%|#########3| 47/50 [00:34<00:02,  1.43it/s, epoch=1/1, avg_epoch_loss=5.97]\n",
      "\u001b[A\n",
      "100%|##########| 50/50 [00:36<00:00,  1.36it/s, epoch=1/1, avg_epoch_loss=5.76]\n",
      "Running evaluation:   0%|          | 0/414 [00:00<?, ?it/s]\n",
      "\u001b[A\n",
      "Running evaluation:   8%|7         | 33/414 [00:10<01:59,  3.18it/s]\n",
      "\u001b[A\n",
      "Running evaluation:  31%|###1      | 129/414 [00:24<01:15,  3.80it/s]\n",
      "\u001b[A\n",
      "Running evaluation:  31%|###1      | 129/414 [00:37<01:15,  3.80it/s]\n",
      "\u001b[A\n",
      "Running evaluation:  54%|#####4    | 225/414 [00:37<00:42,  4.42it/s]\n",
      "\u001b[A\n",
      "Running evaluation:  78%|#######7  | 321/414 [00:50<00:18,  5.01it/s]\n",
      "\u001b[A\n",
      "Running evaluation: 100%|##########| 414/414 [00:58<00:00,  7.03it/s]\n"
     ]
    },
    {
     "name": "stdout",
     "output_type": "stream",
     "text": [
      "learning rate from ``lr_scheduler`` has been overwritten by ``learning_rate`` in optimizer.\n",
      " 27%|██▋       | 27/100 [40:04<1:48:25, 89.12s/trial, best loss: 4561.120099175708]"
     ]
    },
    {
     "name": "stderr",
     "output_type": "stream",
     "text": [
      "  0%|          | 0/50 [00:00<?, ?it/s]\n",
      "\u001b[A\n",
      " 42%|####2     | 21/50 [00:10<00:14,  2.04it/s, epoch=1/1, avg_epoch_loss=6.35]\n",
      "\u001b[A\n",
      " 84%|########4 | 42/50 [00:20<00:03,  2.03it/s, epoch=1/1, avg_epoch_loss=5.73]\n",
      "\u001b[A\n",
      "100%|##########| 50/50 [00:24<00:00,  2.02it/s, epoch=1/1, avg_epoch_loss=5.66]\n",
      "Running evaluation:   0%|          | 0/414 [00:00<?, ?it/s]\n",
      "\u001b[A\n",
      "Running evaluation:  16%|#5        | 65/414 [00:14<01:17,  4.51it/s]\n",
      "\u001b[A\n",
      "Running evaluation:  39%|###8      | 161/414 [00:28<00:50,  5.02it/s]\n",
      "\u001b[A\n",
      "Running evaluation:  39%|###8      | 161/414 [00:40<00:50,  5.02it/s]\n",
      "\u001b[A\n",
      "Running evaluation:  62%|######2   | 257/414 [00:42<00:28,  5.44it/s]\n",
      "\u001b[A\n",
      "Running evaluation:  85%|########5 | 353/414 [00:57<00:10,  5.74it/s]\n",
      "\u001b[A\n",
      "Running evaluation: 100%|##########| 414/414 [01:02<00:00,  6.67it/s]\n"
     ]
    },
    {
     "name": "stdout",
     "output_type": "stream",
     "text": [
      "learning rate from ``lr_scheduler`` has been overwritten by ``learning_rate`` in optimizer.\n",
      " 28%|██▊       | 28/100 [41:34<1:47:12, 89.34s/trial, best loss: 4561.120099175708]"
     ]
    },
    {
     "name": "stderr",
     "output_type": "stream",
     "text": [
      "  0%|          | 0/50 [00:00<?, ?it/s]\n",
      "\u001b[A\n",
      " 38%|###8      | 19/50 [00:10<00:16,  1.84it/s, epoch=1/1, avg_epoch_loss=6.84]\n",
      "\u001b[A\n",
      " 78%|#######8  | 39/50 [00:20<00:05,  1.87it/s, epoch=1/1, avg_epoch_loss=5.76]\n",
      "\u001b[A\n",
      "100%|##########| 50/50 [00:26<00:00,  1.91it/s, epoch=1/1, avg_epoch_loss=5.71]\n",
      "Running evaluation:   0%|          | 0/414 [00:00<?, ?it/s]\n",
      "\u001b[A\n",
      "Running evaluation:  16%|#5        | 65/414 [00:12<01:04,  5.40it/s]\n",
      "\u001b[A\n",
      "Running evaluation:  39%|###8      | 161/414 [00:23<00:42,  6.00it/s]\n",
      "\u001b[A\n",
      "Running evaluation:  62%|######2   | 257/414 [00:35<00:24,  6.48it/s]\n",
      "\u001b[A\n",
      "Running evaluation:  85%|########5 | 353/414 [00:47<00:08,  6.91it/s]\n",
      "\u001b[A\n",
      "Running evaluation: 100%|##########| 414/414 [00:51<00:00,  8.05it/s]\n"
     ]
    },
    {
     "name": "stdout",
     "output_type": "stream",
     "text": [
      "learning rate from ``lr_scheduler`` has been overwritten by ``learning_rate`` in optimizer.\n",
      " 29%|██▉       | 29/100 [42:55<1:42:37, 86.73s/trial, best loss: 4561.120099175708]"
     ]
    },
    {
     "name": "stderr",
     "output_type": "stream",
     "text": [
      "  0%|          | 0/50 [00:00<?, ?it/s]\n",
      "\u001b[A\n",
      " 24%|##4       | 12/50 [00:10<00:33,  1.14it/s, epoch=1/1, avg_epoch_loss=7.13]\n",
      "\u001b[A\n",
      " 50%|#####     | 25/50 [00:21<00:21,  1.16it/s, epoch=1/1, avg_epoch_loss=6.64]\n",
      "\u001b[A\n",
      " 76%|#######6  | 38/50 [00:31<00:10,  1.19it/s, epoch=1/1, avg_epoch_loss=6.29]\n",
      "\u001b[A\n",
      "100%|##########| 50/50 [00:40<00:00,  1.22it/s, epoch=1/1, avg_epoch_loss=6.12]\n",
      "Running evaluation:   0%|          | 0/414 [00:00<?, ?it/s]\n",
      "\u001b[A\n",
      "Running evaluation:   8%|7         | 33/414 [00:13<02:30,  2.53it/s]\n",
      "\u001b[A\n",
      "Running evaluation:   8%|7         | 33/414 [00:23<02:30,  2.53it/s]\n",
      "\u001b[A\n",
      "Running evaluation:  23%|##3       | 97/414 [00:25<01:46,  2.98it/s]\n",
      "\u001b[A\n",
      "Running evaluation:  39%|###8      | 161/414 [00:37<01:13,  3.42it/s]\n",
      "\u001b[A\n",
      "Running evaluation:  54%|#####4    | 225/414 [00:50<00:49,  3.80it/s]\n",
      "\u001b[A\n",
      "Running evaluation:  70%|######9   | 289/414 [01:02<00:30,  4.13it/s]\n",
      "\u001b[A\n",
      "Running evaluation:  70%|######9   | 289/414 [01:14<00:30,  4.13it/s]\n",
      "\u001b[A\n",
      "Running evaluation:  85%|########5 | 353/414 [01:14<00:13,  4.41it/s]\n",
      "\u001b[A\n",
      "Running evaluation: 100%|##########| 414/414 [01:20<00:00,  5.13it/s]\n"
     ]
    },
    {
     "name": "stdout",
     "output_type": "stream",
     "text": [
      "learning rate from ``lr_scheduler`` has been overwritten by ``learning_rate`` in optimizer.\n",
      " 30%|███       | 30/100 [44:59<1:54:22, 98.04s/trial, best loss: 4561.120099175708]"
     ]
    },
    {
     "name": "stderr",
     "output_type": "stream",
     "text": [
      "  0%|          | 0/50 [00:00<?, ?it/s]\n",
      "\u001b[A\n",
      " 40%|####      | 20/50 [00:10<00:15,  2.00it/s, epoch=1/1, avg_epoch_loss=6.65]\n",
      "\u001b[A\n",
      " 80%|########  | 40/50 [00:20<00:05,  2.00it/s, epoch=1/1, avg_epoch_loss=5.81]\n",
      "\u001b[A\n",
      "100%|##########| 50/50 [00:25<00:00,  1.99it/s, epoch=1/1, avg_epoch_loss=5.71]\n",
      "Running evaluation:   0%|          | 0/414 [00:00<?, ?it/s]\n",
      "\u001b[A\n",
      "Running evaluation:  16%|#5        | 65/414 [00:12<01:09,  5.01it/s]\n",
      "\u001b[A\n",
      "Running evaluation:  16%|#5        | 65/414 [00:25<01:09,  5.01it/s]\n",
      "\u001b[A\n",
      "Running evaluation:  39%|###8      | 161/414 [00:25<00:45,  5.57it/s]\n",
      "\u001b[A\n",
      "Running evaluation:  62%|######2   | 257/414 [00:38<00:25,  6.05it/s]\n",
      "\u001b[A\n",
      "Running evaluation:  85%|########5 | 353/414 [00:51<00:09,  6.41it/s]\n",
      "\u001b[A\n",
      "Running evaluation: 100%|##########| 414/414 [00:55<00:00,  7.47it/s]\n"
     ]
    },
    {
     "name": "stdout",
     "output_type": "stream",
     "text": [
      "learning rate from ``lr_scheduler`` has been overwritten by ``learning_rate`` in optimizer.\n",
      " 31%|███       | 31/100 [46:23<1:47:40, 93.64s/trial, best loss: 4561.120099175708]"
     ]
    },
    {
     "name": "stderr",
     "output_type": "stream",
     "text": [
      "  0%|          | 0/50 [00:00<?, ?it/s]\n",
      "\u001b[A\n",
      " 38%|###8      | 19/50 [00:10<00:16,  1.86it/s, epoch=1/1, avg_epoch_loss=6.74]\n",
      "\u001b[A\n",
      " 76%|#######6  | 38/50 [00:20<00:06,  1.87it/s, epoch=1/1, avg_epoch_loss=6.03]\n",
      "\u001b[A\n",
      "100%|##########| 50/50 [00:27<00:00,  1.85it/s, epoch=1/1, avg_epoch_loss=5.83]\n",
      "Running evaluation:   0%|          | 0/414 [00:00<?, ?it/s]\n",
      "\u001b[A\n",
      "Running evaluation:   8%|7         | 33/414 [00:10<01:57,  3.24it/s]\n",
      "\u001b[A\n",
      "Running evaluation:  31%|###1      | 129/414 [00:24<01:14,  3.82it/s]\n",
      "\u001b[A\n",
      "Running evaluation:  54%|#####4    | 225/414 [00:39<00:43,  4.37it/s]\n",
      "\u001b[A\n",
      "Running evaluation:  71%|#######1  | 294/414 [00:49<00:24,  4.91it/s]\n",
      "\u001b[A\n",
      "Running evaluation:  71%|#######1  | 294/414 [01:00<00:24,  4.91it/s]\n",
      "\u001b[A\n",
      "Running evaluation:  93%|#########2| 385/414 [01:03<00:05,  5.25it/s]\n",
      "\u001b[A\n",
      "Running evaluation: 100%|##########| 414/414 [01:03<00:00,  6.47it/s]\n"
     ]
    },
    {
     "name": "stdout",
     "output_type": "stream",
     "text": [
      "learning rate from ``lr_scheduler`` has been overwritten by ``learning_rate`` in optimizer.\n",
      " 32%|███▏      | 32/100 [47:57<1:46:09, 93.67s/trial, best loss: 4561.120099175708]"
     ]
    },
    {
     "name": "stderr",
     "output_type": "stream",
     "text": [
      "  0%|          | 0/50 [00:00<?, ?it/s]\n",
      "\u001b[A\n",
      " 40%|####      | 20/50 [00:10<00:15,  1.96it/s, epoch=1/1, avg_epoch_loss=6.77]\n",
      "\u001b[A\n",
      " 82%|########2 | 41/50 [00:20<00:04,  1.99it/s, epoch=1/1, avg_epoch_loss=5.92]\n",
      "\u001b[A\n",
      "100%|##########| 50/50 [00:24<00:00,  2.01it/s, epoch=1/1, avg_epoch_loss=5.75]\n",
      "Running evaluation:   0%|          | 0/414 [00:00<?, ?it/s]\n",
      "\u001b[A\n",
      "Running evaluation:  16%|#5        | 65/414 [00:11<01:03,  5.48it/s]\n",
      "\u001b[A\n",
      "Running evaluation:  39%|###8      | 161/414 [00:23<00:41,  6.12it/s]\n",
      "\u001b[A\n",
      "Running evaluation:  62%|######2   | 257/414 [00:34<00:23,  6.67it/s]\n",
      "\u001b[A\n",
      "Running evaluation:  85%|########5 | 353/414 [00:46<00:08,  7.10it/s]\n",
      "\u001b[A\n",
      "Running evaluation: 100%|##########| 414/414 [00:49<00:00,  8.32it/s]\n"
     ]
    },
    {
     "name": "stdout",
     "output_type": "stream",
     "text": [
      "learning rate from ``lr_scheduler`` has been overwritten by ``learning_rate`` in optimizer.\n",
      " 33%|███▎      | 33/100 [49:14<1:39:07, 88.77s/trial, best loss: 4561.120099175708]"
     ]
    },
    {
     "name": "stderr",
     "output_type": "stream",
     "text": [
      "  0%|          | 0/50 [00:00<?, ?it/s]\n",
      "\u001b[A\n",
      " 40%|####      | 20/50 [00:10<00:15,  1.99it/s, epoch=1/1, avg_epoch_loss=6.27]\n",
      "\u001b[A\n",
      " 80%|########  | 40/50 [00:20<00:05,  1.99it/s, epoch=1/1, avg_epoch_loss=5.56]\n",
      "\u001b[A\n",
      "100%|##########| 50/50 [00:25<00:00,  1.98it/s, epoch=1/1, avg_epoch_loss=5.57]\n",
      "Running evaluation:   0%|          | 0/414 [00:00<?, ?it/s]\n",
      "\u001b[A\n",
      "Running evaluation:  16%|#5        | 65/414 [00:14<01:18,  4.44it/s]\n",
      "\u001b[A\n",
      "Running evaluation:  39%|###8      | 161/414 [00:29<00:51,  4.90it/s]\n",
      "\u001b[A\n",
      "Running evaluation:  39%|###8      | 161/414 [00:40<00:51,  4.90it/s]\n",
      "\u001b[A\n",
      "Running evaluation:  62%|######2   | 257/414 [00:44<00:29,  5.31it/s]\n",
      "\u001b[A\n",
      "Running evaluation:  85%|########5 | 353/414 [00:58<00:10,  5.64it/s]\n",
      "\u001b[A\n",
      "Running evaluation: 100%|##########| 414/414 [01:03<00:00,  6.54it/s]\n"
     ]
    },
    {
     "name": "stdout",
     "output_type": "stream",
     "text": [
      "learning rate from ``lr_scheduler`` has been overwritten by ``learning_rate`` in optimizer.\n",
      " 34%|███▍      | 34/100 [50:45<1:38:28, 89.52s/trial, best loss: 4561.120099175708]"
     ]
    },
    {
     "name": "stderr",
     "output_type": "stream",
     "text": [
      "  0%|          | 0/50 [00:00<?, ?it/s]\n",
      "\u001b[A\n",
      " 40%|####      | 20/50 [00:10<00:15,  1.93it/s, epoch=1/1, avg_epoch_loss=6.54]\n",
      "\u001b[A\n",
      " 80%|########  | 40/50 [00:21<00:05,  1.90it/s, epoch=1/1, avg_epoch_loss=5.97]\n",
      "\u001b[A\n",
      "100%|##########| 50/50 [00:26<00:00,  1.86it/s, epoch=1/1, avg_epoch_loss=5.75]\n",
      "Running evaluation:   0%|          | 0/414 [00:00<?, ?it/s]\n",
      "\u001b[A\n",
      "Running evaluation:   8%|7         | 33/414 [00:10<01:56,  3.26it/s]\n",
      "\u001b[A\n",
      "Running evaluation:  31%|###1      | 129/414 [00:25<01:14,  3.82it/s]\n",
      "\u001b[A\n",
      "Running evaluation:  47%|####6     | 194/414 [00:35<00:50,  4.34it/s]\n",
      "\u001b[A\n",
      "Running evaluation:  47%|####6     | 194/414 [00:47<00:50,  4.34it/s]\n",
      "\u001b[A\n",
      "Running evaluation:  70%|######9   | 289/414 [00:49<00:25,  4.83it/s]\n",
      "\u001b[A\n",
      "Running evaluation:  93%|#########2| 385/414 [01:03<00:05,  5.30it/s]\n",
      "\u001b[A\n",
      "Running evaluation: 100%|##########| 414/414 [01:03<00:00,  6.48it/s]\n"
     ]
    },
    {
     "name": "stdout",
     "output_type": "stream",
     "text": [
      "learning rate from ``lr_scheduler`` has been overwritten by ``learning_rate`` in optimizer.\n",
      " 35%|███▌      | 35/100 [52:19<1:38:17, 90.73s/trial, best loss: 4561.120099175708]"
     ]
    },
    {
     "name": "stderr",
     "output_type": "stream",
     "text": [
      "  0%|          | 0/50 [00:00<?, ?it/s]\n",
      "\u001b[A\n",
      " 26%|##6       | 13/50 [00:10<00:28,  1.29it/s, epoch=1/1, avg_epoch_loss=7.55]\n",
      "\u001b[A\n",
      " 54%|#####4    | 27/50 [00:20<00:17,  1.31it/s, epoch=1/1, avg_epoch_loss=6.86]\n",
      "\u001b[A\n",
      " 82%|########2 | 41/50 [00:30<00:06,  1.32it/s, epoch=1/1, avg_epoch_loss=6.44]\n",
      "\u001b[A\n",
      "100%|##########| 50/50 [00:37<00:00,  1.34it/s, epoch=1/1, avg_epoch_loss=6.44]\n",
      "Running evaluation:   0%|          | 0/414 [00:00<?, ?it/s]\n",
      "\u001b[A\n",
      "Running evaluation:   8%|7         | 33/414 [00:10<02:06,  3.01it/s]\n",
      "\u001b[A\n",
      "Running evaluation:  23%|##3       | 97/414 [00:21<01:29,  3.54it/s]\n",
      "\u001b[A\n",
      "Running evaluation:  39%|###8      | 161/414 [00:32<01:02,  4.04it/s]\n",
      "\u001b[A\n",
      "Running evaluation:  54%|#####4    | 225/414 [00:42<00:42,  4.48it/s]\n",
      "\u001b[A\n",
      "Running evaluation:  70%|######9   | 289/414 [00:53<00:25,  4.84it/s]\n",
      "\u001b[A\n",
      "Running evaluation:  70%|######9   | 289/414 [01:03<00:25,  4.84it/s]\n",
      "\u001b[A\n",
      "Running evaluation:  85%|########5 | 353/414 [01:04<00:11,  5.12it/s]\n",
      "\u001b[A\n",
      "Running evaluation: 100%|##########| 414/414 [01:09<00:00,  5.94it/s]\n"
     ]
    },
    {
     "name": "stdout",
     "output_type": "stream",
     "text": [
      "learning rate from ``lr_scheduler`` has been overwritten by ``learning_rate`` in optimizer.\n",
      " 36%|███▌      | 36/100 [54:09<1:42:57, 96.52s/trial, best loss: 4561.120099175708]"
     ]
    },
    {
     "name": "stderr",
     "output_type": "stream",
     "text": [
      "  0%|          | 0/50 [00:00<?, ?it/s]\n",
      "\u001b[A\n",
      " 38%|###8      | 19/50 [00:10<00:17,  1.81it/s, epoch=1/1, avg_epoch_loss=6.68]\n",
      "\u001b[A\n",
      " 76%|#######6  | 38/50 [00:21<00:06,  1.81it/s, epoch=1/1, avg_epoch_loss=5.82]\n",
      "\u001b[A\n",
      "100%|##########| 50/50 [00:27<00:00,  1.81it/s, epoch=1/1, avg_epoch_loss=5.69]\n",
      "Running evaluation:   0%|          | 0/414 [00:00<?, ?it/s]\n",
      "\u001b[A\n",
      "Running evaluation:   8%|7         | 33/414 [00:10<01:58,  3.22it/s]\n",
      "\u001b[A\n",
      "Running evaluation:   8%|7         | 33/414 [00:23<01:58,  3.22it/s]\n",
      "\u001b[A\n",
      "Running evaluation:  31%|###1      | 129/414 [00:25<01:15,  3.79it/s]\n",
      "\u001b[A\n",
      "Running evaluation:  54%|#####4    | 225/414 [00:40<00:43,  4.33it/s]\n",
      "\u001b[A\n",
      "Running evaluation:  70%|#######   | 290/414 [00:50<00:25,  4.81it/s]\n",
      "\u001b[A\n",
      "Running evaluation:  86%|########5 | 355/414 [01:00<00:11,  5.19it/s]\n",
      "\u001b[A\n",
      "Running evaluation: 100%|##########| 414/414 [01:04<00:00,  6.37it/s]\n"
     ]
    },
    {
     "name": "stdout",
     "output_type": "stream",
     "text": [
      "learning rate from ``lr_scheduler`` has been overwritten by ``learning_rate`` in optimizer.\n",
      " 37%|███▋      | 37/100 [55:44<1:41:02, 96.22s/trial, best loss: 4561.120099175708]"
     ]
    },
    {
     "name": "stderr",
     "output_type": "stream",
     "text": [
      "  0%|          | 0/50 [00:00<?, ?it/s]\n",
      "\u001b[A\n",
      " 26%|##6       | 13/50 [00:10<00:29,  1.25it/s, epoch=1/1, avg_epoch_loss=6.37]\n",
      "\u001b[A\n",
      " 52%|#####2    | 26/50 [00:20<00:19,  1.26it/s, epoch=1/1, avg_epoch_loss=5.87]\n",
      "\u001b[A\n",
      " 78%|#######8  | 39/50 [00:30<00:08,  1.27it/s, epoch=1/1, avg_epoch_loss=5.62]\n",
      "\u001b[A\n",
      "100%|##########| 50/50 [00:40<00:00,  1.24it/s, epoch=1/1, avg_epoch_loss=5.67]\n",
      "Running evaluation:   0%|          | 0/414 [00:00<?, ?it/s]\n",
      "\u001b[A\n",
      "Running evaluation:   8%|7         | 33/414 [00:12<02:26,  2.61it/s]\n",
      "\u001b[A\n",
      "Running evaluation:  23%|##3       | 97/414 [00:25<01:43,  3.06it/s]\n",
      "\u001b[A\n",
      "Running evaluation:  23%|##3       | 97/414 [00:35<01:43,  3.06it/s]\n",
      "\u001b[A\n",
      "Running evaluation:  39%|###8      | 161/414 [00:37<01:12,  3.50it/s]\n",
      "\u001b[A\n",
      "Running evaluation:  54%|#####4    | 225/414 [00:49<00:48,  3.89it/s]\n",
      "\u001b[A\n",
      "Running evaluation:  70%|######9   | 289/414 [01:01<00:29,  4.22it/s]\n",
      "\u001b[A\n",
      "Running evaluation:  85%|########5 | 353/414 [01:13<00:13,  4.47it/s]\n",
      "\u001b[A\n",
      "Running evaluation: 100%|##########| 414/414 [01:19<00:00,  5.19it/s]\n"
     ]
    },
    {
     "name": "stdout",
     "output_type": "stream",
     "text": [
      "learning rate from ``lr_scheduler`` has been overwritten by ``learning_rate`` in optimizer.\n",
      " 38%|███▊      | 38/100 [57:47<1:47:40, 104.20s/trial, best loss: 4185.391895574705]"
     ]
    },
    {
     "name": "stderr",
     "output_type": "stream",
     "text": [
      "  0%|          | 0/50 [00:00<?, ?it/s]\n",
      "\u001b[A\n",
      " 28%|##8       | 14/50 [00:10<00:26,  1.34it/s, epoch=1/1, avg_epoch_loss=5.79]\n",
      "\u001b[A\n",
      " 56%|#####6    | 28/50 [00:20<00:16,  1.35it/s, epoch=1/1, avg_epoch_loss=5.71]\n",
      "\u001b[A\n",
      " 84%|########4 | 42/50 [00:30<00:05,  1.36it/s, epoch=1/1, avg_epoch_loss=5.59]\n",
      "\u001b[A\n",
      "100%|##########| 50/50 [00:36<00:00,  1.36it/s, epoch=1/1, avg_epoch_loss=5.7] \n",
      "Running evaluation:   0%|          | 0/414 [00:00<?, ?it/s]\n",
      "\u001b[A\n",
      "Running evaluation:   8%|7         | 33/414 [00:12<02:20,  2.71it/s]\n",
      "\u001b[A\n",
      "Running evaluation:  23%|##3       | 97/414 [00:24<01:39,  3.18it/s]\n",
      "\u001b[A\n",
      "Running evaluation:  39%|###8      | 161/414 [00:36<01:09,  3.63it/s]\n",
      "\u001b[A\n",
      "Running evaluation:  39%|###8      | 161/414 [00:46<01:09,  3.63it/s]\n",
      "\u001b[A\n",
      "Running evaluation:  54%|#####4    | 225/414 [00:47<00:46,  4.02it/s]\n",
      "\u001b[A\n",
      "Running evaluation:  70%|######9   | 289/414 [00:59<00:28,  4.36it/s]\n",
      "\u001b[A\n",
      "Running evaluation:  85%|########5 | 353/414 [01:11<00:13,  4.63it/s]\n",
      "\u001b[A\n",
      "Running evaluation: 100%|##########| 414/414 [01:17<00:00,  5.37it/s]\n"
     ]
    },
    {
     "name": "stdout",
     "output_type": "stream",
     "text": [
      "learning rate from ``lr_scheduler`` has been overwritten by ``learning_rate`` in optimizer.\n",
      " 39%|███▉      | 39/100 [59:44<1:49:40, 107.88s/trial, best loss: 4185.391895574705]"
     ]
    },
    {
     "name": "stderr",
     "output_type": "stream",
     "text": [
      "  0%|          | 0/50 [00:00<?, ?it/s]\n",
      "\u001b[A\n",
      " 30%|###       | 15/50 [00:10<00:24,  1.45it/s, epoch=1/1, avg_epoch_loss=6.68]\n",
      "\u001b[A\n",
      " 60%|######    | 30/50 [00:20<00:13,  1.45it/s, epoch=1/1, avg_epoch_loss=6.52]\n",
      "\u001b[A\n",
      " 90%|######### | 45/50 [00:30<00:03,  1.45it/s, epoch=1/1, avg_epoch_loss=6.25]\n",
      "\u001b[A\n",
      "100%|##########| 50/50 [00:34<00:00,  1.45it/s, epoch=1/1, avg_epoch_loss=6.07]\n",
      "Running evaluation:   0%|          | 0/414 [00:00<?, ?it/s]\n",
      "\u001b[A\n",
      "Running evaluation:  16%|#5        | 65/414 [00:13<01:12,  4.81it/s]\n",
      "\u001b[A\n",
      "Running evaluation:  39%|###8      | 161/414 [00:26<00:47,  5.34it/s]\n",
      "\u001b[A\n",
      "Running evaluation:  62%|######2   | 257/414 [00:40<00:27,  5.79it/s]\n",
      "\u001b[A\n",
      "Running evaluation:  62%|######2   | 257/414 [00:52<00:27,  5.79it/s]\n",
      "\u001b[A\n",
      "Running evaluation:  85%|########5 | 353/414 [00:53<00:09,  6.14it/s]\n",
      "\u001b[A\n",
      "Running evaluation: 100%|##########| 414/414 [00:57<00:00,  7.16it/s]\n"
     ]
    },
    {
     "name": "stdout",
     "output_type": "stream",
     "text": [
      "learning rate from ``lr_scheduler`` has been overwritten by ``learning_rate`` in optimizer.\n",
      " 40%|████      | 40/100 [1:01:18<1:43:58, 103.97s/trial, best loss: 4185.391895574705]"
     ]
    },
    {
     "name": "stderr",
     "output_type": "stream",
     "text": [
      "  0%|          | 0/50 [00:00<?, ?it/s]\n",
      "\u001b[A\n",
      " 28%|##8       | 14/50 [00:10<00:25,  1.39it/s, epoch=1/1, avg_epoch_loss=5.69]\n",
      "\u001b[A\n",
      " 56%|#####6    | 28/50 [00:20<00:15,  1.38it/s, epoch=1/1, avg_epoch_loss=5.63]\n",
      "\u001b[A\n",
      " 84%|########4 | 42/50 [00:30<00:05,  1.38it/s, epoch=1/1, avg_epoch_loss=5.52]\n",
      "\u001b[A\n",
      "100%|##########| 50/50 [00:36<00:00,  1.38it/s, epoch=1/1, avg_epoch_loss=5.56]\n",
      "Running evaluation:   0%|          | 0/414 [00:00<?, ?it/s]\n",
      "\u001b[A\n",
      "Running evaluation:   8%|7         | 33/414 [00:12<02:19,  2.74it/s]\n",
      "\u001b[A\n",
      "Running evaluation:  23%|##3       | 97/414 [00:23<01:38,  3.21it/s]\n",
      "\u001b[A\n",
      "Running evaluation:  23%|##3       | 97/414 [00:35<01:38,  3.21it/s]\n",
      "\u001b[A\n",
      "Running evaluation:  39%|###8      | 161/414 [00:35<01:08,  3.67it/s]\n",
      "\u001b[A\n",
      "Running evaluation:  54%|#####4    | 225/414 [00:47<00:46,  4.08it/s]\n",
      "\u001b[A\n",
      "Running evaluation:  70%|######9   | 289/414 [00:58<00:28,  4.41it/s]\n",
      "\u001b[A\n",
      "Running evaluation:  85%|########5 | 353/414 [01:10<00:13,  4.68it/s]\n",
      "\u001b[A\n",
      "Running evaluation: 100%|##########| 414/414 [01:16<00:00,  5.43it/s]\n"
     ]
    },
    {
     "name": "stdout",
     "output_type": "stream",
     "text": [
      "learning rate from ``lr_scheduler`` has been overwritten by ``learning_rate`` in optimizer.\n",
      " 41%|████      | 41/100 [1:03:13<1:45:30, 107.30s/trial, best loss: 4185.391895574705]"
     ]
    },
    {
     "name": "stderr",
     "output_type": "stream",
     "text": [
      "  0%|          | 0/50 [00:00<?, ?it/s]\n",
      "\u001b[A\n",
      " 30%|###       | 15/50 [00:10<00:24,  1.45it/s, epoch=1/1, avg_epoch_loss=6.22]\n",
      "\u001b[A\n",
      " 60%|######    | 30/50 [00:20<00:13,  1.44it/s, epoch=1/1, avg_epoch_loss=6.17]\n",
      "\u001b[A\n",
      " 90%|######### | 45/50 [00:31<00:03,  1.44it/s, epoch=1/1, avg_epoch_loss=5.68]\n",
      "\u001b[A\n",
      "100%|##########| 50/50 [00:34<00:00,  1.43it/s, epoch=1/1, avg_epoch_loss=5.41]\n",
      "Running evaluation:   0%|          | 0/414 [00:00<?, ?it/s]\n",
      "\u001b[A\n",
      "Running evaluation:   8%|7         | 33/414 [00:10<02:00,  3.16it/s]\n",
      "\u001b[A\n",
      "Running evaluation:  23%|##3       | 97/414 [00:20<01:25,  3.71it/s]\n",
      "\u001b[A\n",
      "Running evaluation:  39%|###8      | 161/414 [00:30<00:59,  4.24it/s]\n",
      "\u001b[A\n",
      "Running evaluation:  54%|#####4    | 225/414 [00:40<00:40,  4.70it/s]\n",
      "\u001b[A\n",
      "Running evaluation:  70%|######9   | 289/414 [00:51<00:24,  5.10it/s]\n",
      "\u001b[A\n",
      "Running evaluation:  85%|########5 | 353/414 [01:01<00:11,  5.41it/s]\n",
      "\u001b[A\n",
      "Running evaluation: 100%|##########| 414/414 [01:05<00:00,  6.28it/s]\n"
     ]
    },
    {
     "name": "stdout",
     "output_type": "stream",
     "text": [
      "learning rate from ``lr_scheduler`` has been overwritten by ``learning_rate`` in optimizer.\n",
      " 42%|████▏     | 42/100 [1:04:57<1:42:34, 106.10s/trial, best loss: 4185.391895574705]"
     ]
    },
    {
     "name": "stderr",
     "output_type": "stream",
     "text": [
      "  0%|          | 0/50 [00:00<?, ?it/s]\n",
      "\u001b[A\n",
      " 30%|###       | 15/50 [00:10<00:24,  1.42it/s, epoch=1/1, avg_epoch_loss=6.05]\n",
      "\u001b[A\n",
      " 60%|######    | 30/50 [00:21<00:14,  1.42it/s, epoch=1/1, avg_epoch_loss=6.15]\n",
      "\u001b[A\n",
      " 90%|######### | 45/50 [00:31<00:03,  1.42it/s, epoch=1/1, avg_epoch_loss=6.04]\n",
      "\u001b[A\n",
      "100%|##########| 50/50 [00:35<00:00,  1.42it/s, epoch=1/1, avg_epoch_loss=5.7] \n",
      "Running evaluation:   0%|          | 0/414 [00:00<?, ?it/s]\n",
      "\u001b[A\n",
      "Running evaluation:   8%|7         | 33/414 [00:11<02:16,  2.79it/s]\n",
      "\u001b[A\n",
      "Running evaluation:  23%|##3       | 97/414 [00:23<01:36,  3.28it/s]\n",
      "\u001b[A\n",
      "Running evaluation:  39%|###8      | 161/414 [00:34<01:07,  3.74it/s]\n",
      "\u001b[A\n",
      "Running evaluation:  54%|#####4    | 225/414 [00:46<00:45,  4.15it/s]\n",
      "\u001b[A\n",
      "Running evaluation:  70%|######9   | 289/414 [00:57<00:27,  4.50it/s]\n",
      "\u001b[A\n",
      "Running evaluation:  70%|######9   | 289/414 [01:08<00:27,  4.50it/s]\n",
      "\u001b[A\n",
      "Running evaluation:  85%|########5 | 353/414 [01:09<00:12,  4.77it/s]\n",
      "\u001b[A\n",
      "Running evaluation: 100%|##########| 414/414 [01:14<00:00,  5.53it/s]\n"
     ]
    },
    {
     "name": "stdout",
     "output_type": "stream",
     "text": [
      "learning rate from ``lr_scheduler`` has been overwritten by ``learning_rate`` in optimizer.\n",
      " 43%|████▎     | 43/100 [1:06:50<1:42:41, 108.10s/trial, best loss: 4185.391895574705]"
     ]
    },
    {
     "name": "stderr",
     "output_type": "stream",
     "text": [
      "  0%|          | 0/50 [00:00<?, ?it/s]\n",
      "\u001b[A\n",
      " 30%|###       | 15/50 [00:10<00:24,  1.43it/s, epoch=1/1, avg_epoch_loss=5.55]\n",
      "\u001b[A\n",
      " 30%|###       | 15/50 [00:20<00:24,  1.43it/s, epoch=1/1, avg_epoch_loss=5.38]\n",
      "\u001b[A\n",
      " 60%|######    | 30/50 [00:21<00:14,  1.43it/s, epoch=1/1, avg_epoch_loss=5.48]\n",
      "\u001b[A\n",
      " 90%|######### | 45/50 [00:32<00:03,  1.41it/s, epoch=1/1, avg_epoch_loss=5.57]\n",
      "\u001b[A\n",
      "100%|##########| 50/50 [00:35<00:00,  1.40it/s, epoch=1/1, avg_epoch_loss=5.33]\n",
      "Running evaluation:   0%|          | 0/414 [00:00<?, ?it/s]\n",
      "\u001b[A\n",
      "Running evaluation:   8%|7         | 33/414 [00:11<02:11,  2.89it/s]\n",
      "\u001b[A\n",
      "Running evaluation:  23%|##3       | 97/414 [00:22<01:33,  3.39it/s]\n",
      "\u001b[A\n",
      "Running evaluation:  39%|###8      | 161/414 [00:34<01:05,  3.85it/s]\n",
      "\u001b[A\n",
      "Running evaluation:  39%|###8      | 161/414 [00:44<01:05,  3.85it/s]\n",
      "\u001b[A\n",
      "Running evaluation:  54%|#####4    | 225/414 [00:45<00:44,  4.26it/s]\n",
      "\u001b[A\n",
      "Running evaluation:  70%|######9   | 289/414 [00:56<00:27,  4.61it/s]\n",
      "\u001b[A\n",
      "Running evaluation:  85%|########5 | 353/414 [01:07<00:12,  4.88it/s]\n",
      "\u001b[A\n",
      "Running evaluation: 100%|##########| 414/414 [01:13<00:00,  5.65it/s]\n"
     ]
    },
    {
     "name": "stdout",
     "output_type": "stream",
     "text": [
      "learning rate from ``lr_scheduler`` has been overwritten by ``learning_rate`` in optimizer.\n",
      " 44%|████▍     | 44/100 [1:08:41<1:41:51, 109.13s/trial, best loss: 4185.391895574705]"
     ]
    },
    {
     "name": "stderr",
     "output_type": "stream",
     "text": [
      "  0%|          | 0/50 [00:00<?, ?it/s]\n",
      "\u001b[A\n",
      " 30%|###       | 15/50 [00:10<00:23,  1.46it/s, epoch=1/1, avg_epoch_loss=6.09]\n",
      "\u001b[A\n",
      " 60%|######    | 30/50 [00:20<00:13,  1.46it/s, epoch=1/1, avg_epoch_loss=5.56]\n",
      "\u001b[A\n",
      " 90%|######### | 45/50 [00:30<00:03,  1.46it/s, epoch=1/1, avg_epoch_loss=5.54]\n",
      "\u001b[A\n",
      "100%|##########| 50/50 [00:34<00:00,  1.46it/s, epoch=1/1, avg_epoch_loss=5.49]\n",
      "Running evaluation:   0%|          | 0/414 [00:00<?, ?it/s]\n",
      "\u001b[A\n",
      "Running evaluation:   8%|7         | 33/414 [00:10<01:59,  3.20it/s]\n",
      "\u001b[A\n",
      "Running evaluation:  23%|##3       | 97/414 [00:20<01:24,  3.76it/s]\n",
      "\u001b[A\n",
      "Running evaluation:  39%|###8      | 161/414 [00:30<00:59,  4.28it/s]\n",
      "\u001b[A\n",
      "Running evaluation:  54%|#####4    | 225/414 [00:40<00:39,  4.75it/s]\n",
      "\u001b[A\n",
      "Running evaluation:  70%|######9   | 289/414 [00:50<00:24,  5.14it/s]\n",
      "\u001b[A\n",
      "Running evaluation:  85%|########5 | 353/414 [01:00<00:11,  5.46it/s]\n",
      "\u001b[A\n",
      "Running evaluation: 100%|##########| 414/414 [01:05<00:00,  6.33it/s]\n"
     ]
    },
    {
     "name": "stdout",
     "output_type": "stream",
     "text": [
      "learning rate from ``lr_scheduler`` has been overwritten by ``learning_rate`` in optimizer.\n",
      " 45%|████▌     | 45/100 [1:10:23<1:38:08, 107.06s/trial, best loss: 4185.391895574705]"
     ]
    },
    {
     "name": "stderr",
     "output_type": "stream",
     "text": [
      "  0%|          | 0/50 [00:00<?, ?it/s]\n",
      "\u001b[A\n",
      " 30%|###       | 15/50 [00:10<00:24,  1.42it/s, epoch=1/1, avg_epoch_loss=7.18]\n",
      "\u001b[A\n",
      " 60%|######    | 30/50 [00:21<00:14,  1.42it/s, epoch=1/1, avg_epoch_loss=6.85]\n",
      "\u001b[A\n",
      " 90%|######### | 45/50 [00:31<00:03,  1.42it/s, epoch=1/1, avg_epoch_loss=6.36]\n",
      "\u001b[A\n",
      "100%|##########| 50/50 [00:35<00:00,  1.42it/s, epoch=1/1, avg_epoch_loss=6.03]\n",
      "Running evaluation:   0%|          | 0/414 [00:00<?, ?it/s]\n",
      "\u001b[A\n",
      "Running evaluation:   8%|7         | 33/414 [00:11<02:12,  2.87it/s]\n",
      "\u001b[A\n",
      "Running evaluation:   8%|7         | 33/414 [00:21<02:12,  2.87it/s]\n",
      "\u001b[A\n",
      "Running evaluation:  23%|##3       | 97/414 [00:22<01:34,  3.36it/s]\n",
      "\u001b[A\n",
      "Running evaluation:  39%|###8      | 161/414 [00:34<01:05,  3.83it/s]\n",
      "\u001b[A\n",
      "Running evaluation:  54%|#####4    | 225/414 [00:45<00:44,  4.25it/s]\n",
      "\u001b[A\n",
      "Running evaluation:  70%|######9   | 289/414 [00:56<00:27,  4.60it/s]\n",
      "\u001b[A\n",
      "Running evaluation:  85%|########5 | 353/414 [01:07<00:12,  4.88it/s]\n",
      "\u001b[A\n",
      "Running evaluation: 100%|##########| 414/414 [01:13<00:00,  5.66it/s]\n"
     ]
    },
    {
     "name": "stdout",
     "output_type": "stream",
     "text": [
      "learning rate from ``lr_scheduler`` has been overwritten by ``learning_rate`` in optimizer.\n",
      " 46%|████▌     | 46/100 [1:12:14<1:37:20, 108.17s/trial, best loss: 4185.391895574705]"
     ]
    },
    {
     "name": "stderr",
     "output_type": "stream",
     "text": [
      "  0%|          | 0/50 [00:00<?, ?it/s]\n",
      "\u001b[A\n",
      " 32%|###2      | 16/50 [00:10<00:22,  1.51it/s, epoch=1/1, avg_epoch_loss=6.37]\n",
      "\u001b[A\n",
      " 64%|######4   | 32/50 [00:21<00:11,  1.51it/s, epoch=1/1, avg_epoch_loss=6.2] \n",
      "\u001b[A\n",
      " 96%|#########6| 48/50 [00:31<00:01,  1.52it/s, epoch=1/1, avg_epoch_loss=5.8]\n",
      "\u001b[A\n",
      "100%|##########| 50/50 [00:32<00:00,  1.52it/s, epoch=1/1, avg_epoch_loss=5.69]\n",
      "Running evaluation:   0%|          | 0/414 [00:00<?, ?it/s]\n",
      "\u001b[A\n",
      "Running evaluation:  16%|#5        | 65/414 [00:13<01:10,  4.97it/s]\n",
      "\u001b[A\n",
      "Running evaluation:  16%|#5        | 65/414 [00:23<01:10,  4.97it/s]\n",
      "\u001b[A\n",
      "Running evaluation:  39%|###8      | 161/414 [00:26<00:45,  5.51it/s]\n",
      "\u001b[A\n",
      "Running evaluation:  62%|######2   | 257/414 [00:38<00:26,  5.99it/s]\n",
      "\u001b[A\n",
      "Running evaluation:  85%|########5 | 353/414 [00:51<00:09,  6.38it/s]\n",
      "\u001b[A\n",
      "Running evaluation: 100%|##########| 414/414 [00:55<00:00,  7.44it/s]\n"
     ]
    },
    {
     "name": "stdout",
     "output_type": "stream",
     "text": [
      "learning rate from ``lr_scheduler`` has been overwritten by ``learning_rate`` in optimizer.\n",
      " 47%|████▋     | 47/100 [1:13:45<1:31:03, 103.08s/trial, best loss: 4185.391895574705]"
     ]
    },
    {
     "name": "stderr",
     "output_type": "stream",
     "text": [
      "  0%|          | 0/50 [00:00<?, ?it/s]\n",
      "\u001b[A\n",
      " 30%|###       | 15/50 [00:10<00:24,  1.44it/s, epoch=1/1, avg_epoch_loss=6.45]\n",
      "\u001b[A\n",
      " 60%|######    | 30/50 [00:20<00:13,  1.44it/s, epoch=1/1, avg_epoch_loss=6.14]\n",
      "\u001b[A\n",
      " 90%|######### | 45/50 [00:31<00:03,  1.45it/s, epoch=1/1, avg_epoch_loss=5.98]\n",
      "\u001b[A\n",
      "100%|##########| 50/50 [00:34<00:00,  1.45it/s, epoch=1/1, avg_epoch_loss=5.74]\n",
      "Running evaluation:   0%|          | 0/414 [00:00<?, ?it/s]\n",
      "\u001b[A\n",
      "Running evaluation:   8%|7         | 33/414 [00:11<02:08,  2.95it/s]\n",
      "\u001b[A\n",
      "Running evaluation:  23%|##3       | 97/414 [00:22<01:31,  3.47it/s]\n",
      "\u001b[A\n",
      "Running evaluation:  39%|###8      | 161/414 [00:32<01:03,  3.96it/s]\n",
      "\u001b[A\n",
      "Running evaluation:  54%|#####4    | 225/414 [00:43<00:43,  4.39it/s]\n",
      "\u001b[A\n",
      "Running evaluation:  70%|######9   | 289/414 [00:54<00:26,  4.76it/s]\n",
      "\u001b[A\n",
      "Running evaluation:  85%|########5 | 353/414 [01:05<00:12,  5.03it/s]\n",
      "\u001b[A\n",
      "Running evaluation: 100%|##########| 414/414 [01:10<00:00,  5.85it/s]\n"
     ]
    },
    {
     "name": "stdout",
     "output_type": "stream",
     "text": [
      "learning rate from ``lr_scheduler`` has been overwritten by ``learning_rate`` in optimizer.\n",
      " 48%|████▊     | 48/100 [1:15:33<1:30:34, 104.51s/trial, best loss: 4185.391895574705]"
     ]
    },
    {
     "name": "stderr",
     "output_type": "stream",
     "text": [
      "  0%|          | 0/50 [00:00<?, ?it/s]\n",
      "\u001b[A\n",
      " 30%|###       | 15/50 [00:10<00:24,  1.45it/s, epoch=1/1, avg_epoch_loss=6.7]\n",
      "\u001b[A\n",
      " 60%|######    | 30/50 [00:20<00:13,  1.45it/s, epoch=1/1, avg_epoch_loss=6.25]\n",
      "\u001b[A\n",
      " 90%|######### | 45/50 [00:31<00:03,  1.45it/s, epoch=1/1, avg_epoch_loss=5.92]\n",
      "\u001b[A\n",
      "100%|##########| 50/50 [00:34<00:00,  1.45it/s, epoch=1/1, avg_epoch_loss=5.59]\n",
      "Running evaluation:   0%|          | 0/414 [00:00<?, ?it/s]\n",
      "\u001b[A\n",
      "Running evaluation:   8%|7         | 33/414 [00:11<02:12,  2.87it/s]\n",
      "\u001b[A\n",
      "Running evaluation:   8%|7         | 33/414 [00:22<02:12,  2.87it/s]\n",
      "\u001b[A\n",
      "Running evaluation:  23%|##3       | 97/414 [00:22<01:33,  3.38it/s]\n",
      "\u001b[A\n",
      "Running evaluation:  39%|###8      | 161/414 [00:33<01:05,  3.84it/s]\n",
      "\u001b[A\n",
      "Running evaluation:  54%|#####4    | 225/414 [00:45<00:44,  4.25it/s]\n",
      "\u001b[A\n",
      "Running evaluation:  70%|######9   | 289/414 [00:56<00:27,  4.59it/s]\n",
      "\u001b[A\n",
      "Running evaluation:  85%|########5 | 353/414 [01:07<00:12,  4.86it/s]\n",
      "\u001b[A\n",
      "Running evaluation: 100%|##########| 414/414 [01:13<00:00,  5.65it/s]\n"
     ]
    },
    {
     "name": "stdout",
     "output_type": "stream",
     "text": [
      "learning rate from ``lr_scheduler`` has been overwritten by ``learning_rate`` in optimizer.\n",
      " 49%|████▉     | 49/100 [1:17:23<1:30:18, 106.25s/trial, best loss: 4185.391895574705]"
     ]
    },
    {
     "name": "stderr",
     "output_type": "stream",
     "text": [
      "  0%|          | 0/50 [00:00<?, ?it/s]\n",
      "\u001b[A\n",
      " 32%|###2      | 16/50 [00:10<00:21,  1.55it/s, epoch=1/1, avg_epoch_loss=6.56]\n",
      "\u001b[A\n",
      " 64%|######4   | 32/50 [00:20<00:11,  1.55it/s, epoch=1/1, avg_epoch_loss=6.29]\n",
      "\u001b[A\n",
      " 96%|#########6| 48/50 [00:30<00:01,  1.55it/s, epoch=1/1, avg_epoch_loss=5.87]\n",
      "\u001b[A\n",
      "100%|##########| 50/50 [00:32<00:00,  1.55it/s, epoch=1/1, avg_epoch_loss=5.76]\n",
      "Running evaluation:   0%|          | 0/414 [00:00<?, ?it/s]\n",
      "\u001b[A\n",
      "Running evaluation:  16%|#5        | 65/414 [00:12<01:09,  5.06it/s]\n",
      "\u001b[A\n",
      "Running evaluation:  16%|#5        | 65/414 [00:24<01:09,  5.06it/s]\n",
      "\u001b[A\n",
      "Running evaluation:  39%|###8      | 161/414 [00:25<00:45,  5.61it/s]\n",
      "\u001b[A\n",
      "Running evaluation:  62%|######2   | 257/414 [00:38<00:25,  6.08it/s]\n",
      "\u001b[A\n",
      "Running evaluation:  85%|########5 | 353/414 [00:50<00:09,  6.46it/s]\n",
      "\u001b[A\n",
      "Running evaluation: 100%|##########| 414/414 [00:55<00:00,  7.52it/s]\n"
     ]
    },
    {
     "name": "stdout",
     "output_type": "stream",
     "text": [
      "learning rate from ``lr_scheduler`` has been overwritten by ``learning_rate`` in optimizer.\n",
      " 50%|█████     | 50/100 [1:18:53<1:24:25, 101.32s/trial, best loss: 4185.391895574705]"
     ]
    },
    {
     "name": "stderr",
     "output_type": "stream",
     "text": [
      "  0%|          | 0/50 [00:00<?, ?it/s]\n",
      "\u001b[A\n",
      " 32%|###2      | 16/50 [00:10<00:22,  1.51it/s, epoch=1/1, avg_epoch_loss=7.11]\n",
      "\u001b[A\n",
      " 64%|######4   | 32/50 [00:21<00:11,  1.51it/s, epoch=1/1, avg_epoch_loss=6.58]\n",
      "\u001b[A\n",
      " 96%|#########6| 48/50 [00:31<00:01,  1.51it/s, epoch=1/1, avg_epoch_loss=6.27]\n",
      "\u001b[A\n",
      "100%|##########| 50/50 [00:32<00:00,  1.52it/s, epoch=1/1, avg_epoch_loss=6.18]\n",
      "Running evaluation:   0%|          | 0/414 [00:00<?, ?it/s]\n",
      "\u001b[A\n",
      "Running evaluation:  16%|#5        | 65/414 [00:14<01:18,  4.45it/s]\n",
      "\u001b[A\n",
      "Running evaluation:  39%|###8      | 161/414 [00:28<00:51,  4.94it/s]\n",
      "\u001b[A\n",
      "Running evaluation:  62%|######2   | 257/414 [00:43<00:29,  5.38it/s]\n",
      "\u001b[A\n",
      "Running evaluation:  62%|######2   | 257/414 [00:54<00:29,  5.38it/s]\n",
      "\u001b[A\n",
      "Running evaluation:  85%|########5 | 353/414 [00:57<00:10,  5.73it/s]\n",
      "\u001b[A\n",
      "Running evaluation: 100%|##########| 414/414 [01:01<00:00,  6.70it/s]\n"
     ]
    },
    {
     "name": "stdout",
     "output_type": "stream",
     "text": [
      "learning rate from ``lr_scheduler`` has been overwritten by ``learning_rate`` in optimizer.\n",
      " 51%|█████     | 51/100 [1:20:31<1:21:45, 100.11s/trial, best loss: 4185.391895574705]"
     ]
    },
    {
     "name": "stderr",
     "output_type": "stream",
     "text": [
      "  0%|          | 0/50 [00:00<?, ?it/s]\n",
      "\u001b[A\n",
      " 30%|###       | 15/50 [00:10<00:23,  1.46it/s, epoch=1/1, avg_epoch_loss=6.36]\n",
      "\u001b[A\n",
      " 60%|######    | 30/50 [00:20<00:13,  1.47it/s, epoch=1/1, avg_epoch_loss=6.33]\n",
      "\u001b[A\n",
      " 90%|######### | 45/50 [00:30<00:03,  1.47it/s, epoch=1/1, avg_epoch_loss=5.87]\n",
      "\u001b[A\n",
      "100%|##########| 50/50 [00:34<00:00,  1.47it/s, epoch=1/1, avg_epoch_loss=5.6] \n",
      "Running evaluation:   0%|          | 0/414 [00:00<?, ?it/s]\n",
      "\u001b[A\n",
      "Running evaluation:   8%|7         | 33/414 [00:11<02:11,  2.89it/s]\n",
      "\u001b[A\n",
      "Running evaluation:  23%|##3       | 97/414 [00:22<01:33,  3.40it/s]\n",
      "\u001b[A\n",
      "Running evaluation:  39%|###8      | 161/414 [00:33<01:05,  3.87it/s]\n",
      "\u001b[A\n",
      "Running evaluation:  54%|#####4    | 225/414 [00:44<00:44,  4.29it/s]\n",
      "\u001b[A\n",
      "Running evaluation:  54%|#####4    | 225/414 [00:55<00:44,  4.29it/s]\n",
      "\u001b[A\n",
      "Running evaluation:  70%|######9   | 289/414 [00:55<00:26,  4.65it/s]\n",
      "\u001b[A\n",
      "Running evaluation:  85%|########5 | 353/414 [01:07<00:12,  4.93it/s]\n",
      "\u001b[A\n",
      "Running evaluation: 100%|##########| 414/414 [01:12<00:00,  5.72it/s]\n"
     ]
    },
    {
     "name": "stdout",
     "output_type": "stream",
     "text": [
      "learning rate from ``lr_scheduler`` has been overwritten by ``learning_rate`` in optimizer.\n",
      " 52%|█████▏    | 52/100 [1:22:19<1:22:12, 102.75s/trial, best loss: 4185.391895574705]"
     ]
    },
    {
     "name": "stderr",
     "output_type": "stream",
     "text": [
      "  0%|          | 0/50 [00:00<?, ?it/s]\n",
      "\u001b[A\n",
      " 30%|###       | 15/50 [00:10<00:23,  1.48it/s, epoch=1/1, avg_epoch_loss=6.99]\n",
      "\u001b[A\n",
      " 60%|######    | 30/50 [00:20<00:13,  1.48it/s, epoch=1/1, avg_epoch_loss=6.64]\n",
      "\u001b[A\n",
      " 92%|#########2| 46/50 [00:30<00:02,  1.49it/s, epoch=1/1, avg_epoch_loss=6.24]\n",
      "\u001b[A\n",
      "100%|##########| 50/50 [00:33<00:00,  1.49it/s, epoch=1/1, avg_epoch_loss=5.96]\n",
      "Running evaluation:   0%|          | 0/414 [00:00<?, ?it/s]\n",
      "\u001b[A\n",
      "Running evaluation:   8%|7         | 33/414 [00:11<02:09,  2.93it/s]\n",
      "\u001b[A\n",
      "Running evaluation:  23%|##3       | 97/414 [00:22<01:32,  3.44it/s]\n",
      "\u001b[A\n",
      "Running evaluation:  39%|###8      | 161/414 [00:33<01:04,  3.91it/s]\n",
      "\u001b[A\n",
      "Running evaluation:  54%|#####4    | 225/414 [00:44<00:43,  4.31it/s]\n",
      "\u001b[A\n",
      "Running evaluation:  70%|######9   | 289/414 [00:55<00:26,  4.66it/s]\n",
      "\u001b[A\n",
      "Running evaluation:  85%|########5 | 353/414 [01:07<00:12,  4.94it/s]\n",
      "\u001b[A\n",
      "Running evaluation: 100%|##########| 414/414 [01:12<00:00,  5.72it/s]\n"
     ]
    },
    {
     "name": "stdout",
     "output_type": "stream",
     "text": [
      "learning rate from ``lr_scheduler`` has been overwritten by ``learning_rate`` in optimizer.\n",
      " 53%|█████▎    | 53/100 [1:24:08<1:21:51, 104.51s/trial, best loss: 4185.391895574705]"
     ]
    },
    {
     "name": "stderr",
     "output_type": "stream",
     "text": [
      "  0%|          | 0/50 [00:00<?, ?it/s]\n",
      "\u001b[A\n",
      " 44%|####4     | 22/50 [00:10<00:12,  2.18it/s, epoch=1/1, avg_epoch_loss=8.57]\n",
      "\u001b[A\n",
      " 88%|########8 | 44/50 [00:20<00:02,  2.18it/s, epoch=1/1, avg_epoch_loss=7.41]\n",
      "\u001b[A\n",
      "100%|##########| 50/50 [00:22<00:00,  2.18it/s, epoch=1/1, avg_epoch_loss=7.22]\n",
      "Running evaluation:   0%|          | 0/414 [00:00<?, ?it/s]\n",
      "\u001b[A\n",
      "Running evaluation:  16%|#5        | 65/414 [00:13<01:10,  4.98it/s]\n",
      "\u001b[A\n",
      "Running evaluation:  39%|###8      | 161/414 [00:25<00:45,  5.53it/s]\n",
      "\u001b[A\n",
      "Running evaluation:  62%|######2   | 257/414 [00:38<00:26,  6.00it/s]\n",
      "\u001b[A\n",
      "Running evaluation:  62%|######2   | 257/414 [00:49<00:26,  6.00it/s]\n",
      "\u001b[A\n",
      "Running evaluation:  85%|########5 | 353/414 [00:51<00:09,  6.37it/s]\n",
      "\u001b[A\n",
      "Running evaluation: 100%|##########| 414/414 [00:55<00:00,  7.42it/s]\n"
     ]
    },
    {
     "name": "stdout",
     "output_type": "stream",
     "text": [
      "learning rate from ``lr_scheduler`` has been overwritten by ``learning_rate`` in optimizer.\n",
      " 54%|█████▍    | 54/100 [1:25:29<1:14:46, 97.54s/trial, best loss: 4185.391895574705]"
     ]
    },
    {
     "name": "stderr",
     "output_type": "stream",
     "text": [
      "  0%|          | 0/50 [00:00<?, ?it/s]\n",
      "\u001b[A\n",
      " 32%|###2      | 16/50 [00:10<00:22,  1.53it/s, epoch=1/1, avg_epoch_loss=6.29]\n",
      "\u001b[A\n",
      " 64%|######4   | 32/50 [00:20<00:11,  1.54it/s, epoch=1/1, avg_epoch_loss=6.14]\n",
      "\u001b[A\n",
      " 64%|######4   | 32/50 [00:30<00:11,  1.54it/s, epoch=1/1, avg_epoch_loss=5.75]\n",
      "\u001b[A\n",
      " 96%|#########6| 48/50 [00:30<00:01,  1.55it/s, epoch=1/1, avg_epoch_loss=5.68]\n",
      "\u001b[A\n",
      "100%|##########| 50/50 [00:32<00:00,  1.55it/s, epoch=1/1, avg_epoch_loss=5.55]\n",
      "Running evaluation:   0%|          | 0/414 [00:00<?, ?it/s]\n",
      "\u001b[A\n",
      "Running evaluation:  16%|#5        | 65/414 [00:12<01:08,  5.11it/s]\n",
      "\u001b[A\n",
      "Running evaluation:  39%|###8      | 161/414 [00:25<00:44,  5.70it/s]\n",
      "\u001b[A\n",
      "Running evaluation:  62%|######2   | 257/414 [00:37<00:25,  6.18it/s]\n",
      "\u001b[A\n",
      "Running evaluation:  62%|######2   | 257/414 [00:48<00:25,  6.18it/s]\n",
      "\u001b[A\n",
      "Running evaluation:  85%|########5 | 353/414 [00:49<00:09,  6.57it/s]\n",
      "\u001b[A\n",
      "Running evaluation: 100%|##########| 414/414 [00:53<00:00,  7.68it/s]\n"
     ]
    },
    {
     "name": "stdout",
     "output_type": "stream",
     "text": [
      "learning rate from ``lr_scheduler`` has been overwritten by ``learning_rate`` in optimizer.\n",
      " 55%|█████▌    | 55/100 [1:26:58<1:11:11, 94.92s/trial, best loss: 4185.391895574705]"
     ]
    },
    {
     "name": "stderr",
     "output_type": "stream",
     "text": [
      "  0%|          | 0/50 [00:00<?, ?it/s]\n",
      "\u001b[A\n",
      " 44%|####4     | 22/50 [00:10<00:12,  2.16it/s, epoch=1/1, avg_epoch_loss=6.16]\n",
      "\u001b[A\n",
      " 88%|########8 | 44/50 [00:20<00:02,  2.16it/s, epoch=1/1, avg_epoch_loss=5.69]\n",
      "\u001b[A\n",
      "100%|##########| 50/50 [00:23<00:00,  2.17it/s, epoch=1/1, avg_epoch_loss=5.56]\n",
      "Running evaluation:   0%|          | 0/414 [00:00<?, ?it/s]\n",
      "\u001b[A\n",
      "Running evaluation:  16%|#5        | 65/414 [00:13<01:12,  4.79it/s]\n",
      "\u001b[A\n",
      "Running evaluation:  39%|###8      | 161/414 [00:26<00:47,  5.33it/s]\n",
      "\u001b[A\n",
      "Running evaluation:  39%|###8      | 161/414 [00:39<00:47,  5.33it/s]\n",
      "\u001b[A\n",
      "Running evaluation:  62%|######2   | 257/414 [00:40<00:27,  5.79it/s]\n",
      "\u001b[A\n",
      "Running evaluation:  85%|########5 | 353/414 [00:53<00:09,  6.17it/s]\n",
      "\u001b[A\n",
      "Running evaluation: 100%|##########| 414/414 [00:57<00:00,  7.21it/s]\n"
     ]
    },
    {
     "name": "stdout",
     "output_type": "stream",
     "text": [
      "learning rate from ``lr_scheduler`` has been overwritten by ``learning_rate`` in optimizer.\n",
      " 56%|█████▌    | 56/100 [1:28:21<1:06:59, 91.35s/trial, best loss: 4185.391895574705]"
     ]
    },
    {
     "name": "stderr",
     "output_type": "stream",
     "text": [
      "  0%|          | 0/50 [00:00<?, ?it/s]\n",
      "\u001b[A\n",
      " 46%|####6     | 23/50 [00:10<00:11,  2.25it/s, epoch=1/1, avg_epoch_loss=6.63]\n",
      "\u001b[A\n",
      " 92%|#########2| 46/50 [00:20<00:01,  2.24it/s, epoch=1/1, avg_epoch_loss=6.44]\n",
      "\u001b[A\n",
      "100%|##########| 50/50 [00:22<00:00,  2.22it/s, epoch=1/1, avg_epoch_loss=6.18]\n",
      "Running evaluation:   0%|          | 0/414 [00:00<?, ?it/s]\n",
      "\u001b[A\n",
      "Running evaluation:  16%|#5        | 65/414 [00:11<01:02,  5.56it/s]\n",
      "\u001b[A\n",
      "Running evaluation:  39%|###8      | 161/414 [00:23<00:40,  6.19it/s]\n",
      "\u001b[A\n",
      "Running evaluation:  62%|######2   | 257/414 [00:34<00:23,  6.74it/s]\n",
      "\u001b[A\n",
      "Running evaluation:  85%|########5 | 353/414 [00:45<00:08,  7.17it/s]\n",
      "\u001b[A\n",
      "Running evaluation: 100%|##########| 414/414 [00:49<00:00,  8.39it/s]\n"
     ]
    },
    {
     "name": "stdout",
     "output_type": "stream",
     "text": [
      "learning rate from ``lr_scheduler`` has been overwritten by ``learning_rate`` in optimizer.\n",
      " 57%|█████▋    | 57/100 [1:29:35<1:01:48, 86.25s/trial, best loss: 4185.391895574705]"
     ]
    },
    {
     "name": "stderr",
     "output_type": "stream",
     "text": [
      "  0%|          | 0/50 [00:00<?, ?it/s]\n",
      "\u001b[A\n",
      " 30%|###       | 15/50 [00:10<00:23,  1.47it/s, epoch=1/1, avg_epoch_loss=6.41]\n",
      "\u001b[A\n",
      " 60%|######    | 30/50 [00:20<00:13,  1.47it/s, epoch=1/1, avg_epoch_loss=6.39]\n",
      "\u001b[A\n",
      " 90%|######### | 45/50 [00:30<00:03,  1.47it/s, epoch=1/1, avg_epoch_loss=6.03]\n",
      "\u001b[A\n",
      "100%|##########| 50/50 [00:34<00:00,  1.47it/s, epoch=1/1, avg_epoch_loss=5.83]\n",
      "Running evaluation:   0%|          | 0/414 [00:00<?, ?it/s]\n",
      "\u001b[A\n",
      "Running evaluation:   8%|7         | 33/414 [00:11<02:11,  2.89it/s]\n",
      "\u001b[A\n",
      "Running evaluation:  23%|##3       | 97/414 [00:22<01:33,  3.40it/s]\n",
      "\u001b[A\n",
      "Running evaluation:  39%|###8      | 161/414 [00:33<01:05,  3.88it/s]\n",
      "\u001b[A\n",
      "Running evaluation:  54%|#####4    | 225/414 [00:44<00:44,  4.29it/s]\n",
      "\u001b[A\n",
      "Running evaluation:  70%|######9   | 289/414 [00:55<00:26,  4.65it/s]\n",
      "\u001b[A\n",
      "Running evaluation:  85%|########5 | 353/414 [01:07<00:12,  4.92it/s]\n",
      "\u001b[A\n",
      "Running evaluation: 100%|##########| 414/414 [01:12<00:00,  5.71it/s]\n"
     ]
    },
    {
     "name": "stdout",
     "output_type": "stream",
     "text": [
      "learning rate from ``lr_scheduler`` has been overwritten by ``learning_rate`` in optimizer.\n",
      " 58%|█████▊    | 58/100 [1:31:25<1:05:11, 93.13s/trial, best loss: 4185.391895574705]"
     ]
    },
    {
     "name": "stderr",
     "output_type": "stream",
     "text": [
      "  0%|          | 0/50 [00:00<?, ?it/s]\n",
      "\u001b[A\n",
      " 44%|####4     | 22/50 [00:10<00:12,  2.17it/s, epoch=1/1, avg_epoch_loss=6.26]\n",
      "\u001b[A\n",
      " 88%|########8 | 44/50 [00:20<00:02,  2.17it/s, epoch=1/1, avg_epoch_loss=5.59]\n",
      "\u001b[A\n",
      "100%|##########| 50/50 [00:23<00:00,  2.17it/s, epoch=1/1, avg_epoch_loss=5.38]\n",
      "Running evaluation:   0%|          | 0/414 [00:00<?, ?it/s]\n",
      "\u001b[A\n",
      "Running evaluation:  16%|#5        | 65/414 [00:13<01:12,  4.79it/s]\n",
      "\u001b[A\n",
      "Running evaluation:  39%|###8      | 161/414 [00:26<00:47,  5.32it/s]\n",
      "\u001b[A\n",
      "Running evaluation:  62%|######2   | 257/414 [00:40<00:27,  5.78it/s]\n",
      "\u001b[A\n",
      "Running evaluation:  62%|######2   | 257/414 [00:52<00:27,  5.78it/s]\n",
      "\u001b[A\n",
      "Running evaluation:  85%|########5 | 353/414 [00:53<00:09,  6.14it/s]\n",
      "\u001b[A\n",
      "Running evaluation: 100%|##########| 414/414 [00:57<00:00,  7.16it/s]\n"
     ]
    },
    {
     "name": "stdout",
     "output_type": "stream",
     "text": [
      "learning rate from ``lr_scheduler`` has been overwritten by ``learning_rate`` in optimizer.\n",
      " 59%|█████▉    | 59/100 [1:32:48<1:01:38, 90.20s/trial, best loss: 3391.9685399745495]"
     ]
    },
    {
     "name": "stderr",
     "output_type": "stream",
     "text": [
      "  0%|          | 0/50 [00:00<?, ?it/s]\n",
      "\u001b[A\n",
      " 44%|####4     | 22/50 [00:10<00:12,  2.17it/s, epoch=1/1, avg_epoch_loss=5.84]\n",
      "\u001b[A\n",
      " 88%|########8 | 44/50 [00:20<00:02,  2.16it/s, epoch=1/1, avg_epoch_loss=5.66]\n",
      "\u001b[A\n",
      "100%|##########| 50/50 [00:23<00:00,  2.16it/s, epoch=1/1, avg_epoch_loss=5.36]\n",
      "Running evaluation:   0%|          | 0/414 [00:00<?, ?it/s]\n",
      "\u001b[A\n",
      "Running evaluation:  16%|#5        | 65/414 [00:13<01:12,  4.83it/s]\n",
      "\u001b[A\n",
      "Running evaluation:  39%|###8      | 161/414 [00:26<00:47,  5.37it/s]\n",
      "\u001b[A\n",
      "Running evaluation:  39%|###8      | 161/414 [00:39<00:47,  5.37it/s]\n",
      "\u001b[A\n",
      "Running evaluation:  62%|######2   | 257/414 [00:39<00:26,  5.83it/s]\n",
      "\u001b[A\n",
      "Running evaluation:  85%|########5 | 353/414 [00:53<00:09,  6.19it/s]\n",
      "\u001b[A\n",
      "Running evaluation: 100%|##########| 414/414 [00:57<00:00,  7.22it/s]\n"
     ]
    },
    {
     "name": "stdout",
     "output_type": "stream",
     "text": [
      "learning rate from ``lr_scheduler`` has been overwritten by ``learning_rate`` in optimizer.\n",
      " 60%|██████    | 60/100 [1:34:11<58:41, 88.04s/trial, best loss: 3391.9685399745495]"
     ]
    },
    {
     "name": "stderr",
     "output_type": "stream",
     "text": [
      "  0%|          | 0/50 [00:00<?, ?it/s]\n",
      "\u001b[A\n",
      " 48%|####8     | 24/50 [00:10<00:11,  2.30it/s, epoch=1/1, avg_epoch_loss=5.82]\n",
      "\u001b[A\n",
      " 96%|#########6| 48/50 [00:20<00:00,  2.30it/s, epoch=1/1, avg_epoch_loss=5.44]\n",
      "\u001b[A\n",
      "100%|##########| 50/50 [00:21<00:00,  2.30it/s, epoch=1/1, avg_epoch_loss=5.36]\n",
      "Running evaluation:   0%|          | 0/414 [00:00<?, ?it/s]\n",
      "\u001b[A\n",
      "Running evaluation:  16%|#5        | 65/414 [00:10<00:57,  6.04it/s]\n",
      "\u001b[A\n",
      "Running evaluation:  39%|###8      | 161/414 [00:21<00:37,  6.71it/s]\n",
      "\u001b[A\n",
      "Running evaluation:  62%|######2   | 257/414 [00:31<00:21,  7.29it/s]\n",
      "\u001b[A\n",
      "Running evaluation:  85%|########5 | 353/414 [00:42<00:07,  7.75it/s]\n",
      "\u001b[A\n",
      "Running evaluation: 100%|##########| 414/414 [00:45<00:00,  9.04it/s]\n"
     ]
    },
    {
     "name": "stdout",
     "output_type": "stream",
     "text": [
      "learning rate from ``lr_scheduler`` has been overwritten by ``learning_rate`` in optimizer.\n",
      " 61%|██████    | 61/100 [1:35:21<53:42, 82.64s/trial, best loss: 3391.9685399745495]"
     ]
    },
    {
     "name": "stderr",
     "output_type": "stream",
     "text": [
      "  0%|          | 0/50 [00:00<?, ?it/s]\n",
      "\u001b[A\n",
      " 30%|###       | 15/50 [00:10<00:23,  1.48it/s, epoch=1/1, avg_epoch_loss=6.97]\n",
      "\u001b[A\n",
      " 60%|######    | 30/50 [00:20<00:13,  1.48it/s, epoch=1/1, avg_epoch_loss=6.49]\n",
      "\u001b[A\n",
      " 90%|######### | 45/50 [00:30<00:03,  1.48it/s, epoch=1/1, avg_epoch_loss=6.29]\n",
      "\u001b[A\n",
      "100%|##########| 50/50 [00:33<00:00,  1.48it/s, epoch=1/1, avg_epoch_loss=6.15]\n",
      "Running evaluation:   0%|          | 0/414 [00:00<?, ?it/s]\n",
      "\u001b[A\n",
      "Running evaluation:   8%|7         | 33/414 [00:11<02:08,  2.96it/s]\n",
      "\u001b[A\n",
      "Running evaluation:  23%|##3       | 97/414 [00:22<01:31,  3.48it/s]\n",
      "\u001b[A\n",
      "Running evaluation:  39%|###8      | 161/414 [00:33<01:03,  3.96it/s]\n",
      "\u001b[A\n",
      "Running evaluation:  54%|#####4    | 225/414 [00:44<00:43,  4.38it/s]\n",
      "\u001b[A\n",
      "Running evaluation:  70%|######9   | 289/414 [00:55<00:26,  4.73it/s]\n",
      "\u001b[A\n",
      "Running evaluation:  70%|######9   | 289/414 [01:05<00:26,  4.73it/s]\n",
      "\u001b[A\n",
      "Running evaluation:  85%|########5 | 353/414 [01:05<00:12,  5.01it/s]\n",
      "\u001b[A\n",
      "Running evaluation: 100%|##########| 414/414 [01:11<00:00,  5.81it/s]\n"
     ]
    },
    {
     "name": "stdout",
     "output_type": "stream",
     "text": [
      "learning rate from ``lr_scheduler`` has been overwritten by ``learning_rate`` in optimizer.\n",
      " 62%|██████▏   | 62/100 [1:37:09<57:05, 90.14s/trial, best loss: 3391.9685399745495]"
     ]
    },
    {
     "name": "stderr",
     "output_type": "stream",
     "text": [
      "  0%|          | 0/50 [00:00<?, ?it/s]\n",
      "\u001b[A\n",
      " 46%|####6     | 23/50 [00:10<00:12,  2.21it/s, epoch=1/1, avg_epoch_loss=5.79]\n",
      "\u001b[A\n",
      " 92%|#########2| 46/50 [00:20<00:01,  2.22it/s, epoch=1/1, avg_epoch_loss=5.64]\n",
      "\u001b[A\n",
      "100%|##########| 50/50 [00:22<00:00,  2.22it/s, epoch=1/1, avg_epoch_loss=5.46]\n",
      "Running evaluation:   0%|          | 0/414 [00:00<?, ?it/s]\n",
      "\u001b[A\n",
      "Running evaluation:  16%|#5        | 65/414 [00:11<01:04,  5.43it/s]\n",
      "\u001b[A\n",
      "Running evaluation:  39%|###8      | 161/414 [00:23<00:41,  6.03it/s]\n",
      "\u001b[A\n",
      "Running evaluation:  62%|######2   | 257/414 [00:35<00:24,  6.53it/s]\n",
      "\u001b[A\n",
      "Running evaluation:  85%|########5 | 353/414 [00:47<00:08,  6.93it/s]\n",
      "\u001b[A\n",
      "Running evaluation: 100%|##########| 414/414 [00:51<00:00,  8.09it/s]\n"
     ]
    },
    {
     "name": "stdout",
     "output_type": "stream",
     "text": [
      "learning rate from ``lr_scheduler`` has been overwritten by ``learning_rate`` in optimizer.\n",
      " 63%|██████▎   | 63/100 [1:38:25<53:00, 85.95s/trial, best loss: 3391.9685399745495]"
     ]
    },
    {
     "name": "stderr",
     "output_type": "stream",
     "text": [
      "  0%|          | 0/50 [00:00<?, ?it/s]\n",
      "\u001b[A\n",
      " 44%|####4     | 22/50 [00:10<00:13,  2.13it/s, epoch=1/1, avg_epoch_loss=6.53]\n",
      "\u001b[A\n",
      " 88%|########8 | 44/50 [00:20<00:02,  2.14it/s, epoch=1/1, avg_epoch_loss=5.95]\n",
      "\u001b[A\n",
      "100%|##########| 50/50 [00:23<00:00,  2.15it/s, epoch=1/1, avg_epoch_loss=5.78]\n",
      "Running evaluation:   0%|          | 0/414 [00:00<?, ?it/s]\n",
      "\u001b[A\n",
      "Running evaluation:  16%|#5        | 65/414 [00:13<01:13,  4.76it/s]\n",
      "\u001b[A\n",
      "Running evaluation:  39%|###8      | 161/414 [00:27<00:47,  5.28it/s]\n",
      "\u001b[A\n",
      "Running evaluation:  62%|######2   | 257/414 [00:40<00:27,  5.73it/s]\n",
      "\u001b[A\n",
      "Running evaluation:  62%|######2   | 257/414 [00:52<00:27,  5.73it/s]\n",
      "\u001b[A\n",
      "Running evaluation:  85%|########5 | 353/414 [00:54<00:10,  6.09it/s]\n",
      "\u001b[A\n",
      "Running evaluation: 100%|##########| 414/414 [00:58<00:00,  7.09it/s]\n"
     ]
    },
    {
     "name": "stdout",
     "output_type": "stream",
     "text": [
      "learning rate from ``lr_scheduler`` has been overwritten by ``learning_rate`` in optimizer.\n",
      " 64%|██████▍   | 64/100 [1:39:49<51:15, 85.42s/trial, best loss: 3391.9685399745495]"
     ]
    },
    {
     "name": "stderr",
     "output_type": "stream",
     "text": [
      "  0%|          | 0/50 [00:00<?, ?it/s]\n",
      "\u001b[A\n",
      " 30%|###       | 15/50 [00:10<00:24,  1.44it/s, epoch=1/1, avg_epoch_loss=6.42]\n",
      "\u001b[A\n",
      " 60%|######    | 30/50 [00:20<00:13,  1.44it/s, epoch=1/1, avg_epoch_loss=6.18]\n",
      "\u001b[A\n",
      " 90%|######### | 45/50 [00:31<00:03,  1.44it/s, epoch=1/1, avg_epoch_loss=5.98]\n",
      "\u001b[A\n",
      "100%|##########| 50/50 [00:34<00:00,  1.44it/s, epoch=1/1, avg_epoch_loss=5.7] \n",
      "Running evaluation:   0%|          | 0/414 [00:00<?, ?it/s]\n",
      "\u001b[A\n",
      "Running evaluation:   8%|7         | 33/414 [00:11<02:15,  2.81it/s]\n",
      "\u001b[A\n",
      "Running evaluation:  23%|##3       | 97/414 [00:23<01:36,  3.30it/s]\n",
      "\u001b[A\n",
      "Running evaluation:  39%|###8      | 161/414 [00:34<01:07,  3.74it/s]\n",
      "\u001b[A\n",
      "Running evaluation:  39%|###8      | 161/414 [00:46<01:07,  3.74it/s]\n",
      "\u001b[A\n",
      "Running evaluation:  54%|#####4    | 225/414 [00:46<00:45,  4.13it/s]\n",
      "\u001b[A\n",
      "Running evaluation:  70%|######9   | 289/414 [00:58<00:28,  4.45it/s]\n",
      "\u001b[A\n",
      "Running evaluation:  85%|########5 | 353/414 [01:10<00:12,  4.70it/s]\n",
      "\u001b[A\n",
      "Running evaluation: 100%|##########| 414/414 [01:15<00:00,  5.45it/s]\n"
     ]
    },
    {
     "name": "stdout",
     "output_type": "stream",
     "text": [
      "learning rate from ``lr_scheduler`` has been overwritten by ``learning_rate`` in optimizer.\n",
      " 65%|██████▌   | 65/100 [1:41:42<54:41, 93.76s/trial, best loss: 3391.9685399745495]"
     ]
    },
    {
     "name": "stderr",
     "output_type": "stream",
     "text": [
      "  0%|          | 0/50 [00:00<?, ?it/s]\n",
      "\u001b[A\n",
      " 44%|####4     | 22/50 [00:10<00:13,  2.12it/s, epoch=1/1, avg_epoch_loss=6.63]\n",
      "\u001b[A\n",
      " 88%|########8 | 44/50 [00:20<00:02,  2.12it/s, epoch=1/1, avg_epoch_loss=6.1] \n",
      "\u001b[A\n",
      "100%|##########| 50/50 [00:23<00:00,  2.12it/s, epoch=1/1, avg_epoch_loss=5.74]\n",
      "Running evaluation:   0%|          | 0/414 [00:00<?, ?it/s]\n",
      "\u001b[A\n",
      "Running evaluation:  16%|#5        | 65/414 [00:13<01:14,  4.71it/s]\n",
      "\u001b[A\n",
      "Running evaluation:  16%|#5        | 65/414 [00:24<01:14,  4.71it/s]\n",
      "\u001b[A\n",
      "Running evaluation:  39%|###8      | 161/414 [00:27<00:48,  5.24it/s]\n",
      "\u001b[A\n",
      "Running evaluation:  62%|######2   | 257/414 [00:40<00:27,  5.69it/s]\n",
      "\u001b[A\n",
      "Running evaluation:  85%|########5 | 353/414 [00:54<00:10,  6.06it/s]\n",
      "\u001b[A\n",
      "Running evaluation: 100%|##########| 414/414 [00:58<00:00,  7.08it/s]\n"
     ]
    },
    {
     "name": "stdout",
     "output_type": "stream",
     "text": [
      "learning rate from ``lr_scheduler`` has been overwritten by ``learning_rate`` in optimizer.\n",
      " 66%|██████▌   | 66/100 [1:43:07<51:34, 91.01s/trial, best loss: 3391.9685399745495]"
     ]
    },
    {
     "name": "stderr",
     "output_type": "stream",
     "text": [
      "  0%|          | 0/50 [00:00<?, ?it/s]\n",
      "\u001b[A\n",
      " 44%|####4     | 22/50 [00:10<00:12,  2.16it/s, epoch=1/1, avg_epoch_loss=5.95]\n",
      "\u001b[A\n",
      " 88%|########8 | 44/50 [00:20<00:02,  2.16it/s, epoch=1/1, avg_epoch_loss=5.56]\n",
      "\u001b[A\n",
      "100%|##########| 50/50 [00:23<00:00,  2.16it/s, epoch=1/1, avg_epoch_loss=5.3] \n",
      "Running evaluation:   0%|          | 0/414 [00:00<?, ?it/s]\n",
      "\u001b[A\n",
      "Running evaluation:  16%|#5        | 65/414 [00:13<01:12,  4.81it/s]\n",
      "\u001b[A\n",
      "Running evaluation:  39%|###8      | 161/414 [00:26<00:47,  5.35it/s]\n",
      "\u001b[A\n",
      "Running evaluation:  62%|######2   | 257/414 [00:39<00:26,  5.82it/s]\n",
      "\u001b[A\n",
      "Running evaluation:  62%|######2   | 257/414 [00:50<00:26,  5.82it/s]\n",
      "\u001b[A\n",
      "Running evaluation:  85%|########5 | 353/414 [00:53<00:09,  6.17it/s]\n",
      "\u001b[A\n",
      "Running evaluation: 100%|##########| 414/414 [00:57<00:00,  7.21it/s]\n"
     ]
    },
    {
     "name": "stdout",
     "output_type": "stream",
     "text": [
      "learning rate from ``lr_scheduler`` has been overwritten by ``learning_rate`` in optimizer.\n",
      " 67%|██████▋   | 67/100 [1:44:30<48:45, 88.64s/trial, best loss: 3391.9685399745495]"
     ]
    },
    {
     "name": "stderr",
     "output_type": "stream",
     "text": [
      "  0%|          | 0/50 [00:00<?, ?it/s]\n",
      "\u001b[A\n",
      " 44%|####4     | 22/50 [00:10<00:12,  2.16it/s, epoch=1/1, avg_epoch_loss=6.19]\n",
      "\u001b[A\n",
      " 88%|########8 | 44/50 [00:20<00:02,  2.16it/s, epoch=1/1, avg_epoch_loss=5.61]\n",
      "\u001b[A\n",
      "100%|##########| 50/50 [00:23<00:00,  2.16it/s, epoch=1/1, avg_epoch_loss=5.5] \n",
      "Running evaluation:   0%|          | 0/414 [00:00<?, ?it/s]\n",
      "\u001b[A\n",
      "Running evaluation:  16%|#5        | 65/414 [00:13<01:13,  4.77it/s]\n",
      "\u001b[A\n",
      "Running evaluation:  39%|###8      | 161/414 [00:26<00:47,  5.31it/s]\n",
      "\u001b[A\n",
      "Running evaluation:  39%|###8      | 161/414 [00:37<00:47,  5.31it/s]\n",
      "\u001b[A\n",
      "Running evaluation:  62%|######2   | 257/414 [00:40<00:27,  5.76it/s]\n",
      "\u001b[A\n",
      "Running evaluation:  85%|########5 | 353/414 [00:53<00:09,  6.14it/s]\n",
      "\u001b[A\n",
      "Running evaluation: 100%|##########| 414/414 [00:57<00:00,  7.16it/s]\n"
     ]
    },
    {
     "name": "stdout",
     "output_type": "stream",
     "text": [
      "learning rate from ``lr_scheduler`` has been overwritten by ``learning_rate`` in optimizer.\n",
      " 68%|██████▊   | 68/100 [1:45:53<46:26, 87.07s/trial, best loss: 3391.9685399745495]"
     ]
    },
    {
     "name": "stderr",
     "output_type": "stream",
     "text": [
      "  0%|          | 0/50 [00:00<?, ?it/s]\n",
      "\u001b[A\n",
      " 44%|####4     | 22/50 [00:10<00:13,  2.15it/s, epoch=1/1, avg_epoch_loss=6.15]\n",
      "\u001b[A\n",
      " 88%|########8 | 44/50 [00:20<00:02,  2.15it/s, epoch=1/1, avg_epoch_loss=5.87]\n",
      "\u001b[A\n",
      "100%|##########| 50/50 [00:23<00:00,  2.16it/s, epoch=1/1, avg_epoch_loss=5.53]\n",
      "Running evaluation:   0%|          | 0/414 [00:00<?, ?it/s]\n",
      "\u001b[A\n",
      "Running evaluation:  16%|#5        | 65/414 [00:13<01:12,  4.85it/s]\n",
      "\u001b[A\n",
      "Running evaluation:  16%|#5        | 65/414 [00:23<01:12,  4.85it/s]\n",
      "\u001b[A\n",
      "Running evaluation:  39%|###8      | 161/414 [00:26<00:47,  5.37it/s]\n",
      "\u001b[A\n",
      "Running evaluation:  62%|######2   | 257/414 [00:40<00:27,  5.81it/s]\n",
      "\u001b[A\n",
      "Running evaluation:  85%|########5 | 353/414 [00:53<00:09,  6.16it/s]\n",
      "\u001b[A\n",
      "Running evaluation: 100%|##########| 414/414 [00:57<00:00,  7.17it/s]\n"
     ]
    },
    {
     "name": "stdout",
     "output_type": "stream",
     "text": [
      "learning rate from ``lr_scheduler`` has been overwritten by ``learning_rate`` in optimizer.\n",
      " 69%|██████▉   | 69/100 [1:47:17<44:25, 86.00s/trial, best loss: 3391.9685399745495]"
     ]
    },
    {
     "name": "stderr",
     "output_type": "stream",
     "text": [
      "  0%|          | 0/50 [00:00<?, ?it/s]\n",
      "\u001b[A\n",
      " 44%|####4     | 22/50 [00:10<00:12,  2.17it/s, epoch=1/1, avg_epoch_loss=6.43]\n",
      "\u001b[A\n",
      " 88%|########8 | 44/50 [00:20<00:02,  2.17it/s, epoch=1/1, avg_epoch_loss=6.06]\n",
      "\u001b[A\n",
      "100%|##########| 50/50 [00:23<00:00,  2.17it/s, epoch=1/1, avg_epoch_loss=5.75]\n",
      "Running evaluation:   0%|          | 0/414 [00:00<?, ?it/s]\n",
      "\u001b[A\n",
      "Running evaluation:  16%|#5        | 65/414 [00:13<01:12,  4.81it/s]\n",
      "\u001b[A\n",
      "Running evaluation:  39%|###8      | 161/414 [00:26<00:47,  5.34it/s]\n",
      "\u001b[A\n",
      "Running evaluation:  62%|######2   | 257/414 [00:40<00:27,  5.80it/s]\n",
      "\u001b[A\n",
      "Running evaluation:  62%|######2   | 257/414 [00:50<00:27,  5.80it/s]\n",
      "\u001b[A\n",
      "Running evaluation:  85%|########5 | 353/414 [00:53<00:09,  6.16it/s]\n",
      "\u001b[A\n",
      "Running evaluation: 100%|##########| 414/414 [00:57<00:00,  7.19it/s]\n"
     ]
    },
    {
     "name": "stdout",
     "output_type": "stream",
     "text": [
      "learning rate from ``lr_scheduler`` has been overwritten by ``learning_rate`` in optimizer.\n",
      " 70%|███████   | 70/100 [1:48:40<42:34, 85.15s/trial, best loss: 3391.9685399745495]"
     ]
    },
    {
     "name": "stderr",
     "output_type": "stream",
     "text": [
      "  0%|          | 0/50 [00:00<?, ?it/s]\n",
      "\u001b[A\n",
      " 44%|####4     | 22/50 [00:10<00:13,  2.13it/s, epoch=1/1, avg_epoch_loss=6.26]\n",
      "\u001b[A\n",
      " 44%|####4     | 22/50 [00:20<00:13,  2.13it/s, epoch=1/1, avg_epoch_loss=5.67]\n",
      "\u001b[A\n",
      " 88%|########8 | 44/50 [00:20<00:02,  2.14it/s, epoch=1/1, avg_epoch_loss=5.74]\n",
      "\u001b[A\n",
      "100%|##########| 50/50 [00:23<00:00,  2.15it/s, epoch=1/1, avg_epoch_loss=5.67]\n",
      "Running evaluation:   0%|          | 0/414 [00:00<?, ?it/s]\n",
      "\u001b[A\n",
      "Running evaluation:  16%|#5        | 65/414 [00:13<01:11,  4.85it/s]\n",
      "\u001b[A\n",
      "Running evaluation:  39%|###8      | 161/414 [00:26<00:46,  5.38it/s]\n",
      "\u001b[A\n",
      "Running evaluation:  39%|###8      | 161/414 [00:37<00:46,  5.38it/s]\n",
      "\u001b[A\n",
      "Running evaluation:  62%|######2   | 257/414 [00:39<00:26,  5.85it/s]\n",
      "\u001b[A\n",
      "Running evaluation:  85%|########5 | 353/414 [00:52<00:09,  6.21it/s]\n",
      "\u001b[A\n",
      "Running evaluation: 100%|##########| 414/414 [00:57<00:00,  7.25it/s]\n"
     ]
    },
    {
     "name": "stdout",
     "output_type": "stream",
     "text": [
      "learning rate from ``lr_scheduler`` has been overwritten by ``learning_rate`` in optimizer.\n",
      " 71%|███████   | 71/100 [1:50:03<40:51, 84.53s/trial, best loss: 3391.9685399745495]"
     ]
    },
    {
     "name": "stderr",
     "output_type": "stream",
     "text": [
      "  0%|          | 0/50 [00:00<?, ?it/s]\n",
      "\u001b[A\n",
      " 44%|####4     | 22/50 [00:10<00:12,  2.20it/s, epoch=1/1, avg_epoch_loss=6.4]\n",
      "\u001b[A\n",
      " 88%|########8 | 44/50 [00:20<00:02,  2.20it/s, epoch=1/1, avg_epoch_loss=5.83]\n",
      "\u001b[A\n",
      "100%|##########| 50/50 [00:22<00:00,  2.20it/s, epoch=1/1, avg_epoch_loss=5.65]\n",
      "Running evaluation:   0%|          | 0/414 [00:00<?, ?it/s]\n",
      "\u001b[A\n",
      "Running evaluation:  16%|#5        | 65/414 [00:13<01:10,  4.92it/s]\n",
      "\u001b[A\n",
      "Running evaluation:  16%|#5        | 65/414 [00:24<01:10,  4.92it/s]\n",
      "\u001b[A\n",
      "Running evaluation:  39%|###8      | 161/414 [00:26<00:46,  5.46it/s]\n",
      "\u001b[A\n",
      "Running evaluation:  62%|######2   | 257/414 [00:39<00:26,  5.92it/s]\n",
      "\u001b[A\n",
      "Running evaluation:  85%|########5 | 353/414 [00:52<00:09,  6.28it/s]\n",
      "\u001b[A\n",
      "Running evaluation: 100%|##########| 414/414 [00:56<00:00,  7.32it/s]\n"
     ]
    },
    {
     "name": "stdout",
     "output_type": "stream",
     "text": [
      "learning rate from ``lr_scheduler`` has been overwritten by ``learning_rate`` in optimizer.\n",
      " 72%|███████▏  | 72/100 [1:51:25<39:04, 83.72s/trial, best loss: 3291.1304598623396]"
     ]
    },
    {
     "name": "stderr",
     "output_type": "stream",
     "text": [
      "  0%|          | 0/50 [00:00<?, ?it/s]\n",
      "\u001b[A\n",
      " 44%|####4     | 22/50 [00:10<00:12,  2.20it/s, epoch=1/1, avg_epoch_loss=6.05]\n",
      "\u001b[A\n",
      " 90%|######### | 45/50 [00:20<00:02,  2.20it/s, epoch=1/1, avg_epoch_loss=5.68]\n",
      "\u001b[A\n",
      "100%|##########| 50/50 [00:22<00:00,  2.20it/s, epoch=1/1, avg_epoch_loss=5.63]\n",
      "Running evaluation:   0%|          | 0/414 [00:00<?, ?it/s]\n",
      "\u001b[A\n",
      "Running evaluation:  16%|#5        | 65/414 [00:13<01:11,  4.88it/s]\n",
      "\u001b[A\n",
      "Running evaluation:  39%|###8      | 161/414 [00:26<00:46,  5.43it/s]\n",
      "\u001b[A\n",
      "Running evaluation:  62%|######2   | 257/414 [00:39<00:26,  5.90it/s]\n",
      "\u001b[A\n",
      "Running evaluation:  85%|########5 | 353/414 [00:52<00:09,  6.29it/s]\n",
      "\u001b[A\n",
      "Running evaluation: 100%|##########| 414/414 [00:56<00:00,  7.34it/s]\n"
     ]
    },
    {
     "name": "stdout",
     "output_type": "stream",
     "text": [
      "learning rate from ``lr_scheduler`` has been overwritten by ``learning_rate`` in optimizer.\n",
      " 73%|███████▎  | 73/100 [1:52:47<37:23, 83.11s/trial, best loss: 3291.1304598623396]"
     ]
    },
    {
     "name": "stderr",
     "output_type": "stream",
     "text": [
      "  0%|          | 0/50 [00:00<?, ?it/s]\n",
      "\u001b[A\n",
      " 44%|####4     | 22/50 [00:10<00:12,  2.18it/s, epoch=1/1, avg_epoch_loss=6.26]\n",
      "\u001b[A\n",
      " 88%|########8 | 44/50 [00:20<00:02,  2.18it/s, epoch=1/1, avg_epoch_loss=6.02]\n",
      "\u001b[A\n",
      "100%|##########| 50/50 [00:22<00:00,  2.18it/s, epoch=1/1, avg_epoch_loss=5.75]\n",
      "Running evaluation:   0%|          | 0/414 [00:00<?, ?it/s]\n",
      "\u001b[A\n",
      "Running evaluation:  16%|#5        | 65/414 [00:13<01:10,  4.92it/s]\n",
      "\u001b[A\n",
      "Running evaluation:  39%|###8      | 161/414 [00:26<00:46,  5.48it/s]\n",
      "\u001b[A\n",
      "Running evaluation:  62%|######2   | 257/414 [00:38<00:26,  5.96it/s]\n",
      "\u001b[A\n",
      "Running evaluation:  62%|######2   | 257/414 [00:50<00:26,  5.96it/s]\n",
      "\u001b[A\n",
      "Running evaluation:  85%|########5 | 353/414 [00:51<00:09,  6.34it/s]\n",
      "\u001b[A\n",
      "Running evaluation: 100%|##########| 414/414 [00:55<00:00,  7.41it/s]\n"
     ]
    },
    {
     "name": "stdout",
     "output_type": "stream",
     "text": [
      "learning rate from ``lr_scheduler`` has been overwritten by ``learning_rate`` in optimizer.\n",
      " 74%|███████▍  | 74/100 [1:54:08<35:46, 82.56s/trial, best loss: 3291.1304598623396]"
     ]
    },
    {
     "name": "stderr",
     "output_type": "stream",
     "text": [
      "  0%|          | 0/50 [00:00<?, ?it/s]\n",
      "\u001b[A\n",
      " 44%|####4     | 22/50 [00:10<00:12,  2.20it/s, epoch=1/1, avg_epoch_loss=5.86]\n",
      "\u001b[A\n",
      " 90%|######### | 45/50 [00:20<00:02,  2.20it/s, epoch=1/1, avg_epoch_loss=5.85]\n",
      "\u001b[A\n",
      "100%|##########| 50/50 [00:22<00:00,  2.21it/s, epoch=1/1, avg_epoch_loss=5.56]\n",
      "Running evaluation:   0%|          | 0/414 [00:00<?, ?it/s]\n",
      "\u001b[A\n",
      "Running evaluation:  16%|#5        | 65/414 [00:13<01:13,  4.77it/s]\n",
      "\u001b[A\n",
      "Running evaluation:  39%|###8      | 161/414 [00:26<00:47,  5.33it/s]\n",
      "\u001b[A\n",
      "Running evaluation:  62%|######2   | 257/414 [00:39<00:27,  5.81it/s]\n",
      "\u001b[A\n",
      "Running evaluation:  62%|######2   | 257/414 [00:49<00:27,  5.81it/s]\n",
      "\u001b[A\n",
      "Running evaluation:  85%|########5 | 353/414 [00:52<00:09,  6.20it/s]\n",
      "\u001b[A\n",
      "Running evaluation: 100%|##########| 414/414 [00:57<00:00,  7.26it/s]\n"
     ]
    },
    {
     "name": "stdout",
     "output_type": "stream",
     "text": [
      "learning rate from ``lr_scheduler`` has been overwritten by ``learning_rate`` in optimizer.\n",
      " 75%|███████▌  | 75/100 [1:55:30<34:20, 82.43s/trial, best loss: 3291.1304598623396]"
     ]
    },
    {
     "name": "stderr",
     "output_type": "stream",
     "text": [
      "  0%|          | 0/50 [00:00<?, ?it/s]\n",
      "\u001b[A\n",
      " 48%|####8     | 24/50 [00:10<00:10,  2.39it/s, epoch=1/1, avg_epoch_loss=6.48]\n",
      "\u001b[A\n",
      " 96%|#########6| 48/50 [00:20<00:00,  2.38it/s, epoch=1/1, avg_epoch_loss=5.94]\n",
      "\u001b[A\n",
      "100%|##########| 50/50 [00:21<00:00,  2.37it/s, epoch=1/1, avg_epoch_loss=5.81]\n",
      "Running evaluation:   0%|          | 0/414 [00:00<?, ?it/s]\n",
      "\u001b[A\n",
      "Running evaluation:  16%|#5        | 65/414 [00:10<00:55,  6.32it/s]\n",
      "\u001b[A\n",
      "Running evaluation:  39%|###8      | 161/414 [00:20<00:35,  7.03it/s]\n",
      "\u001b[A\n",
      "Running evaluation:  62%|######2   | 257/414 [00:30<00:20,  7.64it/s]\n",
      "\u001b[A\n",
      "Running evaluation:  85%|########5 | 353/414 [00:40<00:07,  8.13it/s]\n",
      "\u001b[A\n",
      "Running evaluation: 100%|##########| 414/414 [00:43<00:00,  9.49it/s]\n"
     ]
    },
    {
     "name": "stdout",
     "output_type": "stream",
     "text": [
      "learning rate from ``lr_scheduler`` has been overwritten by ``learning_rate`` in optimizer.\n",
      " 76%|███████▌  | 76/100 [1:56:37<31:08, 77.84s/trial, best loss: 3291.1304598623396]"
     ]
    },
    {
     "name": "stderr",
     "output_type": "stream",
     "text": [
      "  0%|          | 0/50 [00:00<?, ?it/s]\n",
      "\u001b[A\n",
      " 46%|####6     | 23/50 [00:10<00:12,  2.21it/s, epoch=1/1, avg_epoch_loss=5.79]\n",
      "\u001b[A\n",
      " 92%|#########2| 46/50 [00:20<00:01,  2.20it/s, epoch=1/1, avg_epoch_loss=5.42]\n",
      "\u001b[A\n",
      "100%|##########| 50/50 [00:22<00:00,  2.19it/s, epoch=1/1, avg_epoch_loss=5.31]\n",
      "Running evaluation:   0%|          | 0/414 [00:00<?, ?it/s]\n",
      "\u001b[A\n",
      "Running evaluation:  16%|#5        | 65/414 [00:13<01:12,  4.82it/s]\n",
      "\u001b[A\n",
      "Running evaluation:  39%|###8      | 161/414 [00:26<00:47,  5.38it/s]\n",
      "\u001b[A\n",
      "Running evaluation:  62%|######2   | 257/414 [00:39<00:26,  5.87it/s]\n",
      "\u001b[A\n",
      "Running evaluation:  62%|######2   | 257/414 [00:50<00:26,  5.87it/s]\n",
      "\u001b[A\n",
      "Running evaluation:  85%|########5 | 353/414 [00:52<00:09,  6.28it/s]\n",
      "\u001b[A\n",
      "Running evaluation: 100%|##########| 414/414 [00:56<00:00,  7.36it/s]\n"
     ]
    },
    {
     "name": "stdout",
     "output_type": "stream",
     "text": [
      "learning rate from ``lr_scheduler`` has been overwritten by ``learning_rate`` in optimizer.\n",
      " 77%|███████▋  | 77/100 [1:57:59<30:15, 78.92s/trial, best loss: 3291.1304598623396]"
     ]
    },
    {
     "name": "stderr",
     "output_type": "stream",
     "text": [
      "  0%|          | 0/50 [00:00<?, ?it/s]\n",
      "\u001b[A\n",
      " 46%|####6     | 23/50 [00:10<00:11,  2.28it/s, epoch=1/1, avg_epoch_loss=5.79]\n",
      "\u001b[A\n",
      " 92%|#########2| 46/50 [00:20<00:01,  2.28it/s, epoch=1/1, avg_epoch_loss=5.71]\n",
      "\u001b[A\n",
      "100%|##########| 50/50 [00:21<00:00,  2.28it/s, epoch=1/1, avg_epoch_loss=5.46]\n",
      "Running evaluation:   0%|          | 0/414 [00:00<?, ?it/s]\n",
      "\u001b[A\n",
      "Running evaluation:  16%|#5        | 65/414 [00:11<01:02,  5.60it/s]\n",
      "\u001b[A\n",
      "Running evaluation:  39%|###8      | 161/414 [00:22<00:40,  6.25it/s]\n",
      "\u001b[A\n",
      "Running evaluation:  62%|######2   | 257/414 [00:34<00:23,  6.78it/s]\n",
      "\u001b[A\n",
      "Running evaluation:  85%|########5 | 353/414 [00:45<00:08,  7.20it/s]\n",
      "\u001b[A\n",
      "Running evaluation: 100%|##########| 414/414 [00:49<00:00,  8.41it/s]\n"
     ]
    },
    {
     "name": "stdout",
     "output_type": "stream",
     "text": [
      "learning rate from ``lr_scheduler`` has been overwritten by ``learning_rate`` in optimizer.\n",
      " 78%|███████▊  | 78/100 [1:59:12<28:21, 77.32s/trial, best loss: 3291.1304598623396]"
     ]
    },
    {
     "name": "stderr",
     "output_type": "stream",
     "text": [
      "  0%|          | 0/50 [00:00<?, ?it/s]\n",
      "\u001b[A\n",
      " 46%|####6     | 23/50 [00:10<00:12,  2.23it/s, epoch=1/1, avg_epoch_loss=6.17]\n",
      "\u001b[A\n",
      " 92%|#########2| 46/50 [00:20<00:01,  2.24it/s, epoch=1/1, avg_epoch_loss=5.87]\n",
      "\u001b[A\n",
      "100%|##########| 50/50 [00:22<00:00,  2.24it/s, epoch=1/1, avg_epoch_loss=5.71]\n",
      "Running evaluation:   0%|          | 0/414 [00:00<?, ?it/s]\n",
      "\u001b[A\n",
      "Running evaluation:  16%|#5        | 65/414 [00:12<01:09,  5.02it/s]\n",
      "\u001b[A\n",
      "Running evaluation:  39%|###8      | 161/414 [00:25<00:45,  5.60it/s]\n",
      "\u001b[A\n",
      "Running evaluation:  39%|###8      | 161/414 [00:35<00:45,  5.60it/s]\n",
      "\u001b[A\n",
      "Running evaluation:  62%|######2   | 257/414 [00:38<00:25,  6.09it/s]\n",
      "\u001b[A\n",
      "Running evaluation:  85%|########5 | 353/414 [00:50<00:09,  6.46it/s]\n",
      "\u001b[A\n",
      "Running evaluation: 100%|##########| 414/414 [00:54<00:00,  7.56it/s]\n"
     ]
    },
    {
     "name": "stdout",
     "output_type": "stream",
     "text": [
      "learning rate from ``lr_scheduler`` has been overwritten by ``learning_rate`` in optimizer.\n",
      " 79%|███████▉  | 79/100 [2:00:32<27:17, 77.99s/trial, best loss: 3291.1304598623396]"
     ]
    },
    {
     "name": "stderr",
     "output_type": "stream",
     "text": [
      "  0%|          | 0/50 [00:00<?, ?it/s]\n",
      "\u001b[A\n",
      " 30%|###       | 15/50 [00:10<00:23,  1.50it/s, epoch=1/1, avg_epoch_loss=5.68]\n",
      "\u001b[A\n",
      " 60%|######    | 30/50 [00:20<00:13,  1.49it/s, epoch=1/1, avg_epoch_loss=6.03]\n",
      "\u001b[A\n",
      " 90%|######### | 45/50 [00:30<00:03,  1.48it/s, epoch=1/1, avg_epoch_loss=5.96]\n",
      "\u001b[A\n",
      "100%|##########| 50/50 [00:33<00:00,  1.48it/s, epoch=1/1, avg_epoch_loss=5.71]\n",
      "Running evaluation:   0%|          | 0/414 [00:00<?, ?it/s]\n",
      "\u001b[A\n",
      "Running evaluation:   8%|7         | 33/414 [00:11<02:14,  2.84it/s]\n",
      "\u001b[A\n",
      "Running evaluation:  23%|##3       | 97/414 [00:22<01:34,  3.34it/s]\n",
      "\u001b[A\n",
      "Running evaluation:  39%|###8      | 161/414 [00:34<01:06,  3.81it/s]\n",
      "\u001b[A\n",
      "Running evaluation:  39%|###8      | 161/414 [00:44<01:06,  3.81it/s]\n",
      "\u001b[A\n",
      "Running evaluation:  54%|#####4    | 225/414 [00:45<00:44,  4.22it/s]\n",
      "\u001b[A\n",
      "Running evaluation:  70%|######9   | 289/414 [00:56<00:27,  4.57it/s]\n",
      "\u001b[A\n",
      "Running evaluation:  85%|########5 | 353/414 [01:08<00:12,  4.85it/s]\n",
      "\u001b[A\n",
      "Running evaluation: 100%|##########| 414/414 [01:13<00:00,  5.63it/s]\n"
     ]
    },
    {
     "name": "stdout",
     "output_type": "stream",
     "text": [
      "learning rate from ``lr_scheduler`` has been overwritten by ``learning_rate`` in optimizer.\n",
      " 80%|████████  | 80/100 [2:02:22<29:10, 87.54s/trial, best loss: 3291.1304598623396]"
     ]
    },
    {
     "name": "stderr",
     "output_type": "stream",
     "text": [
      "  0%|          | 0/50 [00:00<?, ?it/s]\n",
      "\u001b[A\n",
      " 48%|####8     | 24/50 [00:10<00:11,  2.32it/s, epoch=1/1, avg_epoch_loss=6.11]\n",
      "\u001b[A\n",
      " 96%|#########6| 48/50 [00:20<00:00,  2.33it/s, epoch=1/1, avg_epoch_loss=5.81]\n",
      "\u001b[A\n",
      "100%|##########| 50/50 [00:21<00:00,  2.33it/s, epoch=1/1, avg_epoch_loss=5.69]\n",
      "Running evaluation:   0%|          | 0/414 [00:00<?, ?it/s]\n",
      "\u001b[A\n",
      "Running evaluation:  16%|#5        | 65/414 [00:10<00:55,  6.24it/s]\n",
      "\u001b[A\n",
      "Running evaluation:  39%|###8      | 161/414 [00:20<00:36,  6.95it/s]\n",
      "\u001b[A\n",
      "Running evaluation:  62%|######2   | 257/414 [00:30<00:20,  7.54it/s]\n",
      "\u001b[A\n",
      "Running evaluation:  85%|########5 | 353/414 [00:40<00:07,  8.03it/s]\n",
      "\u001b[A\n",
      "Running evaluation: 100%|##########| 414/414 [00:44<00:00,  9.38it/s]\n"
     ]
    },
    {
     "name": "stdout",
     "output_type": "stream",
     "text": [
      "learning rate from ``lr_scheduler`` has been overwritten by ``learning_rate`` in optimizer.\n",
      " 81%|████████  | 81/100 [2:03:30<25:52, 81.70s/trial, best loss: 3291.1304598623396]"
     ]
    },
    {
     "name": "stderr",
     "output_type": "stream",
     "text": [
      "  0%|          | 0/50 [00:00<?, ?it/s]\n",
      "\u001b[A\n",
      " 30%|###       | 15/50 [00:10<00:23,  1.49it/s, epoch=1/1, avg_epoch_loss=5.95]\n",
      "\u001b[A\n",
      " 60%|######    | 30/50 [00:20<00:13,  1.49it/s, epoch=1/1, avg_epoch_loss=6.18]\n",
      "\u001b[A\n",
      " 90%|######### | 45/50 [00:30<00:03,  1.48it/s, epoch=1/1, avg_epoch_loss=5.87]\n",
      "\u001b[A\n",
      "100%|##########| 50/50 [00:33<00:00,  1.48it/s, epoch=1/1, avg_epoch_loss=5.67]\n",
      "Running evaluation:   0%|          | 0/414 [00:00<?, ?it/s]\n",
      "\u001b[A\n",
      "Running evaluation:   8%|7         | 33/414 [00:11<02:09,  2.93it/s]\n",
      "\u001b[A\n",
      "Running evaluation:  23%|##3       | 97/414 [00:22<01:32,  3.44it/s]\n",
      "\u001b[A\n",
      "Running evaluation:  39%|###8      | 161/414 [00:33<01:04,  3.93it/s]\n",
      "\u001b[A\n",
      "Running evaluation:  54%|#####4    | 225/414 [00:44<00:43,  4.35it/s]\n",
      "\u001b[A\n",
      "Running evaluation:  70%|######9   | 289/414 [00:55<00:26,  4.69it/s]\n",
      "\u001b[A\n",
      "Running evaluation:  85%|########5 | 353/414 [01:06<00:12,  4.96it/s]\n",
      "\u001b[A\n",
      "Running evaluation: 100%|##########| 414/414 [01:11<00:00,  5.77it/s]\n"
     ]
    },
    {
     "name": "stdout",
     "output_type": "stream",
     "text": [
      "learning rate from ``lr_scheduler`` has been overwritten by ``learning_rate`` in optimizer.\n",
      " 82%|████████▏ | 82/100 [2:05:18<26:52, 89.59s/trial, best loss: 3291.1304598623396]"
     ]
    },
    {
     "name": "stderr",
     "output_type": "stream",
     "text": [
      "  0%|          | 0/50 [00:00<?, ?it/s]\n",
      "\u001b[A\n",
      " 46%|####6     | 23/50 [00:10<00:11,  2.27it/s, epoch=1/1, avg_epoch_loss=5.79]\n",
      "\u001b[A\n",
      " 92%|#########2| 46/50 [00:20<00:01,  2.27it/s, epoch=1/1, avg_epoch_loss=5.63]\n",
      "\u001b[A\n",
      "100%|##########| 50/50 [00:22<00:00,  2.27it/s, epoch=1/1, avg_epoch_loss=5.43]\n",
      "Running evaluation:   0%|          | 0/414 [00:00<?, ?it/s]\n",
      "\u001b[A\n",
      "Running evaluation:  16%|#5        | 65/414 [00:11<01:02,  5.56it/s]\n",
      "\u001b[A\n",
      "Running evaluation:  39%|###8      | 161/414 [00:23<00:41,  6.17it/s]\n",
      "\u001b[A\n",
      "Running evaluation:  62%|######2   | 257/414 [00:34<00:23,  6.68it/s]\n",
      "\u001b[A\n",
      "Running evaluation:  85%|########5 | 353/414 [00:46<00:08,  7.08it/s]\n",
      "\u001b[A\n",
      "Running evaluation: 100%|##########| 414/414 [00:50<00:00,  8.24it/s]\n"
     ]
    },
    {
     "name": "stdout",
     "output_type": "stream",
     "text": [
      "learning rate from ``lr_scheduler`` has been overwritten by ``learning_rate`` in optimizer.\n",
      " 83%|████████▎ | 83/100 [2:06:32<24:07, 85.15s/trial, best loss: 3291.1304598623396]"
     ]
    },
    {
     "name": "stderr",
     "output_type": "stream",
     "text": [
      "  0%|          | 0/50 [00:00<?, ?it/s]\n",
      "\u001b[A\n",
      " 30%|###       | 15/50 [00:10<00:23,  1.49it/s, epoch=1/1, avg_epoch_loss=7.05]\n",
      "\u001b[A\n",
      " 60%|######    | 30/50 [00:20<00:13,  1.49it/s, epoch=1/1, avg_epoch_loss=6.92]\n",
      "\u001b[A\n",
      " 90%|######### | 45/50 [00:30<00:03,  1.49it/s, epoch=1/1, avg_epoch_loss=6.54]\n",
      "\u001b[A\n",
      "100%|##########| 50/50 [00:33<00:00,  1.48it/s, epoch=1/1, avg_epoch_loss=6.22]\n",
      "Running evaluation:   0%|          | 0/414 [00:00<?, ?it/s]\n",
      "\u001b[A\n",
      "Running evaluation:   8%|7         | 33/414 [00:10<02:06,  3.01it/s]\n",
      "\u001b[A\n",
      "Running evaluation:  23%|##3       | 97/414 [00:21<01:29,  3.54it/s]\n",
      "\u001b[A\n",
      "Running evaluation:  39%|###8      | 161/414 [00:32<01:02,  4.03it/s]\n",
      "\u001b[A\n",
      "Running evaluation:  54%|#####4    | 225/414 [00:43<00:42,  4.46it/s]\n",
      "\u001b[A\n",
      "Running evaluation:  70%|######9   | 289/414 [00:53<00:25,  4.83it/s]\n",
      "\u001b[A\n",
      "Running evaluation:  70%|######9   | 289/414 [01:04<00:25,  4.83it/s]\n",
      "\u001b[A\n",
      "Running evaluation:  85%|########5 | 353/414 [01:04<00:11,  5.10it/s]\n",
      "\u001b[A\n",
      "Running evaluation: 100%|##########| 414/414 [01:09<00:00,  5.92it/s]\n"
     ]
    },
    {
     "name": "stdout",
     "output_type": "stream",
     "text": [
      "learning rate from ``lr_scheduler`` has been overwritten by ``learning_rate`` in optimizer.\n",
      " 84%|████████▍ | 84/100 [2:08:19<24:23, 91.46s/trial, best loss: 3291.1304598623396]"
     ]
    },
    {
     "name": "stderr",
     "output_type": "stream",
     "text": [
      "  0%|          | 0/50 [00:00<?, ?it/s]\n",
      "\u001b[A\n",
      " 44%|####4     | 22/50 [00:10<00:13,  2.14it/s, epoch=1/1, avg_epoch_loss=6.66]\n",
      "\u001b[A\n",
      " 88%|########8 | 44/50 [00:20<00:02,  2.14it/s, epoch=1/1, avg_epoch_loss=6.21]\n",
      "\u001b[A\n",
      "100%|##########| 50/50 [00:23<00:00,  2.14it/s, epoch=1/1, avg_epoch_loss=6.05]\n",
      "Running evaluation:   0%|          | 0/414 [00:00<?, ?it/s]\n",
      "\u001b[A\n",
      "Running evaluation:  16%|#5        | 65/414 [00:13<01:14,  4.68it/s]\n",
      "\u001b[A\n",
      "Running evaluation:  39%|###8      | 161/414 [00:27<00:48,  5.20it/s]\n",
      "\u001b[A\n",
      "Running evaluation:  39%|###8      | 161/414 [00:38<00:48,  5.20it/s]\n",
      "\u001b[A\n",
      "Running evaluation:  62%|######2   | 257/414 [00:41<00:27,  5.64it/s]\n",
      "\u001b[A\n",
      "Running evaluation:  85%|########5 | 353/414 [00:54<00:10,  6.01it/s]\n",
      "\u001b[A\n",
      "Running evaluation: 100%|##########| 414/414 [00:59<00:00,  7.01it/s]\n"
     ]
    },
    {
     "name": "stdout",
     "output_type": "stream",
     "text": [
      "learning rate from ``lr_scheduler`` has been overwritten by ``learning_rate`` in optimizer.\n",
      " 85%|████████▌ | 85/100 [2:09:44<22:23, 89.54s/trial, best loss: 3291.1304598623396]"
     ]
    },
    {
     "name": "stderr",
     "output_type": "stream",
     "text": [
      "  0%|          | 0/50 [00:00<?, ?it/s]\n",
      "\u001b[A\n",
      " 30%|###       | 15/50 [00:10<00:24,  1.46it/s, epoch=1/1, avg_epoch_loss=6.12]\n",
      "\u001b[A\n",
      " 60%|######    | 30/50 [00:20<00:13,  1.45it/s, epoch=1/1, avg_epoch_loss=6]   \n",
      "\u001b[A\n",
      " 90%|######### | 45/50 [00:31<00:03,  1.44it/s, epoch=1/1, avg_epoch_loss=5.75]\n",
      "\u001b[A\n",
      "100%|##########| 50/50 [00:34<00:00,  1.43it/s, epoch=1/1, avg_epoch_loss=5.55]\n",
      "Running evaluation:   0%|          | 0/414 [00:00<?, ?it/s]\n",
      "\u001b[A\n",
      "Running evaluation:   8%|7         | 33/414 [00:11<02:13,  2.86it/s]\n",
      "\u001b[A\n",
      "Running evaluation:   8%|7         | 33/414 [00:21<02:13,  2.86it/s]\n",
      "\u001b[A\n",
      "Running evaluation:  23%|##3       | 97/414 [00:22<01:34,  3.36it/s]\n",
      "\u001b[A\n",
      "Running evaluation:  39%|###8      | 161/414 [00:33<01:05,  3.84it/s]\n",
      "\u001b[A\n",
      "Running evaluation:  54%|#####4    | 225/414 [00:45<00:44,  4.27it/s]\n",
      "\u001b[A\n",
      "Running evaluation:  70%|######9   | 289/414 [00:56<00:27,  4.62it/s]\n",
      "\u001b[A\n",
      "Running evaluation:  85%|########5 | 353/414 [01:07<00:12,  4.90it/s]\n",
      "\u001b[A\n",
      "Running evaluation: 100%|##########| 414/414 [01:12<00:00,  5.69it/s]\n"
     ]
    },
    {
     "name": "stdout",
     "output_type": "stream",
     "text": [
      "learning rate from ``lr_scheduler`` has been overwritten by ``learning_rate`` in optimizer.\n",
      " 86%|████████▌ | 86/100 [2:11:34<22:20, 95.72s/trial, best loss: 3291.1304598623396]"
     ]
    },
    {
     "name": "stderr",
     "output_type": "stream",
     "text": [
      "  0%|          | 0/50 [00:00<?, ?it/s]\n",
      "\u001b[A\n",
      " 46%|####6     | 23/50 [00:10<00:11,  2.30it/s, epoch=1/1, avg_epoch_loss=6.54]\n",
      "\u001b[A\n",
      " 92%|#########2| 46/50 [00:20<00:01,  2.30it/s, epoch=1/1, avg_epoch_loss=6.19]\n",
      "\u001b[A\n",
      "100%|##########| 50/50 [00:21<00:00,  2.29it/s, epoch=1/1, avg_epoch_loss=5.96]\n",
      "Running evaluation:   0%|          | 0/414 [00:00<?, ?it/s]\n",
      "\u001b[A\n",
      "Running evaluation:  16%|#5        | 65/414 [00:10<00:57,  6.04it/s]\n",
      "\u001b[A\n",
      "Running evaluation:  39%|###8      | 161/414 [00:21<00:37,  6.72it/s]\n",
      "\u001b[A\n",
      "Running evaluation:  62%|######2   | 257/414 [00:31<00:21,  7.31it/s]\n",
      "\u001b[A\n",
      "Running evaluation:  85%|########5 | 353/414 [00:42<00:07,  7.75it/s]\n",
      "\u001b[A\n",
      "Running evaluation: 100%|##########| 414/414 [00:45<00:00,  9.05it/s]\n"
     ]
    },
    {
     "name": "stdout",
     "output_type": "stream",
     "text": [
      "learning rate from ``lr_scheduler`` has been overwritten by ``learning_rate`` in optimizer.\n",
      " 87%|████████▋ | 87/100 [2:12:44<19:04, 88.08s/trial, best loss: 3291.1304598623396]"
     ]
    },
    {
     "name": "stderr",
     "output_type": "stream",
     "text": [
      "  0%|          | 0/50 [00:00<?, ?it/s]\n",
      "\u001b[A\n",
      " 30%|###       | 15/50 [00:10<00:24,  1.42it/s, epoch=1/1, avg_epoch_loss=6.12]\n",
      "\u001b[A\n",
      " 60%|######    | 30/50 [00:21<00:14,  1.41it/s, epoch=1/1, avg_epoch_loss=5.96]\n",
      "\u001b[A\n",
      " 88%|########8 | 44/50 [00:31<00:04,  1.38it/s, epoch=1/1, avg_epoch_loss=5.64]\n",
      "\u001b[A\n",
      "100%|##########| 50/50 [00:36<00:00,  1.37it/s, epoch=1/1, avg_epoch_loss=5.48]\n",
      "Running evaluation:   0%|          | 0/414 [00:00<?, ?it/s]\n",
      "\u001b[A\n",
      "Running evaluation:   8%|7         | 33/414 [00:12<02:18,  2.74it/s]\n",
      "\u001b[A\n",
      "Running evaluation:  23%|##3       | 97/414 [00:25<01:40,  3.15it/s]\n",
      "\u001b[A\n",
      "Running evaluation:  39%|###8      | 161/414 [00:37<01:11,  3.55it/s]\n",
      "\u001b[A\n",
      "Running evaluation:  39%|###8      | 161/414 [00:50<01:11,  3.55it/s]\n",
      "\u001b[A\n",
      "Running evaluation:  54%|#####4    | 225/414 [00:51<00:49,  3.82it/s]\n",
      "\u001b[A\n",
      "Running evaluation:  70%|######9   | 289/414 [01:04<00:30,  4.10it/s]\n",
      "\u001b[A\n",
      "Running evaluation:  85%|########5 | 353/414 [01:17<00:13,  4.38it/s]\n",
      "\u001b[A\n",
      "Running evaluation: 100%|##########| 414/414 [01:22<00:00,  5.00it/s]\n"
     ]
    },
    {
     "name": "stdout",
     "output_type": "stream",
     "text": [
      "learning rate from ``lr_scheduler`` has been overwritten by ``learning_rate`` in optimizer.\n",
      " 88%|████████▊ | 88/100 [2:14:46<19:39, 98.31s/trial, best loss: 3291.1304598623396]"
     ]
    },
    {
     "name": "stderr",
     "output_type": "stream",
     "text": [
      "  0%|          | 0/50 [00:00<?, ?it/s]\n",
      "\u001b[A\n",
      " 36%|###6      | 18/50 [00:10<00:17,  1.78it/s, epoch=1/1, avg_epoch_loss=6.62]\n",
      "\u001b[A\n",
      " 76%|#######6  | 38/50 [00:20<00:06,  1.83it/s, epoch=1/1, avg_epoch_loss=5.8] \n",
      "\u001b[A\n",
      "100%|##########| 50/50 [00:26<00:00,  1.91it/s, epoch=1/1, avg_epoch_loss=5.54]\n",
      "Running evaluation:   0%|          | 0/414 [00:00<?, ?it/s]\n",
      "\u001b[A\n",
      "Running evaluation:  16%|#5        | 65/414 [00:12<01:08,  5.08it/s]\n",
      "\u001b[A\n",
      "Running evaluation:  39%|###8      | 161/414 [00:25<00:44,  5.65it/s]\n",
      "\u001b[A\n",
      "Running evaluation:  62%|######2   | 257/414 [00:37<00:25,  6.14it/s]\n",
      "\u001b[A\n",
      "Running evaluation:  62%|######2   | 257/414 [00:48<00:25,  6.14it/s]\n",
      "\u001b[A\n",
      "Running evaluation:  85%|########5 | 353/414 [00:50<00:09,  6.53it/s]\n",
      "\u001b[A\n",
      "Running evaluation: 100%|##########| 414/414 [00:54<00:00,  7.62it/s]\n"
     ]
    },
    {
     "name": "stdout",
     "output_type": "stream",
     "text": [
      "learning rate from ``lr_scheduler`` has been overwritten by ``learning_rate`` in optimizer.\n",
      " 89%|████████▉ | 89/100 [2:16:10<17:12, 93.83s/trial, best loss: 3291.1304598623396]"
     ]
    },
    {
     "name": "stderr",
     "output_type": "stream",
     "text": [
      "  0%|          | 0/50 [00:00<?, ?it/s]\n",
      "\u001b[A\n",
      " 26%|##6       | 13/50 [00:10<00:29,  1.27it/s, epoch=1/1, avg_epoch_loss=6.65]\n",
      "\u001b[A\n",
      " 52%|#####2    | 26/50 [00:20<00:18,  1.27it/s, epoch=1/1, avg_epoch_loss=6.27]\n",
      "\u001b[A\n",
      " 52%|#####2    | 26/50 [00:30<00:18,  1.27it/s, epoch=1/1, avg_epoch_loss=6.04]\n",
      "\u001b[A\n",
      " 76%|#######6  | 38/50 [00:31<00:09,  1.22it/s, epoch=1/1, avg_epoch_loss=6.02]\n",
      "\u001b[A\n",
      "100%|##########| 50/50 [00:40<00:00,  1.23it/s, epoch=1/1, avg_epoch_loss=5.78]\n",
      "Running evaluation:   0%|          | 0/414 [00:00<?, ?it/s]\n",
      "\u001b[A\n",
      "Running evaluation:   8%|7         | 33/414 [00:13<02:30,  2.53it/s]\n",
      "\u001b[A\n",
      "Running evaluation:  23%|##3       | 97/414 [00:25<01:46,  2.98it/s]\n",
      "\u001b[A\n",
      "Running evaluation:  39%|###8      | 161/414 [00:38<01:14,  3.38it/s]\n",
      "\u001b[A\n",
      "Running evaluation:  39%|###8      | 161/414 [00:50<01:14,  3.38it/s]\n",
      "\u001b[A\n",
      "Running evaluation:  54%|#####4    | 225/414 [00:51<00:50,  3.72it/s]\n",
      "\u001b[A\n",
      "Running evaluation:  70%|######9   | 289/414 [01:05<00:31,  3.99it/s]\n",
      "\u001b[A\n",
      "Running evaluation:  85%|########5 | 353/414 [01:18<00:14,  4.21it/s]\n",
      "\u001b[A\n",
      "Running evaluation: 100%|##########| 414/414 [01:24<00:00,  4.89it/s]\n"
     ]
    },
    {
     "name": "stdout",
     "output_type": "stream",
     "text": [
      "learning rate from ``lr_scheduler`` has been overwritten by ``learning_rate`` in optimizer.\n",
      " 90%|█████████ | 90/100 [2:18:18<17:22, 104.23s/trial, best loss: 3291.1304598623396]"
     ]
    },
    {
     "name": "stderr",
     "output_type": "stream",
     "text": [
      "  0%|          | 0/50 [00:00<?, ?it/s]\n",
      "\u001b[A\n",
      " 36%|###6      | 18/50 [00:10<00:18,  1.75it/s, epoch=1/1, avg_epoch_loss=6.35]\n",
      "\u001b[A\n",
      " 74%|#######4  | 37/50 [00:20<00:07,  1.77it/s, epoch=1/1, avg_epoch_loss=5.58]\n",
      "\u001b[A\n",
      "100%|##########| 50/50 [00:27<00:00,  1.79it/s, epoch=1/1, avg_epoch_loss=5.45]\n",
      "Running evaluation:   0%|          | 0/414 [00:00<?, ?it/s]\n",
      "\u001b[A\n",
      "Running evaluation:   8%|7         | 33/414 [00:10<01:57,  3.25it/s]\n",
      "\u001b[A\n",
      "Running evaluation:   8%|7         | 33/414 [00:24<01:57,  3.25it/s]\n",
      "\u001b[A\n",
      "Running evaluation:  31%|###1      | 129/414 [00:24<01:14,  3.83it/s]\n",
      "\u001b[A\n",
      "Running evaluation:  54%|#####4    | 225/414 [00:39<00:43,  4.38it/s]\n",
      "\u001b[A\n",
      "Running evaluation:  78%|#######7  | 321/414 [00:53<00:19,  4.87it/s]\n",
      "\u001b[A\n",
      "Running evaluation: 100%|##########| 414/414 [01:03<00:00,  6.54it/s]\n"
     ]
    },
    {
     "name": "stdout",
     "output_type": "stream",
     "text": [
      "learning rate from ``lr_scheduler`` has been overwritten by ``learning_rate`` in optimizer.\n",
      " 91%|█████████ | 91/100 [2:19:52<15:10, 101.14s/trial, best loss: 3291.1304598623396]"
     ]
    },
    {
     "name": "stderr",
     "output_type": "stream",
     "text": [
      "  0%|          | 0/50 [00:00<?, ?it/s]\n",
      "\u001b[A\n",
      " 30%|###       | 15/50 [00:10<00:24,  1.45it/s, epoch=1/1, avg_epoch_loss=6.13]\n",
      "\u001b[A\n",
      " 60%|######    | 30/50 [00:20<00:13,  1.45it/s, epoch=1/1, avg_epoch_loss=6.05]\n",
      "\u001b[A\n",
      " 90%|######### | 45/50 [00:30<00:03,  1.46it/s, epoch=1/1, avg_epoch_loss=5.95]\n",
      "\u001b[A\n",
      "100%|##########| 50/50 [00:34<00:00,  1.46it/s, epoch=1/1, avg_epoch_loss=5.63]\n",
      "Running evaluation:   0%|          | 0/414 [00:00<?, ?it/s]\n",
      "\u001b[A\n",
      "Running evaluation:  16%|#5        | 65/414 [00:13<01:12,  4.82it/s]\n",
      "\u001b[A\n",
      "Running evaluation:  16%|#5        | 65/414 [00:24<01:12,  4.82it/s]\n",
      "\u001b[A\n",
      "Running evaluation:  39%|###8      | 161/414 [00:26<00:47,  5.37it/s]\n",
      "\u001b[A\n",
      "Running evaluation:  62%|######2   | 257/414 [00:39<00:26,  5.84it/s]\n",
      "\u001b[A\n",
      "Running evaluation:  85%|########5 | 353/414 [00:52<00:09,  6.23it/s]\n",
      "\u001b[A\n",
      "Running evaluation: 100%|##########| 414/414 [00:56<00:00,  7.29it/s]\n"
     ]
    },
    {
     "name": "stdout",
     "output_type": "stream",
     "text": [
      "learning rate from ``lr_scheduler`` has been overwritten by ``learning_rate`` in optimizer.\n",
      " 92%|█████████▏| 92/100 [2:21:26<13:11, 98.88s/trial, best loss: 3291.1304598623396]"
     ]
    },
    {
     "name": "stderr",
     "output_type": "stream",
     "text": [
      "  0%|          | 0/50 [00:00<?, ?it/s]\n",
      "\u001b[A\n",
      " 42%|####2     | 21/50 [00:10<00:13,  2.09it/s, epoch=1/1, avg_epoch_loss=6.8]\n",
      "\u001b[A\n",
      " 84%|########4 | 42/50 [00:20<00:03,  2.09it/s, epoch=1/1, avg_epoch_loss=5.95]\n",
      "\u001b[A\n",
      "100%|##########| 50/50 [00:23<00:00,  2.09it/s, epoch=1/1, avg_epoch_loss=5.97]\n",
      "Running evaluation:   0%|          | 0/414 [00:00<?, ?it/s]\n",
      "\u001b[A\n",
      "Running evaluation:  16%|#5        | 65/414 [00:13<01:13,  4.77it/s]\n",
      "\u001b[A\n",
      "Running evaluation:  39%|###8      | 161/414 [00:26<00:47,  5.31it/s]\n",
      "\u001b[A\n",
      "Running evaluation:  62%|######2   | 257/414 [00:40<00:27,  5.76it/s]\n",
      "\u001b[A\n",
      "Running evaluation:  62%|######2   | 257/414 [00:51<00:27,  5.76it/s]\n",
      "\u001b[A\n",
      "Running evaluation:  85%|########5 | 353/414 [00:53<00:09,  6.13it/s]\n",
      "\u001b[A\n",
      "Running evaluation: 100%|##########| 414/414 [00:57<00:00,  7.15it/s]\n"
     ]
    },
    {
     "name": "stdout",
     "output_type": "stream",
     "text": [
      "learning rate from ``lr_scheduler`` has been overwritten by ``learning_rate`` in optimizer.\n",
      " 93%|█████████▎| 93/100 [2:22:50<11:01, 94.54s/trial, best loss: 3291.1304598623396]"
     ]
    },
    {
     "name": "stderr",
     "output_type": "stream",
     "text": [
      "  0%|          | 0/50 [00:00<?, ?it/s]\n",
      "\u001b[A\n",
      " 44%|####4     | 22/50 [00:10<00:13,  2.15it/s, epoch=1/1, avg_epoch_loss=6.53]\n",
      "\u001b[A\n",
      " 88%|########8 | 44/50 [00:20<00:02,  2.15it/s, epoch=1/1, avg_epoch_loss=5.69]\n",
      "\u001b[A\n",
      "100%|##########| 50/50 [00:23<00:00,  2.15it/s, epoch=1/1, avg_epoch_loss=5.85]\n",
      "Running evaluation:   0%|          | 0/414 [00:00<?, ?it/s]\n",
      "\u001b[A\n",
      "Running evaluation:  16%|#5        | 65/414 [00:12<01:07,  5.20it/s]\n",
      "\u001b[A\n",
      "Running evaluation:  39%|###8      | 161/414 [00:24<00:43,  5.79it/s]\n",
      "\u001b[A\n",
      "Running evaluation:  62%|######2   | 257/414 [00:36<00:24,  6.29it/s]\n",
      "\u001b[A\n",
      "Running evaluation:  62%|######2   | 257/414 [00:47<00:24,  6.29it/s]\n",
      "\u001b[A\n",
      "Running evaluation:  85%|########5 | 353/414 [00:49<00:09,  6.66it/s]\n",
      "\u001b[A\n",
      "Running evaluation: 100%|##########| 414/414 [00:53<00:00,  7.78it/s]\n"
     ]
    },
    {
     "name": "stdout",
     "output_type": "stream",
     "text": [
      "learning rate from ``lr_scheduler`` has been overwritten by ``learning_rate`` in optimizer.\n",
      " 94%|█████████▍| 94/100 [2:24:09<08:59, 89.89s/trial, best loss: 3291.1304598623396]"
     ]
    },
    {
     "name": "stderr",
     "output_type": "stream",
     "text": [
      "  0%|          | 0/50 [00:00<?, ?it/s]\n",
      "\u001b[A\n",
      " 30%|###       | 15/50 [00:10<00:24,  1.42it/s, epoch=1/1, avg_epoch_loss=6.2]\n",
      "\u001b[A\n",
      " 60%|######    | 30/50 [00:21<00:14,  1.41it/s, epoch=1/1, avg_epoch_loss=6.17]\n",
      "\u001b[A\n",
      " 60%|######    | 30/50 [00:31<00:14,  1.41it/s, epoch=1/1, avg_epoch_loss=5.91]\n",
      "\u001b[A\n",
      " 90%|######### | 45/50 [00:32<00:03,  1.41it/s, epoch=1/1, avg_epoch_loss=5.83]\n",
      "\u001b[A\n",
      "100%|##########| 50/50 [00:35<00:00,  1.40it/s, epoch=1/1, avg_epoch_loss=5.55]\n",
      "Running evaluation:   0%|          | 0/414 [00:00<?, ?it/s]\n",
      "\u001b[A\n",
      "Running evaluation:   8%|7         | 33/414 [00:11<02:17,  2.77it/s]\n",
      "\u001b[A\n",
      "Running evaluation:  23%|##3       | 97/414 [00:23<01:37,  3.26it/s]\n",
      "\u001b[A\n",
      "Running evaluation:  39%|###8      | 161/414 [00:35<01:08,  3.71it/s]\n",
      "\u001b[A\n",
      "Running evaluation:  39%|###8      | 161/414 [00:45<01:08,  3.71it/s]\n",
      "\u001b[A\n",
      "Running evaluation:  54%|#####4    | 225/414 [00:46<00:45,  4.12it/s]\n",
      "\u001b[A\n",
      "Running evaluation:  70%|######9   | 289/414 [00:58<00:28,  4.46it/s]\n",
      "\u001b[A\n",
      "Running evaluation:  85%|########5 | 353/414 [01:10<00:12,  4.72it/s]\n",
      "\u001b[A\n",
      "Running evaluation: 100%|##########| 414/414 [01:15<00:00,  5.48it/s]\n"
     ]
    },
    {
     "name": "stdout",
     "output_type": "stream",
     "text": [
      "learning rate from ``lr_scheduler`` has been overwritten by ``learning_rate`` in optimizer.\n",
      " 95%|█████████▌| 95/100 [2:26:03<08:05, 97.05s/trial, best loss: 3291.1304598623396]"
     ]
    },
    {
     "name": "stderr",
     "output_type": "stream",
     "text": [
      "  0%|          | 0/50 [00:00<?, ?it/s]\n",
      "\u001b[A\n",
      " 42%|####2     | 21/50 [00:10<00:13,  2.08it/s, epoch=1/1, avg_epoch_loss=6.15]\n",
      "\u001b[A\n",
      " 84%|########4 | 42/50 [00:20<00:03,  2.08it/s, epoch=1/1, avg_epoch_loss=5.74]\n",
      "\u001b[A\n",
      "100%|##########| 50/50 [00:24<00:00,  2.08it/s, epoch=1/1, avg_epoch_loss=5.58]\n",
      "Running evaluation:   0%|          | 0/414 [00:00<?, ?it/s]\n",
      "\u001b[A\n",
      "Running evaluation:  16%|#5        | 65/414 [00:14<01:15,  4.60it/s]\n",
      "\u001b[A\n",
      "Running evaluation:  39%|###8      | 161/414 [00:27<00:49,  5.12it/s]\n",
      "\u001b[A\n",
      "Running evaluation:  62%|######2   | 257/414 [00:41<00:28,  5.57it/s]\n",
      "\u001b[A\n",
      "Running evaluation:  62%|######2   | 257/414 [00:53<00:28,  5.57it/s]\n",
      "\u001b[A\n",
      "Running evaluation:  85%|########5 | 353/414 [00:55<00:10,  5.91it/s]\n",
      "\u001b[A\n",
      "Running evaluation: 100%|##########| 414/414 [00:59<00:00,  6.91it/s]\n"
     ]
    },
    {
     "name": "stdout",
     "output_type": "stream",
     "text": [
      "learning rate from ``lr_scheduler`` has been overwritten by ``learning_rate`` in optimizer.\n",
      " 96%|█████████▌| 96/100 [2:27:30<06:15, 93.94s/trial, best loss: 3291.1304598623396]"
     ]
    },
    {
     "name": "stderr",
     "output_type": "stream",
     "text": [
      "  0%|          | 0/50 [00:00<?, ?it/s]\n",
      "\u001b[A\n",
      " 30%|###       | 15/50 [00:10<00:24,  1.40it/s, epoch=1/1, avg_epoch_loss=5.86]\n",
      "\u001b[A\n",
      " 30%|###       | 15/50 [00:21<00:24,  1.40it/s, epoch=1/1, avg_epoch_loss=5.49]\n",
      "\u001b[A\n",
      " 60%|######    | 30/50 [00:21<00:14,  1.40it/s, epoch=1/1, avg_epoch_loss=5.57]\n",
      "\u001b[A\n",
      " 90%|######### | 45/50 [00:32<00:03,  1.40it/s, epoch=1/1, avg_epoch_loss=5.7] \n",
      "\u001b[A\n",
      "100%|##########| 50/50 [00:35<00:00,  1.40it/s, epoch=1/1, avg_epoch_loss=5.47]\n",
      "Running evaluation:   0%|          | 0/414 [00:00<?, ?it/s]\n",
      "\u001b[A\n",
      "Running evaluation:   8%|7         | 33/414 [00:12<02:19,  2.73it/s]\n",
      "\u001b[A\n",
      "Running evaluation:  23%|##3       | 97/414 [00:23<01:38,  3.21it/s]\n",
      "\u001b[A\n",
      "Running evaluation:  23%|##3       | 97/414 [00:35<01:38,  3.21it/s]\n",
      "\u001b[A\n",
      "Running evaluation:  39%|###8      | 161/414 [00:35<01:09,  3.65it/s]\n",
      "\u001b[A\n",
      "Running evaluation:  54%|#####4    | 225/414 [00:47<00:46,  4.04it/s]\n",
      "\u001b[A\n",
      "Running evaluation:  70%|######9   | 289/414 [00:59<00:28,  4.38it/s]\n",
      "\u001b[A\n",
      "Running evaluation:  85%|########5 | 353/414 [01:11<00:13,  4.64it/s]\n",
      "\u001b[A\n",
      "Running evaluation: 100%|##########| 414/414 [01:16<00:00,  5.38it/s]\n"
     ]
    },
    {
     "name": "stdout",
     "output_type": "stream",
     "text": [
      "learning rate from ``lr_scheduler`` has been overwritten by ``learning_rate`` in optimizer.\n",
      " 97%|█████████▋| 97/100 [2:29:25<05:00, 100.33s/trial, best loss: 3291.1304598623396]"
     ]
    },
    {
     "name": "stderr",
     "output_type": "stream",
     "text": [
      "  0%|          | 0/50 [00:00<?, ?it/s]\n",
      "\u001b[A\n",
      " 42%|####2     | 21/50 [00:10<00:13,  2.08it/s, epoch=1/1, avg_epoch_loss=6.8]\n",
      "\u001b[A\n",
      " 86%|########6 | 43/50 [00:20<00:03,  2.09it/s, epoch=1/1, avg_epoch_loss=5.93]\n",
      "\u001b[A\n",
      "100%|##########| 50/50 [00:23<00:00,  2.10it/s, epoch=1/1, avg_epoch_loss=5.76]\n",
      "Running evaluation:   0%|          | 0/414 [00:00<?, ?it/s]\n",
      "\u001b[A\n",
      "Running evaluation:  16%|#5        | 65/414 [00:13<01:12,  4.84it/s]\n",
      "\u001b[A\n",
      "Running evaluation:  39%|###8      | 161/414 [00:26<00:47,  5.38it/s]\n",
      "\u001b[A\n",
      "Running evaluation:  62%|######2   | 257/414 [00:39<00:26,  5.84it/s]\n",
      "\u001b[A\n",
      "Running evaluation:  62%|######2   | 257/414 [00:52<00:26,  5.84it/s]\n",
      "\u001b[A\n",
      "Running evaluation:  85%|########5 | 353/414 [00:53<00:09,  6.21it/s]\n",
      "\u001b[A\n",
      "Running evaluation: 100%|##########| 414/414 [00:57<00:00,  7.23it/s]\n"
     ]
    },
    {
     "name": "stdout",
     "output_type": "stream",
     "text": [
      "learning rate from ``lr_scheduler`` has been overwritten by ``learning_rate`` in optimizer.\n",
      " 98%|█████████▊| 98/100 [2:30:49<03:10, 95.34s/trial, best loss: 3291.1304598623396]"
     ]
    },
    {
     "name": "stderr",
     "output_type": "stream",
     "text": [
      "  0%|          | 0/50 [00:00<?, ?it/s]\n",
      "\u001b[A\n",
      " 30%|###       | 15/50 [00:10<00:24,  1.43it/s, epoch=1/1, avg_epoch_loss=5.93]\n",
      "\u001b[A\n",
      " 62%|######2   | 31/50 [00:21<00:13,  1.45it/s, epoch=1/1, avg_epoch_loss=5.73]\n",
      "\u001b[A\n",
      " 94%|#########3| 47/50 [00:31<00:02,  1.47it/s, epoch=1/1, avg_epoch_loss=5.73]\n",
      "\u001b[A\n",
      "100%|##########| 50/50 [00:33<00:00,  1.48it/s, epoch=1/1, avg_epoch_loss=5.61]\n",
      "Running evaluation:   0%|          | 0/414 [00:00<?, ?it/s]\n",
      "\u001b[A\n",
      "Running evaluation:  16%|#5        | 65/414 [00:13<01:10,  4.92it/s]\n",
      "\u001b[A\n",
      "Running evaluation:  39%|###8      | 161/414 [00:26<00:46,  5.47it/s]\n",
      "\u001b[A\n",
      "Running evaluation:  39%|###8      | 161/414 [00:38<00:46,  5.47it/s]\n",
      "\u001b[A\n",
      "Running evaluation:  62%|######2   | 257/414 [00:39<00:26,  5.94it/s]\n",
      "\u001b[A\n",
      "Running evaluation:  85%|########5 | 353/414 [00:51<00:09,  6.33it/s]\n",
      "\u001b[A\n",
      "Running evaluation: 100%|##########| 414/414 [00:56<00:00,  7.38it/s]\n"
     ]
    },
    {
     "name": "stdout",
     "output_type": "stream",
     "text": [
      "learning rate from ``lr_scheduler`` has been overwritten by ``learning_rate`` in optimizer.\n",
      " 99%|█████████▉| 99/100 [2:32:21<01:34, 94.45s/trial, best loss: 3291.1304598623396]"
     ]
    },
    {
     "name": "stderr",
     "output_type": "stream",
     "text": [
      "  0%|          | 0/50 [00:00<?, ?it/s]\n",
      "\u001b[A\n",
      " 44%|####4     | 22/50 [00:10<00:13,  2.10it/s, epoch=1/1, avg_epoch_loss=6.23]\n",
      "\u001b[A\n",
      " 88%|########8 | 44/50 [00:20<00:02,  2.10it/s, epoch=1/1, avg_epoch_loss=5.97]\n",
      "\u001b[A\n",
      "100%|##########| 50/50 [00:23<00:00,  2.11it/s, epoch=1/1, avg_epoch_loss=5.65]\n",
      "Running evaluation:   0%|          | 0/414 [00:00<?, ?it/s]\n",
      "\u001b[A\n",
      "Running evaluation:  16%|#5        | 65/414 [00:13<01:15,  4.64it/s]\n",
      "\u001b[A\n",
      "Running evaluation:  16%|#5        | 65/414 [00:26<01:15,  4.64it/s]\n",
      "\u001b[A\n",
      "Running evaluation:  39%|###8      | 161/414 [00:27<00:49,  5.16it/s]\n",
      "\u001b[A\n",
      "Running evaluation:  62%|######2   | 257/414 [00:41<00:28,  5.60it/s]\n",
      "\u001b[A\n",
      "Running evaluation:  85%|########5 | 353/414 [00:55<00:10,  5.96it/s]\n",
      "\u001b[A\n",
      "Running evaluation: 100%|##########| 414/414 [00:59<00:00,  6.95it/s]\n"
     ]
    },
    {
     "name": "stdout",
     "output_type": "stream",
     "text": [
      "100%|██████████| 100/100 [2:33:47<00:00, 92.27s/trial, best loss: 3291.1304598623396]\n",
      "{'ct': 0, 'ed': 1, 'lr': 0.0006028651142341776, 'nc': 2, 'nl': 0}\n"
     ]
    }
   ],
   "source": [
    "# minimize the objective over the space\n",
    "import hyperopt\n",
    "from hyperopt import fmin, tpe\n",
    "best = fmin(objective, space, algo=tpe.suggest, max_evals=100)\n",
    "\n",
    "print(best)"
   ]
  },
  {
   "cell_type": "code",
   "execution_count": 43,
   "metadata": {
    "colab": {
     "base_uri": "https://localhost:8080/",
     "height": 34
    },
    "colab_type": "code",
    "id": "IhmUnMUSSVKh",
    "outputId": "d5e3bb4a-dcee-4783-9a81-e058d2407a77"
   },
   "outputs": [
    {
     "data": {
      "text/plain": [
       "{'ct': 0, 'ed': 1, 'lr': 0.0006028651142341776, 'nc': 2, 'nl': 0}"
      ]
     },
     "execution_count": 43,
     "metadata": {
      "tags": []
     },
     "output_type": "execute_result"
    }
   ],
   "source": [
    "best"
   ]
  },
  {
   "cell_type": "markdown",
   "metadata": {
    "colab_type": "text",
    "id": "uM24POj_LKH6"
   },
   "source": [
    "### 탐색된 값을 이용해서 모델 학습"
   ]
  },
  {
   "cell_type": "code",
   "execution_count": null,
   "metadata": {
    "colab": {},
    "colab_type": "code",
    "id": "Eei6ZMAySCwr"
   },
   "outputs": [],
   "source": [
    "    kwargs = {\n",
    "        'freq': dataset.metadata.freq,\n",
    "        'prediction_length': dataset.metadata.prediction_length,\n",
    "        'trainer': Trainer(ctx=\"cpu\", learning_rate=best['lr'], epochs=100, hybridize=False),\n",
    "        'num_layers': space_num_layers[best['nl']],\n",
    "        'num_cells': space_num_cells[best['nc']],\n",
    "        'use_feat_static_cat': True,\n",
    "        'embedding_dimension': space_embedding_dimension[best['ed']],\n",
    "        'cardinality': [int(dataset.metadata.feat_static_cat[0].cardinality)],\n",
    "        'cell_type': space_cell_type[best['ct']],\n",
    "    }\n",
    "    Estimator = DeepAREstimator(**kwargs)"
   ]
  },
  {
   "cell_type": "code",
   "execution_count": 45,
   "metadata": {
    "colab": {
     "base_uri": "https://localhost:8080/",
     "height": 1000
    },
    "colab_type": "code",
    "id": "UR5bD12GV3oc",
    "outputId": "5e50cbd0-c391-4b4e-8869-11aa48a8671c"
   },
   "outputs": [
    {
     "name": "stderr",
     "output_type": "stream",
     "text": [
      "  0%|          | 0/50 [00:00<?, ?it/s]"
     ]
    },
    {
     "name": "stdout",
     "output_type": "stream",
     "text": [
      "learning rate from ``lr_scheduler`` has been overwritten by ``learning_rate`` in optimizer.\n"
     ]
    },
    {
     "name": "stderr",
     "output_type": "stream",
     "text": [
      "100%|██████████| 50/50 [00:23<00:00,  2.10it/s, epoch=1/100, avg_epoch_loss=5.62]\n",
      "100%|██████████| 50/50 [00:23<00:00,  2.10it/s, epoch=2/100, avg_epoch_loss=4.74]\n",
      "100%|██████████| 50/50 [00:23<00:00,  2.10it/s, epoch=3/100, avg_epoch_loss=4.78]\n",
      "100%|██████████| 50/50 [00:23<00:00,  2.11it/s, epoch=4/100, avg_epoch_loss=4.73]\n",
      "100%|██████████| 50/50 [00:23<00:00,  2.11it/s, epoch=5/100, avg_epoch_loss=4.63]\n",
      "100%|██████████| 50/50 [00:24<00:00,  2.08it/s, epoch=6/100, avg_epoch_loss=4.24]\n",
      "100%|██████████| 50/50 [00:23<00:00,  2.10it/s, epoch=7/100, avg_epoch_loss=4.56]\n",
      "100%|██████████| 50/50 [00:23<00:00,  2.12it/s, epoch=8/100, avg_epoch_loss=4.36]\n",
      "100%|██████████| 50/50 [00:23<00:00,  2.12it/s, epoch=9/100, avg_epoch_loss=4.58]\n",
      "100%|██████████| 50/50 [00:23<00:00,  2.13it/s, epoch=10/100, avg_epoch_loss=4.08]\n",
      "100%|██████████| 50/50 [00:23<00:00,  2.13it/s, epoch=11/100, avg_epoch_loss=4.11]\n",
      "100%|██████████| 50/50 [00:23<00:00,  2.13it/s, epoch=12/100, avg_epoch_loss=4.62]\n",
      "100%|██████████| 50/50 [00:23<00:00,  2.15it/s, epoch=13/100, avg_epoch_loss=4.6] \n",
      "100%|██████████| 50/50 [00:23<00:00,  2.14it/s, epoch=14/100, avg_epoch_loss=4.51]\n",
      "100%|██████████| 50/50 [00:23<00:00,  2.12it/s, epoch=15/100, avg_epoch_loss=4.31]\n",
      "100%|██████████| 50/50 [00:23<00:00,  2.13it/s, epoch=16/100, avg_epoch_loss=4.31]\n",
      "100%|██████████| 50/50 [00:23<00:00,  2.13it/s, epoch=17/100, avg_epoch_loss=3.88]\n",
      "100%|██████████| 50/50 [00:23<00:00,  2.15it/s, epoch=18/100, avg_epoch_loss=4.11]\n",
      "100%|██████████| 50/50 [00:23<00:00,  2.11it/s, epoch=19/100, avg_epoch_loss=4.27]\n",
      "100%|██████████| 50/50 [00:23<00:00,  2.11it/s, epoch=20/100, avg_epoch_loss=3.82]\n",
      "100%|██████████| 50/50 [00:23<00:00,  2.13it/s, epoch=21/100, avg_epoch_loss=4.62]\n",
      "100%|██████████| 50/50 [00:23<00:00,  2.14it/s, epoch=22/100, avg_epoch_loss=4.18]\n",
      "100%|██████████| 50/50 [00:23<00:00,  2.14it/s, epoch=23/100, avg_epoch_loss=4.27]\n",
      "100%|██████████| 50/50 [00:23<00:00,  2.13it/s, epoch=24/100, avg_epoch_loss=3.83]\n",
      "100%|██████████| 50/50 [00:23<00:00,  2.16it/s, epoch=25/100, avg_epoch_loss=4.11]\n",
      "100%|██████████| 50/50 [00:23<00:00,  2.17it/s, epoch=26/100, avg_epoch_loss=4.1] \n",
      "100%|██████████| 50/50 [00:23<00:00,  2.16it/s, epoch=27/100, avg_epoch_loss=4.65]\n",
      "100%|██████████| 50/50 [00:23<00:00,  2.15it/s, epoch=28/100, avg_epoch_loss=3.78]\n",
      "100%|██████████| 50/50 [00:23<00:00,  2.15it/s, epoch=29/100, avg_epoch_loss=4.44]\n",
      "100%|██████████| 50/50 [00:23<00:00,  2.16it/s, epoch=30/100, avg_epoch_loss=4.02]\n",
      "100%|██████████| 50/50 [00:23<00:00,  2.17it/s, epoch=31/100, avg_epoch_loss=3.96]\n",
      "100%|██████████| 50/50 [00:22<00:00,  2.17it/s, epoch=32/100, avg_epoch_loss=4.07]\n",
      "100%|██████████| 50/50 [00:23<00:00,  2.13it/s, epoch=33/100, avg_epoch_loss=4.12]\n",
      "100%|██████████| 50/50 [00:22<00:00,  2.18it/s, epoch=34/100, avg_epoch_loss=3.92]\n",
      "100%|██████████| 50/50 [00:22<00:00,  2.19it/s, epoch=35/100, avg_epoch_loss=3.77]\n",
      "100%|██████████| 50/50 [00:22<00:00,  2.20it/s, epoch=36/100, avg_epoch_loss=4.06]\n",
      "100%|██████████| 50/50 [00:22<00:00,  2.22it/s, epoch=37/100, avg_epoch_loss=3.81]\n",
      "100%|██████████| 50/50 [00:22<00:00,  2.21it/s, epoch=38/100, avg_epoch_loss=3.48]\n",
      "100%|██████████| 50/50 [00:22<00:00,  2.21it/s, epoch=39/100, avg_epoch_loss=3.91]\n",
      "100%|██████████| 50/50 [00:22<00:00,  2.21it/s, epoch=40/100, avg_epoch_loss=3.74]\n",
      "100%|██████████| 50/50 [00:22<00:00,  2.23it/s, epoch=41/100, avg_epoch_loss=4.28]\n",
      "100%|██████████| 50/50 [00:22<00:00,  2.21it/s, epoch=42/100, avg_epoch_loss=3.86]\n",
      "100%|██████████| 50/50 [00:22<00:00,  2.21it/s, epoch=43/100, avg_epoch_loss=4.28]\n",
      "100%|██████████| 50/50 [00:22<00:00,  2.23it/s, epoch=44/100, avg_epoch_loss=3.65]\n",
      "100%|██████████| 50/50 [00:22<00:00,  2.25it/s, epoch=45/100, avg_epoch_loss=4.04]\n",
      "100%|██████████| 50/50 [00:22<00:00,  2.23it/s, epoch=46/100, avg_epoch_loss=3.51]\n",
      "100%|██████████| 50/50 [00:22<00:00,  2.21it/s, epoch=47/100, avg_epoch_loss=3.7] \n",
      "100%|██████████| 50/50 [00:22<00:00,  2.23it/s, epoch=48/100, avg_epoch_loss=4.12]\n",
      "100%|██████████| 50/50 [00:22<00:00,  2.25it/s, epoch=49/100, avg_epoch_loss=3.72]\n",
      "100%|██████████| 50/50 [00:21<00:00,  2.27it/s, epoch=50/100, avg_epoch_loss=4.35]\n",
      "100%|██████████| 50/50 [00:22<00:00,  2.26it/s, epoch=51/100, avg_epoch_loss=3.82]\n",
      "100%|██████████| 50/50 [00:21<00:00,  2.29it/s, epoch=52/100, avg_epoch_loss=3.52]\n",
      "100%|██████████| 50/50 [00:23<00:00,  2.15it/s, epoch=53/100, avg_epoch_loss=3.51]\n",
      "100%|██████████| 50/50 [00:24<00:00,  2.05it/s, epoch=54/100, avg_epoch_loss=3.53]\n",
      "100%|██████████| 50/50 [00:29<00:00,  1.71it/s, epoch=55/100, avg_epoch_loss=3.83]\n",
      "100%|██████████| 50/50 [00:34<00:00,  1.44it/s, epoch=56/100, avg_epoch_loss=4.01]\n",
      "100%|██████████| 50/50 [00:35<00:00,  1.42it/s, epoch=57/100, avg_epoch_loss=3.61]\n",
      "100%|██████████| 50/50 [00:25<00:00,  1.98it/s, epoch=58/100, avg_epoch_loss=3.6] \n",
      "100%|██████████| 50/50 [00:24<00:00,  2.02it/s, epoch=59/100, avg_epoch_loss=3.39]\n",
      "100%|██████████| 50/50 [00:24<00:00,  2.03it/s, epoch=60/100, avg_epoch_loss=3.23]\n",
      "100%|██████████| 50/50 [00:26<00:00,  1.90it/s, epoch=61/100, avg_epoch_loss=3.58]\n",
      "100%|██████████| 50/50 [00:29<00:00,  1.70it/s, epoch=62/100, avg_epoch_loss=3.39]\n",
      "100%|██████████| 50/50 [00:26<00:00,  1.90it/s, epoch=63/100, avg_epoch_loss=3.46]\n",
      "100%|██████████| 50/50 [00:27<00:00,  1.83it/s, epoch=64/100, avg_epoch_loss=3.27]\n",
      "100%|██████████| 50/50 [00:26<00:00,  1.92it/s, epoch=65/100, avg_epoch_loss=3.35]\n",
      "100%|██████████| 50/50 [00:24<00:00,  2.00it/s, epoch=66/100, avg_epoch_loss=3.43]\n",
      "100%|██████████| 50/50 [00:24<00:00,  2.04it/s, epoch=67/100, avg_epoch_loss=3.48]\n",
      "100%|██████████| 50/50 [00:24<00:00,  2.07it/s, epoch=68/100, avg_epoch_loss=3.33]\n",
      "100%|██████████| 50/50 [00:24<00:00,  2.07it/s, epoch=69/100, avg_epoch_loss=3.41]\n",
      "100%|██████████| 50/50 [00:23<00:00,  2.08it/s, epoch=70/100, avg_epoch_loss=3.49]\n",
      "100%|██████████| 50/50 [00:24<00:00,  2.05it/s, epoch=71/100, avg_epoch_loss=3.34]\n",
      "100%|██████████| 50/50 [00:24<00:00,  2.08it/s, epoch=72/100, avg_epoch_loss=3.72]\n",
      "100%|██████████| 50/50 [00:24<00:00,  2.08it/s, epoch=73/100, avg_epoch_loss=3.36]\n",
      "100%|██████████| 50/50 [00:24<00:00,  2.06it/s, epoch=74/100, avg_epoch_loss=3.53]\n",
      "100%|██████████| 50/50 [00:24<00:00,  2.06it/s, epoch=75/100, avg_epoch_loss=3.6] \n",
      "100%|██████████| 50/50 [00:24<00:00,  2.07it/s, epoch=76/100, avg_epoch_loss=3.46]\n",
      "100%|██████████| 50/50 [00:24<00:00,  2.07it/s, epoch=77/100, avg_epoch_loss=3.56]\n",
      "100%|██████████| 50/50 [00:24<00:00,  2.07it/s, epoch=78/100, avg_epoch_loss=3.34]\n",
      "100%|██████████| 50/50 [00:24<00:00,  2.06it/s, epoch=79/100, avg_epoch_loss=3.62]\n",
      "100%|██████████| 50/50 [00:24<00:00,  2.08it/s, epoch=80/100, avg_epoch_loss=3.07]\n",
      "100%|██████████| 50/50 [00:24<00:00,  2.08it/s, epoch=81/100, avg_epoch_loss=3.63]\n",
      "100%|██████████| 50/50 [00:24<00:00,  2.06it/s, epoch=82/100, avg_epoch_loss=3.46]\n",
      "100%|██████████| 50/50 [00:23<00:00,  2.10it/s, epoch=83/100, avg_epoch_loss=3.62]\n",
      "100%|██████████| 50/50 [00:24<00:00,  2.07it/s, epoch=84/100, avg_epoch_loss=3.38]\n",
      "100%|██████████| 50/50 [00:23<00:00,  2.11it/s, epoch=85/100, avg_epoch_loss=3.44]\n",
      "100%|██████████| 50/50 [00:23<00:00,  2.11it/s, epoch=86/100, avg_epoch_loss=3.23]\n",
      "100%|██████████| 50/50 [00:23<00:00,  2.11it/s, epoch=87/100, avg_epoch_loss=3.42]\n",
      "100%|██████████| 50/50 [00:23<00:00,  2.11it/s, epoch=88/100, avg_epoch_loss=3.33]\n",
      "100%|██████████| 50/50 [00:23<00:00,  2.12it/s, epoch=89/100, avg_epoch_loss=3.63]\n",
      "100%|██████████| 50/50 [00:23<00:00,  2.13it/s, epoch=90/100, avg_epoch_loss=3.62]\n",
      "100%|██████████| 50/50 [00:23<00:00,  2.13it/s, epoch=91/100, avg_epoch_loss=3.22]\n",
      "100%|██████████| 50/50 [00:23<00:00,  2.13it/s, epoch=92/100, avg_epoch_loss=3.24]\n",
      "100%|██████████| 50/50 [00:23<00:00,  2.14it/s, epoch=93/100, avg_epoch_loss=3.28]\n",
      "100%|██████████| 50/50 [00:23<00:00,  2.14it/s, epoch=94/100, avg_epoch_loss=3.31]\n",
      "100%|██████████| 50/50 [00:23<00:00,  2.14it/s, epoch=95/100, avg_epoch_loss=3.27]\n",
      "100%|██████████| 50/50 [00:22<00:00,  2.17it/s, epoch=96/100, avg_epoch_loss=3.47]\n",
      "100%|██████████| 50/50 [00:23<00:00,  2.15it/s, epoch=97/100, avg_epoch_loss=3.55]\n",
      "100%|██████████| 50/50 [00:23<00:00,  2.15it/s, epoch=98/100, avg_epoch_loss=3.24]\n",
      "100%|██████████| 50/50 [00:23<00:00,  2.17it/s, epoch=99/100, avg_epoch_loss=3.34]\n",
      "100%|██████████| 50/50 [00:23<00:00,  2.17it/s, epoch=100/100, avg_epoch_loss=3.45]\n"
     ]
    }
   ],
   "source": [
    "predictor = Estimator.train(dataset.train)"
   ]
  },
  {
   "cell_type": "code",
   "execution_count": 46,
   "metadata": {
    "colab": {
     "base_uri": "https://localhost:8080/",
     "height": 496
    },
    "colab_type": "code",
    "id": "GIMtiJyXV3og",
    "outputId": "5404100a-a998-44da-e15c-c10b4d941f9d"
   },
   "outputs": [
    {
     "name": "stderr",
     "output_type": "stream",
     "text": [
      "Running evaluation: 100%|██████████| 414/414 [00:00<00:00, 13959.32it/s]\n"
     ]
    },
    {
     "name": "stdout",
     "output_type": "stream",
     "text": [
      "{\n",
      "    \"MSE\": 11404481.354284063,\n",
      "    \"abs_error\": 10111671.245807648,\n",
      "    \"abs_target_sum\": 145558863.59960938,\n",
      "    \"abs_target_mean\": 7324.822041043147,\n",
      "    \"seasonal_error\": 336.9046924038302,\n",
      "    \"MASE\": 2.333333654873358,\n",
      "    \"MAPE\": 0.14001955869578406,\n",
      "    \"sMAPE\": 0.13698648541067157,\n",
      "    \"OWA\": NaN,\n",
      "    \"MSIS\": 27.2664757790818,\n",
      "    \"QuantileLoss[0.1]\": 3954275.5656981473,\n",
      "    \"Coverage[0.1]\": 0.047151771336553905,\n",
      "    \"QuantileLoss[0.5]\": 10111671.094428062,\n",
      "    \"Coverage[0.5]\": 0.21401972624798715,\n",
      "    \"QuantileLoss[0.9]\": 5814418.021376991,\n",
      "    \"Coverage[0.9]\": 0.6522745571658611,\n",
      "    \"RMSE\": 3377.05216931632,\n",
      "    \"NRMSE\": 0.4610422137758019,\n",
      "    \"ND\": 0.0694679183098183,\n",
      "    \"wQuantileLoss[0.1]\": 0.027166161289739275,\n",
      "    \"wQuantileLoss[0.5]\": 0.06946791726982951,\n",
      "    \"wQuantileLoss[0.9]\": 0.039945475511342164,\n",
      "    \"mean_wQuantileLoss\": 0.04552651802363699,\n",
      "    \"MAE_Coverage\": 0.19551798174986593\n",
      "}\n"
     ]
    }
   ],
   "source": [
    "forecast_it, ts_it = make_evaluation_predictions(\n",
    "    dataset=dataset.test, \n",
    "    predictor=predictor, \n",
    "    num_samples=100, \n",
    ")\n",
    "forecasts = list(forecast_it)\n",
    "tss = list(ts_it)\n",
    "evaluator = Evaluator(quantiles=[0.1, 0.5, 0.9])\n",
    "agg_metrics, item_metrics = evaluator(iter(tss), iter(forecasts), num_series=len(dataset.test))\n",
    "print(json.dumps(agg_metrics, indent=4))"
   ]
  },
  {
   "cell_type": "code",
   "execution_count": null,
   "metadata": {
    "colab": {},
    "colab_type": "code",
    "id": "p0Sqo-4hV3ol"
   },
   "outputs": [],
   "source": []
  },
  {
   "cell_type": "code",
   "execution_count": null,
   "metadata": {
    "colab": {},
    "colab_type": "code",
    "id": "EtNOfFFbV3oo"
   },
   "outputs": [],
   "source": []
  },
  {
   "cell_type": "code",
   "execution_count": null,
   "metadata": {
    "colab": {},
    "colab_type": "code",
    "id": "ZydDGJStV3oq"
   },
   "outputs": [],
   "source": []
  },
  {
   "cell_type": "code",
   "execution_count": null,
   "metadata": {
    "colab": {},
    "colab_type": "code",
    "id": "k9V-pacxVrw-"
   },
   "outputs": [],
   "source": []
  },
  {
   "cell_type": "code",
   "execution_count": null,
   "metadata": {
    "colab": {},
    "colab_type": "code",
    "id": "PEsQDgumVrtj"
   },
   "outputs": [],
   "source": []
  },
  {
   "cell_type": "code",
   "execution_count": null,
   "metadata": {
    "colab": {},
    "colab_type": "code",
    "id": "DTPNXk8yVrqw"
   },
   "outputs": [],
   "source": []
  },
  {
   "cell_type": "code",
   "execution_count": null,
   "metadata": {
    "colab": {},
    "colab_type": "code",
    "id": "-CaqA8BKVrkP"
   },
   "outputs": [],
   "source": []
  },
  {
   "cell_type": "code",
   "execution_count": null,
   "metadata": {
    "colab": {},
    "colab_type": "code",
    "id": "FwlmCVwrVrgh"
   },
   "outputs": [],
   "source": []
  },
  {
   "cell_type": "code",
   "execution_count": null,
   "metadata": {
    "colab": {},
    "colab_type": "code",
    "id": "OjO4Y2sVUK1h"
   },
   "outputs": [],
   "source": []
  }
 ],
 "metadata": {
  "colab": {
   "collapsed_sections": [
    "fy4faTqGUoxS",
    "OjjjZv_uD7L_",
    "OWJ9jeRZO9GB",
    "h0WoHFeGPo0-",
    "nznVHsOFTpbl",
    "iv_-hkX_UMp0"
   ],
   "include_colab_link": true,
   "name": "DeepAR_Electricity_HPO_share",
   "provenance": []
  },
  "kernelspec": {
   "display_name": "Python 3",
   "language": "python",
   "name": "python3"
  },
  "language_info": {
   "codemirror_mode": {
    "name": "ipython",
    "version": 3
   },
   "file_extension": ".py",
   "mimetype": "text/x-python",
   "name": "python",
   "nbconvert_exporter": "python",
   "pygments_lexer": "ipython3",
   "version": "3.7.6"
  }
 },
 "nbformat": 4,
 "nbformat_minor": 4
}
