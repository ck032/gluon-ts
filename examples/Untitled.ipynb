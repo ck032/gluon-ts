{
 "cells": [
  {
   "cell_type": "markdown",
   "metadata": {},
   "source": [
    "This is the sample code to check the environment for running GluonTS.\n",
    "\n",
    "Before running sample.py, please check requirement.txt and install required packages.\n",
    "\n",
    "Sample.py includes two deep learning models, DeepAR and MQCNN.\n",
    "\n",
    "Papers about two models for time series forecasting:\n",
    "\n",
    "DeepAR: https://arxiv.org/pdf/1704.04110.pdf\n",
    "\n",
    "MQCNN: https://jeddy92.github.io/JEddy92.github.io/ts_seq2seq_conv/ (wavenet)"
   ]
  },
  {
   "cell_type": "code",
   "execution_count": 15,
   "metadata": {},
   "outputs": [],
   "source": [
    "from functools import partial\n",
    "\n",
    "import pandas as pd\n",
    "\n",
    "import sys\n",
    "sys.path.insert(0,'/home/chenkai/Documents/git_projects/gluon-ts/src')\n",
    "\n",
    "\n",
    "from gluonts.dataset.repository.datasets import get_dataset\n",
    "from gluonts.evaluation import Evaluator\n",
    "from gluonts.evaluation.backtest import make_evaluation_predictions\n",
    "from gluonts.trainer import Trainer"
   ]
  },
  {
   "cell_type": "code",
   "execution_count": 16,
   "metadata": {},
   "outputs": [],
   "source": [
    "from gluonts.model.deepar import DeepAREstimator\n",
    "from gluonts.model.seq2seq import MQCNNEstimator"
   ]
  },
  {
   "cell_type": "code",
   "execution_count": 17,
   "metadata": {},
   "outputs": [],
   "source": [
    "epochs = 5\n",
    "num_batches_per_epoch = 10\n",
    "dataset_name = \"m4_hourly\"\n",
    "dataset = get_dataset(dataset_name)"
   ]
  },
  {
   "cell_type": "code",
   "execution_count": 19,
   "metadata": {},
   "outputs": [
    {
     "name": "stderr",
     "output_type": "stream",
     "text": [
      "\r",
      "  0%|          | 0/10 [00:00<?, ?it/s]"
     ]
    },
    {
     "name": "stdout",
     "output_type": "stream",
     "text": [
      "learning rate from ``lr_scheduler`` has been overwritten by ``learning_rate`` in optimizer.\n"
     ]
    },
    {
     "name": "stderr",
     "output_type": "stream",
     "text": [
      "100%|██████████| 10/10 [00:00<00:00, 10.18it/s, epoch=1/5, avg_epoch_loss=6.47]\n",
      "100%|██████████| 10/10 [00:00<00:00, 10.84it/s, epoch=2/5, avg_epoch_loss=6.45]\n",
      "100%|██████████| 10/10 [00:00<00:00, 10.12it/s, epoch=3/5, avg_epoch_loss=4.54]\n",
      "100%|██████████| 10/10 [00:00<00:00, 11.95it/s, epoch=4/5, avg_epoch_loss=4.39]\n",
      "100%|██████████| 10/10 [00:00<00:00, 11.56it/s, epoch=5/5, avg_epoch_loss=5.21]\n",
      "Running evaluation: 100%|██████████| 414/414 [00:13<00:00, 31.35it/s]\n",
      "  0%|          | 0/10 [00:00<?, ?it/s]"
     ]
    },
    {
     "name": "stdout",
     "output_type": "stream",
     "text": [
      "learning rate from ``lr_scheduler`` has been overwritten by ``learning_rate`` in optimizer.\n"
     ]
    },
    {
     "name": "stderr",
     "output_type": "stream",
     "text": [
      "100%|██████████| 10/10 [00:01<00:00,  9.97it/s, epoch=1/5, avg_epoch_loss=1.05e+3]\n",
      "100%|██████████| 10/10 [00:01<00:00,  9.19it/s, epoch=2/5, avg_epoch_loss=1.01e+3]\n",
      "100%|██████████| 10/10 [00:00<00:00, 10.58it/s, epoch=3/5, avg_epoch_loss=863]\n",
      "100%|██████████| 10/10 [00:00<00:00, 10.67it/s, epoch=4/5, avg_epoch_loss=148]\n",
      "100%|██████████| 10/10 [00:01<00:00,  8.79it/s, epoch=5/5, avg_epoch_loss=429]\n",
      "Running evaluation: 100%|██████████| 414/414 [00:01<00:00, 391.08it/s]\n"
     ]
    },
    {
     "name": "stdout",
     "output_type": "stream",
     "text": [
      "     dataset        estimator  mean_wQuantileLoss\n",
      "0  m4_hourly  DeepAREstimator            0.084096\n",
      "1  m4_hourly   MQCNNEstimator            0.425345\n"
     ]
    }
   ],
   "source": [
    "results = []\n",
    "# If you want to use GPU, please set ctx=\"gpu(0)\"　/ ctx=\"cpu\"\n",
    "estimators = [\n",
    "    partial(\n",
    "        DeepAREstimator,\n",
    "        trainer=Trainer(\n",
    "            ctx=\"cpu\",\n",
    "            epochs=epochs,\n",
    "            num_batches_per_epoch=num_batches_per_epoch\n",
    "        )\n",
    "    ),\n",
    "    partial(\n",
    "        MQCNNEstimator,\n",
    "        trainer=Trainer(\n",
    "            ctx=\"cpu\",\n",
    "            epochs=epochs,\n",
    "            num_batches_per_epoch=num_batches_per_epoch\n",
    "        )\n",
    "    ),\n",
    "]\n",
    "\n",
    "for estimator in estimators:\n",
    "    estimator = estimator(\n",
    "        prediction_length=dataset.metadata.prediction_length,\n",
    "        freq=dataset.metadata.freq\n",
    "    )\n",
    "    predictor = estimator.train(dataset.train)\n",
    "    forecast_it, ts_it = make_evaluation_predictions(\n",
    "        dataset.test, predictor=predictor, num_samples=100\n",
    "    )\n",
    "\n",
    "    agg_metrics, item_metrics = Evaluator()(\n",
    "        ts_it, forecast_it, num_series=len(dataset.test)\n",
    "    )\n",
    "\n",
    "    eval_dict = agg_metrics\n",
    "    eval_dict[\"dataset\"] = dataset_name\n",
    "    eval_dict[\"estimator\"] = type(estimator).__name__\n",
    "    results.append(eval_dict)\n",
    "\n",
    "df = pd.DataFrame(results)\n",
    "sub_df = df[\n",
    "    [\n",
    "        \"dataset\",\n",
    "        \"estimator\",\n",
    "        \"mean_wQuantileLoss\",\n",
    "    ]\n",
    "]\n",
    "print(sub_df)"
   ]
  },
  {
   "cell_type": "code",
   "execution_count": 21,
   "metadata": {
    "scrolled": true
   },
   "outputs": [
    {
     "data": {
      "text/plain": [
       "Index(['MSE', 'abs_error', 'abs_target_sum', 'abs_target_mean',\n",
       "       'seasonal_error', 'MASE', 'MAPE', 'sMAPE', 'OWA', 'MSIS',\n",
       "       'QuantileLoss[0.1]', 'Coverage[0.1]', 'QuantileLoss[0.2]',\n",
       "       'Coverage[0.2]', 'QuantileLoss[0.3]', 'Coverage[0.3]',\n",
       "       'QuantileLoss[0.4]', 'Coverage[0.4]', 'QuantileLoss[0.5]',\n",
       "       'Coverage[0.5]', 'QuantileLoss[0.6]', 'Coverage[0.6]',\n",
       "       'QuantileLoss[0.7]', 'Coverage[0.7]', 'QuantileLoss[0.8]',\n",
       "       'Coverage[0.8]', 'QuantileLoss[0.9]', 'Coverage[0.9]', 'RMSE', 'NRMSE',\n",
       "       'ND', 'wQuantileLoss[0.1]', 'wQuantileLoss[0.2]', 'wQuantileLoss[0.3]',\n",
       "       'wQuantileLoss[0.4]', 'wQuantileLoss[0.5]', 'wQuantileLoss[0.6]',\n",
       "       'wQuantileLoss[0.7]', 'wQuantileLoss[0.8]', 'wQuantileLoss[0.9]',\n",
       "       'mean_wQuantileLoss', 'MAE_Coverage', 'dataset', 'estimator'],\n",
       "      dtype='object')"
      ]
     },
     "execution_count": 21,
     "metadata": {},
     "output_type": "execute_result"
    }
   ],
   "source": [
    "df.columns"
   ]
  },
  {
   "cell_type": "code",
   "execution_count": 22,
   "metadata": {},
   "outputs": [
    {
     "data": {
      "text/html": [
       "<div>\n",
       "<style scoped>\n",
       "    .dataframe tbody tr th:only-of-type {\n",
       "        vertical-align: middle;\n",
       "    }\n",
       "\n",
       "    .dataframe tbody tr th {\n",
       "        vertical-align: top;\n",
       "    }\n",
       "\n",
       "    .dataframe thead th {\n",
       "        text-align: right;\n",
       "    }\n",
       "</style>\n",
       "<table border=\"1\" class=\"dataframe\">\n",
       "  <thead>\n",
       "    <tr style=\"text-align: right;\">\n",
       "      <th></th>\n",
       "      <th>dataset</th>\n",
       "      <th>estimator</th>\n",
       "      <th>MSE</th>\n",
       "      <th>RMSE</th>\n",
       "    </tr>\n",
       "  </thead>\n",
       "  <tbody>\n",
       "    <tr>\n",
       "      <th>0</th>\n",
       "      <td>m4_hourly</td>\n",
       "      <td>DeepAREstimator</td>\n",
       "      <td>2.062212e+07</td>\n",
       "      <td>4541.158042</td>\n",
       "    </tr>\n",
       "    <tr>\n",
       "      <th>1</th>\n",
       "      <td>m4_hourly</td>\n",
       "      <td>MQCNNEstimator</td>\n",
       "      <td>NaN</td>\n",
       "      <td>NaN</td>\n",
       "    </tr>\n",
       "  </tbody>\n",
       "</table>\n",
       "</div>"
      ],
      "text/plain": [
       "     dataset        estimator           MSE         RMSE\n",
       "0  m4_hourly  DeepAREstimator  2.062212e+07  4541.158042\n",
       "1  m4_hourly   MQCNNEstimator           NaN          NaN"
      ]
     },
     "execution_count": 22,
     "metadata": {},
     "output_type": "execute_result"
    }
   ],
   "source": [
    "sub_df = df[\n",
    "    [\n",
    "        \"dataset\",\n",
    "        \"estimator\",\n",
    "        \"MSE\",\n",
    "        \"RMSE\"\n",
    "    ]\n",
    "]\n",
    "\n",
    "sub_df"
   ]
  }
 ],
 "metadata": {
  "kernelspec": {
   "display_name": "Python 3",
   "language": "python",
   "name": "python3"
  },
  "language_info": {
   "codemirror_mode": {
    "name": "ipython",
    "version": 3
   },
   "file_extension": ".py",
   "mimetype": "text/x-python",
   "name": "python",
   "nbconvert_exporter": "python",
   "pygments_lexer": "ipython3",
   "version": "3.7.6"
  }
 },
 "nbformat": 4,
 "nbformat_minor": 4
}
